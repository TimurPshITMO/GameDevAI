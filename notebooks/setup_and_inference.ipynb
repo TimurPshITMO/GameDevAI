{
 "cells": [
  {
   "cell_type": "markdown",
   "id": "9ab4efcd-c64e-41b1-9465-ae08f3e677ae",
   "metadata": {
    "jp-MarkdownHeadingCollapsed": true,
    "tags": []
   },
   "source": [
    "### Клонирование TRELLIS"
   ]
  },
  {
   "cell_type": "code",
   "execution_count": 1,
   "id": "c33f57b1-9e88-4c05-99a8-2d9ee632cded",
   "metadata": {
    "execution": {
     "iopub.execute_input": "2025-08-02T16:34:55.639163Z",
     "iopub.status.busy": "2025-08-02T16:34:55.637736Z",
     "iopub.status.idle": "2025-08-02T16:36:41.970030Z",
     "shell.execute_reply": "2025-08-02T16:36:41.968828Z",
     "shell.execute_reply.started": "2025-08-02T16:34:55.639121Z"
    },
    "tags": []
   },
   "outputs": [
    {
     "name": "stdout",
     "output_type": "stream",
     "text": [
      "Submodule path 'trellis/representations/mesh/flexicubes': checked out '815e075a2a400d06c48d94c347674344ed6ae5c5'\n"
     ]
    },
    {
     "name": "stderr",
     "output_type": "stream",
     "text": [
      "Cloning into './submodules/TRELLIS'...\n",
      "Updating files: 100% (221/221), done.\n",
      "Submodule 'trellis/representations/mesh/flexicubes' (https://github.com/MaxtirError/FlexiCubes.git) registered for path 'trellis/representations/mesh/flexicubes'\n",
      "Cloning into '/home/jupyter/work/resources/test_project/submodules/TRELLIS/trellis/representations/mesh/flexicubes'...\n"
     ]
    }
   ],
   "source": [
    "!git clone --recurse-submodules https://github.com/microsoft/TRELLIS.git ./submodules/TRELLIS"
   ]
  },
  {
   "cell_type": "markdown",
   "id": "b7ff3527-e1e6-4c5e-b790-a702b6830ca0",
   "metadata": {
    "jp-MarkdownHeadingCollapsed": true,
    "tags": []
   },
   "source": [
    "### Проверка дров и cuda-toolkit"
   ]
  },
  {
   "cell_type": "code",
   "execution_count": 1,
   "id": "d564542b-715b-45a1-abcc-ec83eb013e33",
   "metadata": {
    "execution": {
     "iopub.execute_input": "2025-08-02T19:45:27.081861Z",
     "iopub.status.busy": "2025-08-02T19:45:27.080588Z",
     "iopub.status.idle": "2025-08-02T19:45:27.240013Z",
     "shell.execute_reply": "2025-08-02T19:45:27.238871Z",
     "shell.execute_reply.started": "2025-08-02T19:45:27.081823Z"
    },
    "tags": []
   },
   "outputs": [
    {
     "name": "stdout",
     "output_type": "stream",
     "text": [
      "Sat Aug  2 19:45:27 2025       \n",
      "+---------------------------------------------------------------------------------------+\n",
      "| NVIDIA-SMI 535.261.03             Driver Version: 535.261.03   CUDA Version: 12.2     |\n",
      "|-----------------------------------------+----------------------+----------------------+\n",
      "| GPU  Name                 Persistence-M | Bus-Id        Disp.A | Volatile Uncorr. ECC |\n",
      "| Fan  Temp   Perf          Pwr:Usage/Cap |         Memory-Usage | GPU-Util  Compute M. |\n",
      "|                                         |                      |               MIG M. |\n",
      "|=========================================+======================+======================|\n",
      "|   0  Tesla V100-PCIE-32GB           On  | 00000000:8C:00.0 Off |                    0 |\n",
      "| N/A   28C    P0              23W / 250W |      4MiB / 32768MiB |      0%      Default |\n",
      "|                                         |                      |                  N/A |\n",
      "+-----------------------------------------+----------------------+----------------------+\n",
      "                                                                                         \n",
      "+---------------------------------------------------------------------------------------+\n",
      "| Processes:                                                                            |\n",
      "|  GPU   GI   CI        PID   Type   Process name                            GPU Memory |\n",
      "|        ID   ID                                                             Usage      |\n",
      "|=======================================================================================|\n",
      "|    0   N/A  N/A       858      G   /usr/lib/xorg/Xorg                            4MiB |\n",
      "+---------------------------------------------------------------------------------------+\n"
     ]
    }
   ],
   "source": [
    "! nvidia-smi"
   ]
  },
  {
   "cell_type": "code",
   "execution_count": 2,
   "id": "6c7e4450-7d29-489a-8b76-29a8cefa1da4",
   "metadata": {
    "execution": {
     "iopub.execute_input": "2025-08-02T19:45:30.638539Z",
     "iopub.status.busy": "2025-08-02T19:45:30.637125Z",
     "iopub.status.idle": "2025-08-02T19:45:30.773728Z",
     "shell.execute_reply": "2025-08-02T19:45:30.772308Z",
     "shell.execute_reply.started": "2025-08-02T19:45:30.638489Z"
    },
    "tags": []
   },
   "outputs": [
    {
     "name": "stdout",
     "output_type": "stream",
     "text": [
      "nvcc: NVIDIA (R) Cuda compiler driver\n",
      "Copyright (c) 2005-2022 NVIDIA Corporation\n",
      "Built on Wed_Sep_21_10:33:58_PDT_2022\n",
      "Cuda compilation tools, release 11.8, V11.8.89\n",
      "Build cuda_11.8.r11.8/compiler.31833905_0\n"
     ]
    }
   ],
   "source": [
    "! nvcc --version"
   ]
  },
  {
   "cell_type": "markdown",
   "id": "003ed998-32c0-4604-8faf-c296f28d66ee",
   "metadata": {
    "jp-MarkdownHeadingCollapsed": true,
    "tags": []
   },
   "source": [
    "### Установка зависимостей"
   ]
  },
  {
   "cell_type": "code",
   "execution_count": 3,
   "id": "067e374e-f037-420e-a268-90f16353e5d8",
   "metadata": {
    "execution": {
     "iopub.execute_input": "2025-08-02T19:45:36.627043Z",
     "iopub.status.busy": "2025-08-02T19:45:36.625685Z",
     "iopub.status.idle": "2025-08-02T19:45:36.668642Z",
     "shell.execute_reply": "2025-08-02T19:45:36.667344Z",
     "shell.execute_reply.started": "2025-08-02T19:45:36.627006Z"
    },
    "tags": []
   },
   "outputs": [
    {
     "name": "stdout",
     "output_type": "stream",
     "text": [
      "1.24.1\n"
     ]
    }
   ],
   "source": [
    "import numpy as np\n",
    "print(np.__version__)"
   ]
  },
  {
   "cell_type": "code",
   "execution_count": 8,
   "id": "d5de27e5-0005-4dd6-b563-748c24d9826b",
   "metadata": {
    "execution": {
     "iopub.execute_input": "2025-08-02T18:51:05.293532Z",
     "iopub.status.busy": "2025-08-02T18:51:05.292059Z",
     "iopub.status.idle": "2025-08-02T19:11:09.289611Z",
     "shell.execute_reply": "2025-08-02T19:11:09.288373Z",
     "shell.execute_reply.started": "2025-08-02T18:51:05.293482Z"
    },
    "tags": []
   },
   "outputs": [
    {
     "name": "stdout",
     "output_type": "stream",
     "text": [
      "Defaulting to user installation because normal site-packages is not writeable\n",
      "Looking in indexes: https://download.pytorch.org/whl/cu118\n",
      "Collecting numpy==1.24.1\n",
      "  Downloading https://download.pytorch.org/whl/numpy-1.24.1-cp310-cp310-manylinux_2_17_x86_64.manylinux2014_x86_64.whl (17.3 MB)\n",
      "\u001b[2K     \u001b[90m━━━━━━━━━━━━━━━━━━━━━━━━━━━━━━━━━━━━━━━━\u001b[0m \u001b[32m17.3/17.3 MB\u001b[0m \u001b[31m71.2 MB/s\u001b[0m eta \u001b[36m0:00:00\u001b[0ma \u001b[36m0:00:01\u001b[0m\n",
      "\u001b[?25hCollecting torch==2.4.0\n",
      "  Downloading https://download.pytorch.org/whl/cu118/torch-2.4.0%2Bcu118-cp310-cp310-linux_x86_64.whl (857.7 MB)\n",
      "\u001b[2K     \u001b[90m━━━━━━━━━━━━━━━━━━━━━━━━━━━━━━━━━━━━━━\u001b[0m \u001b[32m857.7/857.7 MB\u001b[0m \u001b[31m15.7 MB/s\u001b[0m eta \u001b[36m0:00:00\u001b[0m00:01\u001b[0m00:01\u001b[0m\n",
      "\u001b[?25hCollecting torchvision==0.19.0\n",
      "  Downloading https://download.pytorch.org/whl/cu118/torchvision-0.19.0%2Bcu118-cp310-cp310-linux_x86_64.whl (6.3 MB)\n",
      "\u001b[2K     \u001b[90m━━━━━━━━━━━━━━━━━━━━━━━━━━━━━━━━━━━━━━━━\u001b[0m \u001b[32m6.3/6.3 MB\u001b[0m \u001b[31m47.7 MB/s\u001b[0m eta \u001b[36m0:00:00\u001b[0m\n",
      "\u001b[?25hCollecting torchaudio==2.4.0\n",
      "  Downloading https://download.pytorch.org/whl/cu118/torchaudio-2.4.0%2Bcu118-cp310-cp310-linux_x86_64.whl (3.3 MB)\n",
      "\u001b[2K     \u001b[90m━━━━━━━━━━━━━━━━━━━━━━━━━━━━━━━━━━━━━━━━\u001b[0m \u001b[32m3.3/3.3 MB\u001b[0m \u001b[31m36.4 MB/s\u001b[0m eta \u001b[36m0:00:00\u001b[0m\n",
      "\u001b[?25hCollecting filelock (from torch==2.4.0)\n",
      "  Downloading https://download.pytorch.org/whl/filelock-3.13.1-py3-none-any.whl.metadata (2.8 kB)\n",
      "Collecting typing-extensions>=4.8.0 (from torch==2.4.0)\n",
      "  Downloading https://download.pytorch.org/whl/typing_extensions-4.12.2-py3-none-any.whl.metadata (3.0 kB)\n",
      "Collecting sympy (from torch==2.4.0)\n",
      "  Downloading https://download.pytorch.org/whl/sympy-1.13.3-py3-none-any.whl.metadata (12 kB)\n",
      "Collecting networkx (from torch==2.4.0)\n",
      "  Downloading https://download.pytorch.org/whl/networkx-3.3-py3-none-any.whl.metadata (5.1 kB)\n",
      "Collecting jinja2 (from torch==2.4.0)\n",
      "  Downloading https://download.pytorch.org/whl/Jinja2-3.1.4-py3-none-any.whl.metadata (2.6 kB)\n",
      "Collecting fsspec (from torch==2.4.0)\n",
      "  Downloading https://download.pytorch.org/whl/fsspec-2024.6.1-py3-none-any.whl.metadata (11 kB)\n",
      "Collecting nvidia-cuda-nvrtc-cu11==11.8.89 (from torch==2.4.0)\n",
      "  Downloading https://download.pytorch.org/whl/cu118/nvidia_cuda_nvrtc_cu11-11.8.89-py3-none-manylinux1_x86_64.whl (23.2 MB)\n",
      "\u001b[2K     \u001b[90m━━━━━━━━━━━━━━━━━━━━━━━━━━━━━━━━━━━━━━━━\u001b[0m \u001b[32m23.2/23.2 MB\u001b[0m \u001b[31m75.0 MB/s\u001b[0m eta \u001b[36m0:00:00\u001b[0m00:01\u001b[0m\n",
      "\u001b[?25hCollecting nvidia-cuda-runtime-cu11==11.8.89 (from torch==2.4.0)\n",
      "  Downloading https://download.pytorch.org/whl/cu118/nvidia_cuda_runtime_cu11-11.8.89-py3-none-manylinux1_x86_64.whl (875 kB)\n",
      "\u001b[2K     \u001b[90m━━━━━━━━━━━━━━━━━━━━━━━━━━━━━━━━━━━━━━\u001b[0m \u001b[32m875.6/875.6 kB\u001b[0m \u001b[31m25.6 MB/s\u001b[0m eta \u001b[36m0:00:00\u001b[0m\n",
      "\u001b[?25hCollecting nvidia-cuda-cupti-cu11==11.8.87 (from torch==2.4.0)\n",
      "  Downloading https://download.pytorch.org/whl/cu118/nvidia_cuda_cupti_cu11-11.8.87-py3-none-manylinux1_x86_64.whl (13.1 MB)\n",
      "\u001b[2K     \u001b[90m━━━━━━━━━━━━━━━━━━━━━━━━━━━━━━━━━━━━━━━━\u001b[0m \u001b[32m13.1/13.1 MB\u001b[0m \u001b[31m93.9 MB/s\u001b[0m eta \u001b[36m0:00:00\u001b[0m\n",
      "\u001b[?25hCollecting nvidia-cudnn-cu11==9.1.0.70 (from torch==2.4.0)\n",
      "  Downloading https://download.pytorch.org/whl/cu118/nvidia_cudnn_cu11-9.1.0.70-py3-none-manylinux2014_x86_64.whl (663.9 MB)\n",
      "\u001b[2K     \u001b[90m━━━━━━━━━━━━━━━━━━━━━━━━━━━━━━━━━━━━━━\u001b[0m \u001b[32m663.9/663.9 MB\u001b[0m \u001b[31m12.7 MB/s\u001b[0m eta \u001b[36m0:00:00\u001b[0m00:01\u001b[0m00:01\u001b[0m\n",
      "\u001b[?25hCollecting nvidia-cublas-cu11==11.11.3.6 (from torch==2.4.0)\n",
      "  Downloading https://download.pytorch.org/whl/cu118/nvidia_cublas_cu11-11.11.3.6-py3-none-manylinux1_x86_64.whl (417.9 MB)\n",
      "\u001b[2K     \u001b[90m━━━━━━━━━━━━━━━━━━━━━━━━━━━━━━━━━━━━━━\u001b[0m \u001b[32m417.9/417.9 MB\u001b[0m \u001b[31m26.9 MB/s\u001b[0m eta \u001b[36m0:00:00\u001b[0m00:01\u001b[0m00:01\u001b[0m\n",
      "\u001b[?25hCollecting nvidia-cufft-cu11==10.9.0.58 (from torch==2.4.0)\n",
      "  Downloading https://download.pytorch.org/whl/cu118/nvidia_cufft_cu11-10.9.0.58-py3-none-manylinux1_x86_64.whl (168.4 MB)\n",
      "\u001b[2K     \u001b[90m━━━━━━━━━━━━━━━━━━━━━━━━━━━━━━━━━━━━━━\u001b[0m \u001b[32m168.4/168.4 MB\u001b[0m \u001b[31m18.6 MB/s\u001b[0m eta \u001b[36m0:00:00\u001b[0m00:01\u001b[0m00:01\u001b[0m\n",
      "\u001b[?25hCollecting nvidia-curand-cu11==10.3.0.86 (from torch==2.4.0)\n",
      "  Downloading https://download.pytorch.org/whl/cu118/nvidia_curand_cu11-10.3.0.86-py3-none-manylinux1_x86_64.whl (58.1 MB)\n",
      "\u001b[2K     \u001b[90m━━━━━━━━━━━━━━━━━━━━━━━━━━━━━━━━━━━━━━━━\u001b[0m \u001b[32m58.1/58.1 MB\u001b[0m \u001b[31m49.8 MB/s\u001b[0m eta \u001b[36m0:00:00\u001b[0m00:01\u001b[0m00:01\u001b[0m\n",
      "\u001b[?25hCollecting nvidia-cusolver-cu11==11.4.1.48 (from torch==2.4.0)\n",
      "  Downloading https://download.pytorch.org/whl/cu118/nvidia_cusolver_cu11-11.4.1.48-py3-none-manylinux1_x86_64.whl (128.2 MB)\n",
      "\u001b[2K     \u001b[90m━━━━━━━━━━━━━━━━━━━━━━━━━━━━━━━━━━━━━━\u001b[0m \u001b[32m128.2/128.2 MB\u001b[0m \u001b[31m62.9 MB/s\u001b[0m eta \u001b[36m0:00:00\u001b[0m00:01\u001b[0m00:01\u001b[0m\n",
      "\u001b[?25hCollecting nvidia-cusparse-cu11==11.7.5.86 (from torch==2.4.0)\n",
      "  Downloading https://download.pytorch.org/whl/cu118/nvidia_cusparse_cu11-11.7.5.86-py3-none-manylinux1_x86_64.whl (204.1 MB)\n",
      "\u001b[2K     \u001b[90m━━━━━━━━━━━━━━━━━━━━━━━━━━━━━━━━━━━━━━\u001b[0m \u001b[32m204.1/204.1 MB\u001b[0m \u001b[31m53.2 MB/s\u001b[0m eta \u001b[36m0:00:00\u001b[0m00:01\u001b[0m00:01\u001b[0m\n",
      "\u001b[?25hCollecting nvidia-nccl-cu11==2.20.5 (from torch==2.4.0)\n",
      "  Downloading https://download.pytorch.org/whl/cu118/nvidia_nccl_cu11-2.20.5-py3-none-manylinux2014_x86_64.whl (142.9 MB)\n",
      "\u001b[2K     \u001b[90m━━━━━━━━━━━━━━━━━━━━━━━━━━━━━━━━━━━━━━\u001b[0m \u001b[32m142.9/142.9 MB\u001b[0m \u001b[31m17.2 MB/s\u001b[0m eta \u001b[36m0:00:00\u001b[0m00:01\u001b[0m00:01\u001b[0m\n",
      "\u001b[?25hCollecting nvidia-nvtx-cu11==11.8.86 (from torch==2.4.0)\n",
      "  Downloading https://download.pytorch.org/whl/cu118/nvidia_nvtx_cu11-11.8.86-py3-none-manylinux1_x86_64.whl (99 kB)\n",
      "Collecting triton==3.0.0 (from torch==2.4.0)\n",
      "  Downloading https://download.pytorch.org/whl/triton-3.0.0-1-cp310-cp310-manylinux2014_x86_64.manylinux_2_17_x86_64.whl (209.4 MB)\n",
      "\u001b[2K     \u001b[90m━━━━━━━━━━━━━━━━━━━━━━━━━━━━━━━━━━━━━━\u001b[0m \u001b[32m209.4/209.4 MB\u001b[0m \u001b[31m47.9 MB/s\u001b[0m eta \u001b[36m0:00:00\u001b[0m00:01\u001b[0m00:01\u001b[0m\n",
      "\u001b[?25hCollecting pillow!=8.3.*,>=5.3.0 (from torchvision==0.19.0)\n",
      "  Downloading https://download.pytorch.org/whl/pillow-11.0.0-cp310-cp310-manylinux_2_28_x86_64.whl.metadata (9.1 kB)\n",
      "Collecting MarkupSafe>=2.0 (from jinja2->torch==2.4.0)\n",
      "  Downloading https://download.pytorch.org/whl/MarkupSafe-2.1.5-cp310-cp310-manylinux_2_17_x86_64.manylinux2014_x86_64.whl (25 kB)\n",
      "Collecting mpmath<1.4,>=1.1.0 (from sympy->torch==2.4.0)\n",
      "  Downloading https://download.pytorch.org/whl/mpmath-1.3.0-py3-none-any.whl (536 kB)\n",
      "\u001b[2K     \u001b[90m━━━━━━━━━━━━━━━━━━━━━━━━━━━━━━━━━━━━━━━\u001b[0m \u001b[32m536.2/536.2 kB\u001b[0m \u001b[31m3.0 MB/s\u001b[0m eta \u001b[36m0:00:00\u001b[0m\n",
      "\u001b[?25hDownloading https://download.pytorch.org/whl/pillow-11.0.0-cp310-cp310-manylinux_2_28_x86_64.whl (4.4 MB)\n",
      "\u001b[2K   \u001b[90m━━━━━━━━━━━━━━━━━━━━━━━━━━━━━━━━━━━━━━━━\u001b[0m \u001b[32m4.4/4.4 MB\u001b[0m \u001b[31m39.3 MB/s\u001b[0m eta \u001b[36m0:00:00\u001b[0m\n",
      "\u001b[?25hDownloading https://download.pytorch.org/whl/typing_extensions-4.12.2-py3-none-any.whl (37 kB)\n",
      "Downloading https://download.pytorch.org/whl/filelock-3.13.1-py3-none-any.whl (11 kB)\n",
      "Downloading https://download.pytorch.org/whl/fsspec-2024.6.1-py3-none-any.whl (177 kB)\n",
      "Downloading https://download.pytorch.org/whl/Jinja2-3.1.4-py3-none-any.whl (133 kB)\n",
      "Downloading https://download.pytorch.org/whl/networkx-3.3-py3-none-any.whl (1.7 MB)\n",
      "\u001b[2K   \u001b[90m━━━━━━━━━━━━━━━━━━━━━━━━━━━━━━━━━━━━━━━━\u001b[0m \u001b[32m1.7/1.7 MB\u001b[0m \u001b[31m21.7 MB/s\u001b[0m eta \u001b[36m0:00:00\u001b[0m\n",
      "\u001b[?25hDownloading https://download.pytorch.org/whl/sympy-1.13.3-py3-none-any.whl (6.2 MB)\n",
      "\u001b[2K   \u001b[90m━━━━━━━━━━━━━━━━━━━━━━━━━━━━━━━━━━━━━━━━\u001b[0m \u001b[32m6.2/6.2 MB\u001b[0m \u001b[31m25.6 MB/s\u001b[0m eta \u001b[36m0:00:00\u001b[0ma \u001b[36m0:00:01\u001b[0m\n",
      "\u001b[?25hInstalling collected packages: mpmath, typing-extensions, sympy, pillow, nvidia-nvtx-cu11, nvidia-nccl-cu11, nvidia-cusparse-cu11, nvidia-curand-cu11, nvidia-cufft-cu11, nvidia-cuda-runtime-cu11, nvidia-cuda-nvrtc-cu11, nvidia-cuda-cupti-cu11, nvidia-cublas-cu11, numpy, networkx, MarkupSafe, fsspec, filelock, triton, nvidia-cusolver-cu11, nvidia-cudnn-cu11, jinja2, torch, torchvision, torchaudio\n",
      "\u001b[2K  Attempting uninstall: mpmath\n",
      "\u001b[2K    Found existing installation: mpmath 1.3.0\n",
      "\u001b[2K    Uninstalling mpmath-1.3.0:\n",
      "\u001b[2K      Successfully uninstalled mpmath-1.3.0\n",
      "\u001b[2K  Attempting uninstall: typing-extensions━━━━━━━\u001b[0m \u001b[32m 0/25\u001b[0m [mpmath]\n",
      "\u001b[2K    Found existing installation: typing_extensions 4.12.225\u001b[0m [mpmath]\n",
      "\u001b[2K    Uninstalling typing_extensions-4.12.2:━━\u001b[0m \u001b[32m 0/25\u001b[0m [mpmath]\n",
      "\u001b[2K      Successfully uninstalled typing_extensions-4.12.2━━━━━━━━━━━\u001b[0m \u001b[32m 1/25\u001b[0m [typing-extensions]\n",
      "\u001b[2K  Attempting uninstall: sympy━━━━━━━━━━━━━━━━━━━━━━━━━━━━━━━━━━━━━\u001b[0m \u001b[32m 1/25\u001b[0m [typing-extensions]\n",
      "\u001b[2K    Found existing installation: sympy 1.13.3━━━━━━━━━━━━━━━━━\u001b[0m \u001b[32m 1/25\u001b[0m [typing-extensions]\n",
      "\u001b[2K    Uninstalling sympy-1.13.3:━━━━━━━━━━━━━━━━━━━━━━━━━━━━━━━━━━━━\u001b[0m \u001b[32m 2/25\u001b[0m [sympy]ensions]\n",
      "\u001b[2K      Successfully uninstalled sympy-1.13.3━━━━━━━━━━━━━━━━━━━━━━━\u001b[0m \u001b[32m 2/25\u001b[0m [sympy]\n",
      "\u001b[2K   \u001b[91m━━━\u001b[0m\u001b[90m╺\u001b[0m\u001b[90m━━━━━━━━━━━━━━━━━━━━━━━━━━━━━━━━━━━━\u001b[0m \u001b[32m 2/25\u001b[0m [sympy]\u001b[33m  WARNING: The script isympy is installed in '/home/jupyter/.local/bin' which is not on PATH.\n",
      "  Consider adding this directory to PATH or, if you prefer to suppress this warning, use --no-warn-script-location.\u001b[0m\u001b[33m\n",
      "\u001b[2K  Attempting uninstall: pillow━━━━━━━━━━━━━━━━━━━━━━━━━━━━━━━━━━━━\u001b[0m \u001b[32m 2/25\u001b[0m [sympy]\n",
      "\u001b[2K    Found existing installation: pillow 11.0.0━━━━━━━━━━━━━━━━\u001b[0m \u001b[32m 2/25\u001b[0m [sympy]\n",
      "\u001b[2K    Uninstalling pillow-11.0.0:━━━━━━━━━━━━━━━━━━━━━━━━━━━━━━━━━━━\u001b[0m \u001b[32m 3/25\u001b[0m [pillow]\n",
      "\u001b[2K      Successfully uninstalled pillow-11.0.0━━━━━━━━━━━━━━━━━━\u001b[0m \u001b[32m 3/25\u001b[0m [pillow]\n",
      "\u001b[2K   \u001b[91m━━━━\u001b[0m\u001b[91m╸\u001b[0m\u001b[90m━━━━━━━━━━━━━━━━━━━━━━━━━━━━━━━━━━━\u001b[0m \u001b[32m 3/25\u001b[0m [pillow]\u001b[33m  WARNING: Failed to remove contents in a temporary directory '/home/jupyter/.local/lib/python3.10/site-packages/~~L'.\n",
      "  You can safely remove it manually.\u001b[0m\u001b[33m\n",
      "\u001b[2K   \u001b[91m━━━━\u001b[0m\u001b[91m╸\u001b[0m\u001b[90m━━━━━━━━━━━━━━━━━━━━━━━━━━━━━━━━━━━\u001b[0m \u001b[32m 3/25\u001b[0m [pillow]\u001b[33m  WARNING: Failed to remove contents in a temporary directory '/home/jupyter/.local/lib/python3.10/site-packages/~~llow.libs'.\n",
      "  You can safely remove it manually.\u001b[0m\u001b[33m\n",
      "\u001b[2K  Attempting uninstall: nvidia-nvtx-cu11\n",
      "\u001b[2K    Found existing installation: nvidia-nvtx-cu11 11.8.86━━━━━\u001b[0m \u001b[32m 3/25\u001b[0m [pillow]\n",
      "\u001b[2K    Uninstalling nvidia-nvtx-cu11-11.8.86:━━━━━━━━━━━━━━━━━━━━\u001b[0m \u001b[32m 3/25\u001b[0m [pillow]\n",
      "\u001b[2K      Successfully uninstalled nvidia-nvtx-cu11-11.8.86━━━━━━━━━━━\u001b[0m \u001b[32m 4/25\u001b[0m [nvidia-nvtx-cu11]\n",
      "\u001b[2K  Attempting uninstall: nvidia-nccl-cu11━━━━━━━━━━━━━━━━━━━━━━━━━━\u001b[0m \u001b[32m 4/25\u001b[0m [nvidia-nvtx-cu11]\n",
      "\u001b[2K    Found existing installation: nvidia-nccl-cu11 2.20.5━━━━━━\u001b[0m \u001b[32m 4/25\u001b[0m [nvidia-nvtx-cu11]\n",
      "\u001b[2K    Uninstalling nvidia-nccl-cu11-2.20.5:━━━━━━━━━━━━━━━━━━━━━\u001b[0m \u001b[32m 4/25\u001b[0m [nvidia-nvtx-cu11]\n",
      "\u001b[2K      Successfully uninstalled nvidia-nccl-cu11-2.20.5━━━━━━━━\u001b[0m \u001b[32m 4/25\u001b[0m [nvidia-nvtx-cu11]\n",
      "\u001b[2K  Attempting uninstall: nvidia-cusparse-cu11━━━━━━━━━━━━━━━━━━━━━━\u001b[0m \u001b[32m 5/25\u001b[0m [nvidia-nccl-cu11]\n",
      "\u001b[2K    Found existing installation: nvidia-cusparse-cu11 11.7.5.86[0m \u001b[32m 5/25\u001b[0m [nvidia-nccl-cu11]\n",
      "\u001b[2K    Uninstalling nvidia-cusparse-cu11-11.7.5.86:━━━━━━━━━━━━━━\u001b[0m \u001b[32m 5/25\u001b[0m [nvidia-nccl-cu11]\n",
      "\u001b[2K      Successfully uninstalled nvidia-cusparse-cu11-11.7.5.86━\u001b[0m \u001b[32m 5/25\u001b[0m [nvidia-nccl-cu11]\n",
      "\u001b[2K  Attempting uninstall: nvidia-curand-cu11━━━━━━━━━━━━━━━━━━━━━━━━\u001b[0m \u001b[32m 6/25\u001b[0m [nvidia-cusparse-cu11]\n",
      "\u001b[2K    Found existing installation: nvidia-curand-cu11 10.3.0.86━\u001b[0m \u001b[32m 6/25\u001b[0m [nvidia-cusparse-cu11]\n",
      "\u001b[2K    Uninstalling nvidia-curand-cu11-10.3.0.86:━━━━━━━━━━━━━━━━━━━━\u001b[0m \u001b[32m 7/25\u001b[0m [nvidia-curand-cu11]\n",
      "\u001b[2K      Successfully uninstalled nvidia-curand-cu11-10.3.0.86━━━\u001b[0m \u001b[32m 7/25\u001b[0m [nvidia-curand-cu11]\n",
      "\u001b[2K  Attempting uninstall: nvidia-cufft-cu11━━━━━━━━━━━━━━━━━━━━━━━━━\u001b[0m \u001b[32m 7/25\u001b[0m [nvidia-curand-cu11]\n",
      "\u001b[2K    Found existing installation: nvidia-cufft-cu11 10.9.0.58━━\u001b[0m \u001b[32m 7/25\u001b[0m [nvidia-curand-cu11]\n",
      "\u001b[2K    Uninstalling nvidia-cufft-cu11-10.9.0.58:━━━━━━━━━━━━━━━━━\u001b[0m \u001b[32m 7/25\u001b[0m [nvidia-curand-cu11]\n",
      "\u001b[2K      Successfully uninstalled nvidia-cufft-cu11-10.9.0.58━━━━\u001b[0m \u001b[32m 7/25\u001b[0m [nvidia-curand-cu11]\n",
      "\u001b[2K  Attempting uninstall: nvidia-cuda-runtime-cu11━━━━━━━━━━━━━━━━━━\u001b[0m \u001b[32m 8/25\u001b[0m [nvidia-cufft-cu11]\n",
      "\u001b[2K    Found existing installation: nvidia-cuda-runtime-cu11 11.8.89m \u001b[32m 8/25\u001b[0m [nvidia-cufft-cu11]\n",
      "\u001b[2K    Uninstalling nvidia-cuda-runtime-cu11-11.8.89:━━━━━━━━━━━━\u001b[0m \u001b[32m 8/25\u001b[0m [nvidia-cufft-cu11]\n",
      "\u001b[2K      Successfully uninstalled nvidia-cuda-runtime-cu11-11.8.89[0m \u001b[32m 8/25\u001b[0m [nvidia-cufft-cu11]\n",
      "\u001b[2K  Attempting uninstall: nvidia-cuda-nvrtc-cu11━━━━━━━━━━━━━━━━━━━━\u001b[0m \u001b[32m 9/25\u001b[0m [nvidia-cuda-runtime-cu11]\n",
      "\u001b[2K    Found existing installation: nvidia-cuda-nvrtc-cu11 11.8.89[0m \u001b[32m 9/25\u001b[0m [nvidia-cuda-runtime-cu11]\n",
      "\u001b[2K    Uninstalling nvidia-cuda-nvrtc-cu11-11.8.89:━━━━━━━━━━━━━━\u001b[0m \u001b[32m 9/25\u001b[0m [nvidia-cuda-runtime-cu11]\n",
      "\u001b[2K      Successfully uninstalled nvidia-cuda-nvrtc-cu11-11.8.89━\u001b[0m \u001b[32m 9/25\u001b[0m [nvidia-cuda-runtime-cu11]\n",
      "\u001b[2K  Attempting uninstall: nvidia-cuda-cupti-cu11━━━━━━━━━━━━━━━━━━━━\u001b[0m \u001b[32m10/25\u001b[0m [nvidia-cuda-nvrtc-cu11]\n",
      "\u001b[2K    Found existing installation: nvidia-cuda-cupti-cu11 11.8.87[0m \u001b[32m10/25\u001b[0m [nvidia-cuda-nvrtc-cu11]\n",
      "\u001b[2K    Uninstalling nvidia-cuda-cupti-cu11-11.8.87:━━━━━━━━━━━━━━\u001b[0m \u001b[32m10/25\u001b[0m [nvidia-cuda-nvrtc-cu11]\n",
      "\u001b[2K      Successfully uninstalled nvidia-cuda-cupti-cu11-11.8.87━━━━━\u001b[0m \u001b[32m11/25\u001b[0m [nvidia-cuda-cupti-cu11]\n",
      "\u001b[2K  Attempting uninstall: nvidia-cublas-cu110m━━━━━━━━━━━━━━━━━━━━━━\u001b[0m \u001b[32m11/25\u001b[0m [nvidia-cuda-cupti-cu11]\n",
      "\u001b[2K    Found existing installation: nvidia-cublas-cu11 11.11.3.6━\u001b[0m \u001b[32m11/25\u001b[0m [nvidia-cuda-cupti-cu11]\n",
      "\u001b[2K    Uninstalling nvidia-cublas-cu11-11.11.3.6:━━━━━━━━━━━━━━━━\u001b[0m \u001b[32m11/25\u001b[0m [nvidia-cuda-cupti-cu11]\n",
      "\u001b[2K      Successfully uninstalled nvidia-cublas-cu11-11.11.3.6━━━\u001b[0m \u001b[32m11/25\u001b[0m [nvidia-cuda-cupti-cu11]\n",
      "\u001b[2K   \u001b[91m━━━━━━━━━━━━━━━━━━━━\u001b[0m\u001b[91m╸\u001b[0m\u001b[90m━━━━━━━━━━━━━━━━━━━\u001b[0m \u001b[32m13/25\u001b[0m [numpy]-cublas-cu11]\u001b[33m  WARNING: The scripts f2py, f2py3 and f2py3.10 are installed in '/home/jupyter/.local/bin' which is not on PATH.\n",
      "  Consider adding this directory to PATH or, if you prefer to suppress this warning, use --no-warn-script-location.\u001b[0m\u001b[33m\n",
      "\u001b[2K  Attempting uninstall: networkx\u001b[91m╸\u001b[0m\u001b[90m━━━━━━━━━━━━━━━━━━━\u001b[0m \u001b[32m13/25\u001b[0m [numpy]\n",
      "\u001b[2K    Found existing installation: networkx 3.3━━━━━━━━━━━━━━━━━\u001b[0m \u001b[32m13/25\u001b[0m [numpy]\n",
      "\u001b[2K    Uninstalling networkx-3.3:\u001b[0m\u001b[90m╺\u001b[0m\u001b[90m━━━━━━━━━━━━━━━━━\u001b[0m \u001b[32m14/25\u001b[0m [networkx]\n",
      "\u001b[2K      Successfully uninstalled networkx-3.30m━━━━━━━━━━━━━━━━━\u001b[0m \u001b[32m14/25\u001b[0m [networkx]\n",
      "\u001b[2K  Attempting uninstall: MarkupSafe\u001b[90m╺\u001b[0m\u001b[90m━━━━━━━━━━━━━━━━━\u001b[0m \u001b[32m14/25\u001b[0m [networkx]\n",
      "\u001b[2K    Found existing installation: MarkupSafe 2.1.5━━━━━━━━━━━━━\u001b[0m \u001b[32m14/25\u001b[0m [networkx]\n",
      "\u001b[2K    Uninstalling MarkupSafe-2.1.5:m╺\u001b[0m\u001b[90m━━━━━━━━━━━━━━━━━\u001b[0m \u001b[32m14/25\u001b[0m [networkx]\n",
      "\u001b[2K      Successfully uninstalled MarkupSafe-2.1.5━━━━━━━━━━━━━━━\u001b[0m \u001b[32m14/25\u001b[0m [networkx]\n",
      "\u001b[2K  Attempting uninstall: fsspec━━\u001b[0m\u001b[90m╺\u001b[0m\u001b[90m━━━━━━━━━━━━━━━\u001b[0m \u001b[32m15/25\u001b[0m [MarkupSafe]\n",
      "\u001b[2K    Found existing installation: fsspec 2024.6.1━━━━━━━━━━━━━━\u001b[0m \u001b[32m15/25\u001b[0m [MarkupSafe]\n",
      "\u001b[2K    Uninstalling fsspec-2024.6.1:[90m╺\u001b[0m\u001b[90m━━━━━━━━━━━━━━━\u001b[0m \u001b[32m15/25\u001b[0m [MarkupSafe]\n",
      "\u001b[2K      Successfully uninstalled fsspec-2024.6.1m━━━━━━━━━━━━━━━\u001b[0m \u001b[32m15/25\u001b[0m [MarkupSafe]\n",
      "\u001b[2K  Attempting uninstall: filelock━\u001b[0m\u001b[91m╸\u001b[0m\u001b[90m━━━━━━━━━━━━━━\u001b[0m \u001b[32m16/25\u001b[0m [fsspec]\n",
      "\u001b[2K    Found existing installation: filelock 3.13.1━━━━━━━━━━━━━━\u001b[0m \u001b[32m16/25\u001b[0m [fsspec]\n",
      "\u001b[2K    Uninstalling filelock-3.13.1:\u001b[91m╸\u001b[0m\u001b[90m━━━━━━━━━━━━━━\u001b[0m \u001b[32m16/25\u001b[0m [fsspec]\n",
      "\u001b[2K      Successfully uninstalled filelock-3.13.10m━━━━━━━━━━━━━━\u001b[0m \u001b[32m16/25\u001b[0m [fsspec]\n",
      "\u001b[2K  Attempting uninstall: triton━━━━━\u001b[0m\u001b[90m╺\u001b[0m\u001b[90m━━━━━━━━━━━━\u001b[0m \u001b[32m17/25\u001b[0m [filelock]\n",
      "\u001b[2K    Found existing installation: triton 3.0.0\u001b[90m━━━━━━━━━━━━\u001b[0m \u001b[32m17/25\u001b[0m [filelock]\n",
      "\u001b[2K    Uninstalling triton-3.0.0:━━━━━━\u001b[0m\u001b[91m╸\u001b[0m\u001b[90m━━━━━━━━━━━\u001b[0m \u001b[32m18/25\u001b[0m [triton]\n",
      "\u001b[2K      Successfully uninstalled triton-3.0.0[0m\u001b[90m━━━━━━━━━━━\u001b[0m \u001b[32m18/25\u001b[0m [triton]\n",
      "\u001b[2K   \u001b[91m━━━━━━━━━━━━━━━━━━━━━━━━━━━━\u001b[0m\u001b[91m╸\u001b[0m\u001b[90m━━━━━━━━━━━\u001b[0m \u001b[32m18/25\u001b[0m [triton]\u001b[33m  WARNING: The scripts proton and proton-viewer are installed in '/home/jupyter/.local/bin' which is not on PATH.\n",
      "  Consider adding this directory to PATH or, if you prefer to suppress this warning, use --no-warn-script-location.\u001b[0m\u001b[33m\n",
      "\u001b[2K  Attempting uninstall: nvidia-cusolver-cu11m╸\u001b[0m\u001b[90m━━━━━━━━━━━\u001b[0m \u001b[32m18/25\u001b[0m [triton]\n",
      "\u001b[2K    Found existing installation: nvidia-cusolver-cu11 11.4.1.48[0m \u001b[32m18/25\u001b[0m [triton]\n",
      "\u001b[2K    Uninstalling nvidia-cusolver-cu11-11.4.1.48:90m━━━━━━━━━━━\u001b[0m \u001b[32m18/25\u001b[0m [triton]\n",
      "\u001b[2K      Successfully uninstalled nvidia-cusolver-cu11-11.4.1.48━━━━━\u001b[0m \u001b[32m19/25\u001b[0m [nvidia-cusolver-cu11]\n",
      "\u001b[2K  Attempting uninstall: nvidia-cudnn-cu11m\u001b[90m╺\u001b[0m\u001b[90m━━━━━━━━━\u001b[0m \u001b[32m19/25\u001b[0m [nvidia-cusolver-cu11]\n",
      "\u001b[2K    Found existing installation: nvidia-cudnn-cu11 9.1.0.70━━━\u001b[0m \u001b[32m19/25\u001b[0m [nvidia-cusolver-cu11]\n",
      "\u001b[2K    Uninstalling nvidia-cudnn-cu11-9.1.0.70:\u001b[0m\u001b[90m━━━━━━━━━\u001b[0m \u001b[32m19/25\u001b[0m [nvidia-cusolver-cu11]\n",
      "\u001b[2K      Successfully uninstalled nvidia-cudnn-cu11-9.1.0.70━━━━━\u001b[0m \u001b[32m19/25\u001b[0m [nvidia-cusolver-cu11]\n",
      "\u001b[2K  Attempting uninstall: jinja2━━━━━━━━━━\u001b[0m\u001b[90m╺\u001b[0m\u001b[90m━━━━━━━\u001b[0m \u001b[32m20/25\u001b[0m [nvidia-cudnn-cu11]\n",
      "\u001b[2K    Found existing installation: Jinja2 3.1.4╺\u001b[0m\u001b[90m━━━━━━━\u001b[0m \u001b[32m20/25\u001b[0m [nvidia-cudnn-cu11]\n",
      "\u001b[2K    Uninstalling Jinja2-3.1.4:━━━━━━\u001b[0m\u001b[90m╺\u001b[0m\u001b[90m━━━━━━━\u001b[0m \u001b[32m20/25\u001b[0m [nvidia-cudnn-cu11]\n",
      "\u001b[2K      Successfully uninstalled Jinja2-3.1.40m╺\u001b[0m\u001b[90m━━━━━━━\u001b[0m \u001b[32m20/25\u001b[0m [nvidia-cudnn-cu11]\n",
      "\u001b[2K   \u001b[91m━━━━━━━━━━━━━━━━━━━━━━━━━━━━━━━━━━━\u001b[0m\u001b[90m╺\u001b[0m\u001b[90m━━━━\u001b[0m \u001b[32m22/25\u001b[0m [torch]\u001b[33m  WARNING: The scripts convert-caffe2-to-onnx, convert-onnx-to-caffe2 and torchrun are installed in '/home/jupyter/.local/bin' which is not on PATH.\n",
      "  Consider adding this directory to PATH or, if you prefer to suppress this warning, use --no-warn-script-location.\u001b[0m\u001b[33m\n",
      "\u001b[2K   \u001b[90m━━━━━━━━━━━━━━━━━━━━━━━━━━━━━━━━━━━━━━━━\u001b[0m \u001b[32m25/25\u001b[0m [torchaudio]5\u001b[0m [torchaudio]]\n",
      "\u001b[1A\u001b[2KSuccessfully installed MarkupSafe-2.1.5 filelock-3.13.1 fsspec-2024.6.1 jinja2-3.1.4 mpmath-1.3.0 networkx-3.3 numpy-1.24.1 nvidia-cublas-cu11-11.11.3.6 nvidia-cuda-cupti-cu11-11.8.87 nvidia-cuda-nvrtc-cu11-11.8.89 nvidia-cuda-runtime-cu11-11.8.89 nvidia-cudnn-cu11-9.1.0.70 nvidia-cufft-cu11-10.9.0.58 nvidia-curand-cu11-10.3.0.86 nvidia-cusolver-cu11-11.4.1.48 nvidia-cusparse-cu11-11.7.5.86 nvidia-nccl-cu11-2.20.5 nvidia-nvtx-cu11-11.8.86 pillow-11.0.0 sympy-1.13.3 torch-2.4.0+cu118 torchaudio-2.4.0+cu118 torchvision-0.19.0+cu118 triton-3.0.0 typing-extensions-4.12.2\n"
     ]
    }
   ],
   "source": [
    "%pip install --force-reinstall numpy==1.24.1 torch==2.4.0 torchvision==0.19.0 torchaudio==2.4.0 --index-url https://download.pytorch.org/whl/cu118"
   ]
  },
  {
   "cell_type": "code",
   "execution_count": 4,
   "id": "fdae8782-2cda-4aac-9ce7-5e96e0e4c1b8",
   "metadata": {
    "execution": {
     "iopub.execute_input": "2025-08-02T19:45:42.778110Z",
     "iopub.status.busy": "2025-08-02T19:45:42.776812Z",
     "iopub.status.idle": "2025-08-02T19:45:52.542754Z",
     "shell.execute_reply": "2025-08-02T19:45:52.541645Z",
     "shell.execute_reply.started": "2025-08-02T19:45:42.778071Z"
    },
    "tags": []
   },
   "outputs": [
    {
     "name": "stdout",
     "output_type": "stream",
     "text": [
      "Torch: 2.4.0+cu118; Numpy: 1.24.1\n"
     ]
    }
   ],
   "source": [
    "import torch\n",
    "import numpy as np\n",
    "\n",
    "print(f\"Torch: {torch.__version__}; Numpy: {np.__version__}\")"
   ]
  },
  {
   "cell_type": "code",
   "execution_count": null,
   "id": "9586f9c9-748a-4ffa-b77c-2395028073b5",
   "metadata": {},
   "outputs": [],
   "source": []
  },
  {
   "cell_type": "code",
   "execution_count": 5,
   "id": "593df916-6800-4b64-8a2d-4e6b85639077",
   "metadata": {
    "execution": {
     "iopub.execute_input": "2025-08-02T19:45:52.561989Z",
     "iopub.status.busy": "2025-08-02T19:45:52.560882Z",
     "iopub.status.idle": "2025-08-02T19:45:57.443484Z",
     "shell.execute_reply": "2025-08-02T19:45:57.442204Z",
     "shell.execute_reply.started": "2025-08-02T19:45:52.561933Z"
    },
    "tags": []
   },
   "outputs": [
    {
     "name": "stdout",
     "output_type": "stream",
     "text": [
      "Defaulting to user installation because normal site-packages is not writeable\n",
      "Requirement already satisfied: opencv-python-headless==4.8.1.78 in /home/jupyter/.local/lib/python3.10/site-packages (4.8.1.78)\n",
      "Requirement already satisfied: numpy>=1.21.2 in /home/jupyter/.local/lib/python3.10/site-packages (from opencv-python-headless==4.8.1.78) (1.24.1)\n",
      "\n",
      "\u001b[1m[\u001b[0m\u001b[34;49mnotice\u001b[0m\u001b[1;39;49m]\u001b[0m\u001b[39;49m A new release of pip is available: \u001b[0m\u001b[31;49m23.0.1\u001b[0m\u001b[39;49m -> \u001b[0m\u001b[32;49m25.2\u001b[0m\n",
      "\u001b[1m[\u001b[0m\u001b[34;49mnotice\u001b[0m\u001b[1;39;49m]\u001b[0m\u001b[39;49m To update, run: \u001b[0m\u001b[32;49mpython3 -m pip install --upgrade pip\u001b[0m\n"
     ]
    }
   ],
   "source": [
    "%pip install opencv-python-headless==4.8.1.78"
   ]
  },
  {
   "cell_type": "code",
   "execution_count": 6,
   "id": "7c355b65-5f0e-45c5-83f5-1834c3879c4c",
   "metadata": {
    "execution": {
     "iopub.execute_input": "2025-08-02T19:45:57.448212Z",
     "iopub.status.busy": "2025-08-02T19:45:57.446250Z",
     "iopub.status.idle": "2025-08-02T19:45:59.789623Z",
     "shell.execute_reply": "2025-08-02T19:45:59.788349Z",
     "shell.execute_reply.started": "2025-08-02T19:45:57.448170Z"
    },
    "tags": []
   },
   "outputs": [
    {
     "name": "stdout",
     "output_type": "stream",
     "text": [
      "Defaulting to user installation because normal site-packages is not writeable\n",
      "Requirement already satisfied: pillow in /home/jupyter/.local/lib/python3.10/site-packages (11.0.0)\n",
      "Requirement already satisfied: imageio in /home/jupyter/.local/lib/python3.10/site-packages (2.37.0)\n",
      "Requirement already satisfied: imageio-ffmpeg in /home/jupyter/.local/lib/python3.10/site-packages (0.6.0)\n",
      "Requirement already satisfied: tqdm in /home/jupyter/.local/lib/python3.10/site-packages (4.67.1)\n",
      "Requirement already satisfied: easydict in /home/jupyter/.local/lib/python3.10/site-packages (1.13)\n",
      "Requirement already satisfied: scipy in /home/jupyter/.local/lib/python3.10/site-packages (1.15.3)\n",
      "Requirement already satisfied: ninja in /home/jupyter/.local/lib/python3.10/site-packages (1.11.1.4)\n",
      "Requirement already satisfied: rembg in /home/jupyter/.local/lib/python3.10/site-packages (2.0.67)\n",
      "Requirement already satisfied: onnxruntime in /home/jupyter/.local/lib/python3.10/site-packages (1.22.1)\n",
      "Requirement already satisfied: trimesh in /home/jupyter/.local/lib/python3.10/site-packages (4.7.1)\n",
      "Requirement already satisfied: open3d in /home/jupyter/.local/lib/python3.10/site-packages (0.19.0)\n",
      "Requirement already satisfied: xatlas in /home/jupyter/.local/lib/python3.10/site-packages (0.0.11)\n",
      "Requirement already satisfied: pyvista in /home/jupyter/.local/lib/python3.10/site-packages (0.45.3)\n",
      "Requirement already satisfied: pymeshfix in /home/jupyter/.local/lib/python3.10/site-packages (0.17.1)\n",
      "Requirement already satisfied: igraph in /home/jupyter/.local/lib/python3.10/site-packages (0.11.9)\n",
      "Requirement already satisfied: transformers in /home/jupyter/.local/lib/python3.10/site-packages (4.54.1)\n",
      "Requirement already satisfied: numpy in /home/jupyter/.local/lib/python3.10/site-packages (from imageio) (1.24.1)\n",
      "Requirement already satisfied: jsonschema in /home/jupyter/.local/lib/python3.10/site-packages (from rembg) (4.25.0)\n",
      "Requirement already satisfied: opencv-python-headless in /home/jupyter/.local/lib/python3.10/site-packages (from rembg) (4.8.1.78)\n",
      "Requirement already satisfied: pooch in /home/jupyter/.local/lib/python3.10/site-packages (from rembg) (1.8.2)\n",
      "Requirement already satisfied: pymatting in /home/jupyter/.local/lib/python3.10/site-packages (from rembg) (1.1.14)\n",
      "Requirement already satisfied: scikit-image in /home/jupyter/.local/lib/python3.10/site-packages (from rembg) (0.25.2)\n",
      "Requirement already satisfied: coloredlogs in /home/jupyter/.local/lib/python3.10/site-packages (from onnxruntime) (15.0.1)\n",
      "Requirement already satisfied: flatbuffers in /home/jupyter/.local/lib/python3.10/site-packages (from onnxruntime) (25.2.10)\n",
      "Requirement already satisfied: packaging in /home/jupyter/.local/lib/python3.10/site-packages (from onnxruntime) (25.0)\n",
      "Requirement already satisfied: protobuf in /home/jupyter/.local/lib/python3.10/site-packages (from onnxruntime) (6.31.1)\n",
      "Requirement already satisfied: sympy in /home/jupyter/.local/lib/python3.10/site-packages (from onnxruntime) (1.13.3)\n",
      "Requirement already satisfied: dash>=2.6.0 in /home/jupyter/.local/lib/python3.10/site-packages (from open3d) (3.2.0)\n",
      "Requirement already satisfied: werkzeug>=3.0.0 in /home/jupyter/.local/lib/python3.10/site-packages (from open3d) (3.1.3)\n",
      "Requirement already satisfied: flask>=3.0.0 in /home/jupyter/.local/lib/python3.10/site-packages (from open3d) (3.1.1)\n",
      "Requirement already satisfied: nbformat>=5.7.0 in /home/jupyter/.local/lib/python3.10/site-packages (from open3d) (5.10.4)\n",
      "Requirement already satisfied: configargparse in /home/jupyter/.local/lib/python3.10/site-packages (from open3d) (1.7.1)\n",
      "Requirement already satisfied: ipywidgets>=8.0.4 in /home/jupyter/.local/lib/python3.10/site-packages (from open3d) (8.1.7)\n",
      "Requirement already satisfied: addict in /home/jupyter/.local/lib/python3.10/site-packages (from open3d) (2.4.0)\n",
      "Requirement already satisfied: matplotlib>=3 in /home/jupyter/.local/lib/python3.10/site-packages (from open3d) (3.10.5)\n",
      "Requirement already satisfied: pandas>=1.0 in /kernel/fallback/lib/python3.10/site-packages (from open3d) (2.2.3)\n",
      "Requirement already satisfied: pyyaml>=5.4.1 in /home/jupyter/.local/lib/python3.10/site-packages (from open3d) (6.0.2)\n",
      "Requirement already satisfied: scikit-learn>=0.21 in /home/jupyter/.local/lib/python3.10/site-packages (from open3d) (1.7.1)\n",
      "Requirement already satisfied: pyquaternion in /home/jupyter/.local/lib/python3.10/site-packages (from open3d) (0.9.9)\n",
      "Requirement already satisfied: scooby>=0.5.1 in /home/jupyter/.local/lib/python3.10/site-packages (from pyvista) (0.10.1)\n",
      "Requirement already satisfied: typing-extensions in /home/jupyter/.local/lib/python3.10/site-packages (from pyvista) (4.12.2)\n",
      "Requirement already satisfied: vtk!=9.4.0 in /home/jupyter/.local/lib/python3.10/site-packages (from pyvista) (9.4.2)\n",
      "Requirement already satisfied: texttable>=1.6.2 in /home/jupyter/.local/lib/python3.10/site-packages (from igraph) (1.7.0)\n",
      "Requirement already satisfied: filelock in /home/jupyter/.local/lib/python3.10/site-packages (from transformers) (3.13.1)\n",
      "Requirement already satisfied: huggingface-hub<1.0,>=0.34.0 in /home/jupyter/.local/lib/python3.10/site-packages (from transformers) (0.34.3)\n",
      "Requirement already satisfied: regex!=2019.12.17 in /home/jupyter/.local/lib/python3.10/site-packages (from transformers) (2025.7.34)\n",
      "Requirement already satisfied: requests in /kernel/fallback/lib/python3.10/site-packages (from transformers) (2.31.0)\n",
      "Requirement already satisfied: tokenizers<0.22,>=0.21 in /home/jupyter/.local/lib/python3.10/site-packages (from transformers) (0.21.4)\n",
      "Requirement already satisfied: safetensors>=0.4.3 in /home/jupyter/.local/lib/python3.10/site-packages (from transformers) (0.5.3)\n",
      "Requirement already satisfied: fsspec>=2023.5.0 in /home/jupyter/.local/lib/python3.10/site-packages (from huggingface-hub<1.0,>=0.34.0->transformers) (2024.6.1)\n",
      "Requirement already satisfied: hf-xet<2.0.0,>=1.1.3 in /home/jupyter/.local/lib/python3.10/site-packages (from huggingface-hub<1.0,>=0.34.0->transformers) (1.1.5)\n",
      "Requirement already satisfied: plotly>=5.0.0 in /home/jupyter/.local/lib/python3.10/site-packages (from dash>=2.6.0->open3d) (6.2.0)\n",
      "Requirement already satisfied: importlib-metadata in /home/jupyter/.local/lib/python3.10/site-packages (from dash>=2.6.0->open3d) (8.7.0)\n",
      "Requirement already satisfied: retrying in /home/jupyter/.local/lib/python3.10/site-packages (from dash>=2.6.0->open3d) (1.4.1)\n",
      "Requirement already satisfied: nest-asyncio in /home/jupyter/.local/lib/python3.10/site-packages (from dash>=2.6.0->open3d) (1.6.0)\n",
      "Requirement already satisfied: setuptools in /kernel/lib/python3.10/site-packages (from dash>=2.6.0->open3d) (65.5.0)\n",
      "Requirement already satisfied: blinker>=1.9.0 in /home/jupyter/.local/lib/python3.10/site-packages (from flask>=3.0.0->open3d) (1.9.0)\n",
      "Requirement already satisfied: click>=8.1.3 in /home/jupyter/.local/lib/python3.10/site-packages (from flask>=3.0.0->open3d) (8.2.2)\n",
      "Requirement already satisfied: itsdangerous>=2.2.0 in /home/jupyter/.local/lib/python3.10/site-packages (from flask>=3.0.0->open3d) (2.2.0)\n",
      "Requirement already satisfied: jinja2>=3.1.2 in /home/jupyter/.local/lib/python3.10/site-packages (from flask>=3.0.0->open3d) (3.1.4)\n",
      "Requirement already satisfied: markupsafe>=2.1.1 in /home/jupyter/.local/lib/python3.10/site-packages (from flask>=3.0.0->open3d) (2.1.5)\n",
      "Requirement already satisfied: comm>=0.1.3 in /home/jupyter/.local/lib/python3.10/site-packages (from ipywidgets>=8.0.4->open3d) (0.2.3)\n",
      "Requirement already satisfied: ipython>=6.1.0 in /home/jupyter/.local/lib/python3.10/site-packages (from ipywidgets>=8.0.4->open3d) (8.37.0)\n",
      "Requirement already satisfied: traitlets>=4.3.1 in /kernel/fallback/lib/python3.10/site-packages (from ipywidgets>=8.0.4->open3d) (5.14.3)\n",
      "Requirement already satisfied: widgetsnbextension~=4.0.14 in /home/jupyter/.local/lib/python3.10/site-packages (from ipywidgets>=8.0.4->open3d) (4.0.14)\n",
      "Requirement already satisfied: jupyterlab_widgets~=3.0.15 in /home/jupyter/.local/lib/python3.10/site-packages (from ipywidgets>=8.0.4->open3d) (3.0.15)\n",
      "Requirement already satisfied: decorator in /home/jupyter/.local/lib/python3.10/site-packages (from ipython>=6.1.0->ipywidgets>=8.0.4->open3d) (5.2.1)\n",
      "Requirement already satisfied: exceptiongroup in /home/jupyter/.local/lib/python3.10/site-packages (from ipython>=6.1.0->ipywidgets>=8.0.4->open3d) (1.3.0)\n",
      "Requirement already satisfied: jedi>=0.16 in /home/jupyter/.local/lib/python3.10/site-packages (from ipython>=6.1.0->ipywidgets>=8.0.4->open3d) (0.19.2)\n",
      "Requirement already satisfied: matplotlib-inline in /kernel/fallback/lib/python3.10/site-packages (from ipython>=6.1.0->ipywidgets>=8.0.4->open3d) (0.1.7)\n",
      "Requirement already satisfied: pexpect>4.3 in /home/jupyter/.local/lib/python3.10/site-packages (from ipython>=6.1.0->ipywidgets>=8.0.4->open3d) (4.9.0)\n",
      "Requirement already satisfied: prompt_toolkit<3.1.0,>=3.0.41 in /home/jupyter/.local/lib/python3.10/site-packages (from ipython>=6.1.0->ipywidgets>=8.0.4->open3d) (3.0.51)\n",
      "Requirement already satisfied: pygments>=2.4.0 in /home/jupyter/.local/lib/python3.10/site-packages (from ipython>=6.1.0->ipywidgets>=8.0.4->open3d) (2.19.2)\n",
      "Requirement already satisfied: stack_data in /home/jupyter/.local/lib/python3.10/site-packages (from ipython>=6.1.0->ipywidgets>=8.0.4->open3d) (0.6.3)\n",
      "Requirement already satisfied: wcwidth in /home/jupyter/.local/lib/python3.10/site-packages (from prompt_toolkit<3.1.0,>=3.0.41->ipython>=6.1.0->ipywidgets>=8.0.4->open3d) (0.2.13)\n",
      "Requirement already satisfied: parso<0.9.0,>=0.8.4 in /home/jupyter/.local/lib/python3.10/site-packages (from jedi>=0.16->ipython>=6.1.0->ipywidgets>=8.0.4->open3d) (0.8.4)\n",
      "Requirement already satisfied: contourpy>=1.0.1 in /home/jupyter/.local/lib/python3.10/site-packages (from matplotlib>=3->open3d) (1.3.2)\n",
      "Requirement already satisfied: cycler>=0.10 in /home/jupyter/.local/lib/python3.10/site-packages (from matplotlib>=3->open3d) (0.12.1)\n",
      "Requirement already satisfied: fonttools>=4.22.0 in /home/jupyter/.local/lib/python3.10/site-packages (from matplotlib>=3->open3d) (4.59.0)\n",
      "Requirement already satisfied: kiwisolver>=1.3.1 in /home/jupyter/.local/lib/python3.10/site-packages (from matplotlib>=3->open3d) (1.4.8)\n",
      "Requirement already satisfied: pyparsing>=2.3.1 in /home/jupyter/.local/lib/python3.10/site-packages (from matplotlib>=3->open3d) (3.2.3)\n",
      "Requirement already satisfied: python-dateutil>=2.7 in /kernel/fallback/lib/python3.10/site-packages (from matplotlib>=3->open3d) (2.9.0.post0)\n",
      "Requirement already satisfied: fastjsonschema>=2.15 in /home/jupyter/.local/lib/python3.10/site-packages (from nbformat>=5.7.0->open3d) (2.21.1)\n",
      "Requirement already satisfied: jupyter-core!=5.0.*,>=4.12 in /home/jupyter/.local/lib/python3.10/site-packages (from nbformat>=5.7.0->open3d) (5.8.1)\n",
      "Requirement already satisfied: attrs>=22.2.0 in /home/jupyter/.local/lib/python3.10/site-packages (from jsonschema->rembg) (25.3.0)\n",
      "Requirement already satisfied: jsonschema-specifications>=2023.03.6 in /home/jupyter/.local/lib/python3.10/site-packages (from jsonschema->rembg) (2025.4.1)\n",
      "Requirement already satisfied: referencing>=0.28.4 in /home/jupyter/.local/lib/python3.10/site-packages (from jsonschema->rembg) (0.36.2)\n",
      "Requirement already satisfied: rpds-py>=0.7.1 in /home/jupyter/.local/lib/python3.10/site-packages (from jsonschema->rembg) (0.26.0)\n",
      "Requirement already satisfied: platformdirs>=2.5 in /home/jupyter/.local/lib/python3.10/site-packages (from jupyter-core!=5.0.*,>=4.12->nbformat>=5.7.0->open3d) (4.3.8)\n",
      "Requirement already satisfied: pytz>=2020.1 in /kernel/fallback/lib/python3.10/site-packages (from pandas>=1.0->open3d) (2025.2)\n",
      "Requirement already satisfied: tzdata>=2022.7 in /kernel/fallback/lib/python3.10/site-packages (from pandas>=1.0->open3d) (2025.2)\n",
      "Requirement already satisfied: ptyprocess>=0.5 in /home/jupyter/.local/lib/python3.10/site-packages (from pexpect>4.3->ipython>=6.1.0->ipywidgets>=8.0.4->open3d) (0.7.0)\n",
      "Requirement already satisfied: narwhals>=1.15.1 in /home/jupyter/.local/lib/python3.10/site-packages (from plotly>=5.0.0->dash>=2.6.0->open3d) (2.0.1)\n",
      "Requirement already satisfied: six>=1.5 in /kernel/fallback/lib/python3.10/site-packages (from python-dateutil>=2.7->matplotlib>=3->open3d) (1.17.0)\n",
      "Requirement already satisfied: joblib>=1.2.0 in /home/jupyter/.local/lib/python3.10/site-packages (from scikit-learn>=0.21->open3d) (1.5.1)\n",
      "Requirement already satisfied: threadpoolctl>=3.1.0 in /home/jupyter/.local/lib/python3.10/site-packages (from scikit-learn>=0.21->open3d) (3.6.0)\n",
      "Requirement already satisfied: humanfriendly>=9.1 in /home/jupyter/.local/lib/python3.10/site-packages (from coloredlogs->onnxruntime) (10.0)\n",
      "Requirement already satisfied: zipp>=3.20 in /home/jupyter/.local/lib/python3.10/site-packages (from importlib-metadata->dash>=2.6.0->open3d) (3.23.0)\n",
      "Requirement already satisfied: charset-normalizer<4,>=2 in /kernel/fallback/lib/python3.10/site-packages (from requests->transformers) (3.4.2)\n",
      "Requirement already satisfied: idna<4,>=2.5 in /kernel/fallback/lib/python3.10/site-packages (from requests->transformers) (3.10)\n",
      "Requirement already satisfied: urllib3<3,>=1.21.1 in /kernel/fallback/lib/python3.10/site-packages (from requests->transformers) (1.25.11)\n",
      "Requirement already satisfied: certifi>=2017.4.17 in /kernel/fallback/lib/python3.10/site-packages (from requests->transformers) (2025.4.26)\n",
      "Requirement already satisfied: numba!=0.49.0 in /home/jupyter/.local/lib/python3.10/site-packages (from pymatting->rembg) (0.61.2)\n",
      "Requirement already satisfied: llvmlite<0.45,>=0.44.0dev0 in /home/jupyter/.local/lib/python3.10/site-packages (from numba!=0.49.0->pymatting->rembg) (0.44.0)\n",
      "Requirement already satisfied: networkx>=3.0 in /home/jupyter/.local/lib/python3.10/site-packages (from scikit-image->rembg) (3.3)\n",
      "Requirement already satisfied: tifffile>=2022.8.12 in /home/jupyter/.local/lib/python3.10/site-packages (from scikit-image->rembg) (2025.5.10)\n",
      "Requirement already satisfied: lazy-loader>=0.4 in /home/jupyter/.local/lib/python3.10/site-packages (from scikit-image->rembg) (0.4)\n",
      "Requirement already satisfied: executing>=1.2.0 in /home/jupyter/.local/lib/python3.10/site-packages (from stack_data->ipython>=6.1.0->ipywidgets>=8.0.4->open3d) (2.2.0)\n",
      "Requirement already satisfied: asttokens>=2.1.0 in /home/jupyter/.local/lib/python3.10/site-packages (from stack_data->ipython>=6.1.0->ipywidgets>=8.0.4->open3d) (3.0.0)\n",
      "Requirement already satisfied: pure-eval in /home/jupyter/.local/lib/python3.10/site-packages (from stack_data->ipython>=6.1.0->ipywidgets>=8.0.4->open3d) (0.2.3)\n",
      "Requirement already satisfied: mpmath<1.4,>=1.1.0 in /home/jupyter/.local/lib/python3.10/site-packages (from sympy->onnxruntime) (1.3.0)\n",
      "\n",
      "\u001b[1m[\u001b[0m\u001b[34;49mnotice\u001b[0m\u001b[1;39;49m]\u001b[0m\u001b[39;49m A new release of pip is available: \u001b[0m\u001b[31;49m23.0.1\u001b[0m\u001b[39;49m -> \u001b[0m\u001b[32;49m25.2\u001b[0m\n",
      "\u001b[1m[\u001b[0m\u001b[34;49mnotice\u001b[0m\u001b[1;39;49m]\u001b[0m\u001b[39;49m To update, run: \u001b[0m\u001b[32;49mpython3 -m pip install --upgrade pip\u001b[0m\n"
     ]
    }
   ],
   "source": [
    " %pip install pillow imageio imageio-ffmpeg tqdm easydict scipy ninja rembg onnxruntime trimesh open3d xatlas pyvista pymeshfix igraph transformers"
   ]
  },
  {
   "cell_type": "code",
   "execution_count": 7,
   "id": "d0bb8328-a281-4cfd-86c8-515dd6065590",
   "metadata": {
    "execution": {
     "iopub.execute_input": "2025-08-02T19:46:03.042748Z",
     "iopub.status.busy": "2025-08-02T19:46:03.041386Z",
     "iopub.status.idle": "2025-08-02T19:46:11.537022Z",
     "shell.execute_reply": "2025-08-02T19:46:11.535785Z",
     "shell.execute_reply.started": "2025-08-02T19:46:03.042692Z"
    },
    "tags": []
   },
   "outputs": [
    {
     "name": "stdout",
     "output_type": "stream",
     "text": [
      "Defaulting to user installation because normal site-packages is not writeable\n",
      "Collecting git+https://github.com/EasternJournalist/utils3d.git@9a4eb15e4021b67b12c460c7057d642626897ec8\n",
      "  Cloning https://github.com/EasternJournalist/utils3d.git (to revision 9a4eb15e4021b67b12c460c7057d642626897ec8) to /tmp/pip-req-build-ls1nw4mz\n",
      "  Running command git clone --filter=blob:none --quiet https://github.com/EasternJournalist/utils3d.git /tmp/pip-req-build-ls1nw4mz\n",
      "  Running command git rev-parse -q --verify 'sha^9a4eb15e4021b67b12c460c7057d642626897ec8'\n",
      "  Running command git fetch -q https://github.com/EasternJournalist/utils3d.git 9a4eb15e4021b67b12c460c7057d642626897ec8\n",
      "  Running command git checkout -q 9a4eb15e4021b67b12c460c7057d642626897ec8\n",
      "  Resolved https://github.com/EasternJournalist/utils3d.git to commit 9a4eb15e4021b67b12c460c7057d642626897ec8\n",
      "  Preparing metadata (pyproject.toml) ... \u001b[?25ldone\n",
      "\u001b[?25hRequirement already satisfied: moderngl in /home/jupyter/.local/lib/python3.10/site-packages (from utils3d==0.0.2) (5.12.0)\n",
      "Requirement already satisfied: numpy in /home/jupyter/.local/lib/python3.10/site-packages (from utils3d==0.0.2) (1.24.1)\n",
      "Requirement already satisfied: plyfile in /home/jupyter/.local/lib/python3.10/site-packages (from utils3d==0.0.2) (1.1.2)\n",
      "Requirement already satisfied: scipy in /home/jupyter/.local/lib/python3.10/site-packages (from utils3d==0.0.2) (1.15.3)\n",
      "Requirement already satisfied: glcontext>=3.0.0 in /home/jupyter/.local/lib/python3.10/site-packages (from moderngl->utils3d==0.0.2) (3.0.0)\n",
      "Building wheels for collected packages: utils3d\n",
      "  Building wheel for utils3d (pyproject.toml) ... \u001b[?25ldone\n",
      "\u001b[?25h  Created wheel for utils3d: filename=utils3d-0.0.2-py3-none-any.whl size=71364 sha256=3ce485c9e463c2bb353ea532cf14c8a482d9e02d00f9d12ae1df3ba503a9573c\n",
      "  Stored in directory: /tmp/xdg_cache/pip/wheels/c3/b3/47/21a0f6ab85ba67485c67649cca6c6d566bf9768f45a71d82dd\n",
      "Successfully built utils3d\n",
      "Installing collected packages: utils3d\n",
      "Successfully installed utils3d-0.0.2\n",
      "\n",
      "\u001b[1m[\u001b[0m\u001b[34;49mnotice\u001b[0m\u001b[1;39;49m]\u001b[0m\u001b[39;49m A new release of pip is available: \u001b[0m\u001b[31;49m23.0.1\u001b[0m\u001b[39;49m -> \u001b[0m\u001b[32;49m25.2\u001b[0m\n",
      "\u001b[1m[\u001b[0m\u001b[34;49mnotice\u001b[0m\u001b[1;39;49m]\u001b[0m\u001b[39;49m To update, run: \u001b[0m\u001b[32;49mpython3 -m pip install --upgrade pip\u001b[0m\n"
     ]
    }
   ],
   "source": [
    "%pip install git+https://github.com/EasternJournalist/utils3d.git@9a4eb15e4021b67b12c460c7057d642626897ec8"
   ]
  },
  {
   "cell_type": "code",
   "execution_count": 13,
   "id": "e19d0382-aaff-4f99-807a-b2248f2827d9",
   "metadata": {
    "execution": {
     "iopub.execute_input": "2025-08-02T19:26:36.111242Z",
     "iopub.status.busy": "2025-08-02T19:26:36.109691Z",
     "iopub.status.idle": "2025-08-02T19:26:38.154072Z",
     "shell.execute_reply": "2025-08-02T19:26:38.152730Z",
     "shell.execute_reply.started": "2025-08-02T19:26:36.111167Z"
    },
    "tags": []
   },
   "outputs": [
    {
     "name": "stdout",
     "output_type": "stream",
     "text": [
      "Defaulting to user installation because normal site-packages is not writeable\n",
      "Looking in links: https://nvidia-kaolin.s3.us-east-2.amazonaws.com/torch-2.4.0_cu121.html\n",
      "Requirement already satisfied: kaolin in /home/jupyter/.local/lib/python3.10/site-packages (0.18.0)\n",
      "Requirement already satisfied: ipython in /home/jupyter/.local/lib/python3.10/site-packages (from kaolin) (8.37.0)\n",
      "Requirement already satisfied: ipycanvas in /home/jupyter/.local/lib/python3.10/site-packages (from kaolin) (0.14.1)\n",
      "Requirement already satisfied: ipyevents in /home/jupyter/.local/lib/python3.10/site-packages (from kaolin) (2.0.2)\n",
      "Requirement already satisfied: jupyter_client<8 in /home/jupyter/.local/lib/python3.10/site-packages (from kaolin) (7.4.9)\n",
      "Requirement already satisfied: flask in /home/jupyter/.local/lib/python3.10/site-packages (from kaolin) (3.1.1)\n",
      "Requirement already satisfied: tornado in /home/jupyter/.local/lib/python3.10/site-packages (from kaolin) (6.5.1)\n",
      "Requirement already satisfied: comm>=0.1.3 in /home/jupyter/.local/lib/python3.10/site-packages (from kaolin) (0.2.3)\n",
      "Requirement already satisfied: usd-core in /home/jupyter/.local/lib/python3.10/site-packages (from kaolin) (25.8)\n",
      "Requirement already satisfied: numpy in /home/jupyter/.local/lib/python3.10/site-packages (from kaolin) (1.24.1)\n",
      "Requirement already satisfied: pybind11 in /home/jupyter/.local/lib/python3.10/site-packages (from kaolin) (3.0.0)\n",
      "Requirement already satisfied: Pillow>=8.0.0 in /home/jupyter/.local/lib/python3.10/site-packages (from kaolin) (11.0.0)\n",
      "Requirement already satisfied: tqdm>=4.51.0 in /home/jupyter/.local/lib/python3.10/site-packages (from kaolin) (4.67.1)\n",
      "Requirement already satisfied: scipy in /home/jupyter/.local/lib/python3.10/site-packages (from kaolin) (1.15.3)\n",
      "Requirement already satisfied: pygltflib in /home/jupyter/.local/lib/python3.10/site-packages (from kaolin) (1.16.5)\n",
      "Requirement already satisfied: warp-lang in /home/jupyter/.local/lib/python3.10/site-packages (from kaolin) (1.8.1)\n",
      "Requirement already satisfied: entrypoints in /home/jupyter/.local/lib/python3.10/site-packages (from jupyter_client<8->kaolin) (0.4)\n",
      "Requirement already satisfied: jupyter-core>=4.9.2 in /home/jupyter/.local/lib/python3.10/site-packages (from jupyter_client<8->kaolin) (5.8.1)\n",
      "Requirement already satisfied: nest-asyncio>=1.5.4 in /home/jupyter/.local/lib/python3.10/site-packages (from jupyter_client<8->kaolin) (1.6.0)\n",
      "Requirement already satisfied: python-dateutil>=2.8.2 in /kernel/fallback/lib/python3.10/site-packages (from jupyter_client<8->kaolin) (2.9.0.post0)\n",
      "Requirement already satisfied: pyzmq>=23.0 in /kernel/lib/python3.10/site-packages (from jupyter_client<8->kaolin) (26.4.0)\n",
      "Requirement already satisfied: traitlets in /kernel/fallback/lib/python3.10/site-packages (from jupyter_client<8->kaolin) (5.14.3)\n",
      "Requirement already satisfied: platformdirs>=2.5 in /home/jupyter/.local/lib/python3.10/site-packages (from jupyter-core>=4.9.2->jupyter_client<8->kaolin) (4.3.8)\n",
      "Requirement already satisfied: six>=1.5 in /kernel/fallback/lib/python3.10/site-packages (from python-dateutil>=2.8.2->jupyter_client<8->kaolin) (1.17.0)\n",
      "Requirement already satisfied: blinker>=1.9.0 in /home/jupyter/.local/lib/python3.10/site-packages (from flask->kaolin) (1.9.0)\n",
      "Requirement already satisfied: click>=8.1.3 in /home/jupyter/.local/lib/python3.10/site-packages (from flask->kaolin) (8.2.2)\n",
      "Requirement already satisfied: itsdangerous>=2.2.0 in /home/jupyter/.local/lib/python3.10/site-packages (from flask->kaolin) (2.2.0)\n",
      "Requirement already satisfied: jinja2>=3.1.2 in /home/jupyter/.local/lib/python3.10/site-packages (from flask->kaolin) (3.1.4)\n",
      "Requirement already satisfied: markupsafe>=2.1.1 in /home/jupyter/.local/lib/python3.10/site-packages (from flask->kaolin) (2.1.5)\n",
      "Requirement already satisfied: werkzeug>=3.1.0 in /home/jupyter/.local/lib/python3.10/site-packages (from flask->kaolin) (3.1.3)\n",
      "Requirement already satisfied: ipywidgets<9,>=7.6.0 in /home/jupyter/.local/lib/python3.10/site-packages (from ipycanvas->kaolin) (8.1.7)\n",
      "Requirement already satisfied: widgetsnbextension~=4.0.14 in /home/jupyter/.local/lib/python3.10/site-packages (from ipywidgets<9,>=7.6.0->ipycanvas->kaolin) (4.0.14)\n",
      "Requirement already satisfied: jupyterlab_widgets~=3.0.15 in /home/jupyter/.local/lib/python3.10/site-packages (from ipywidgets<9,>=7.6.0->ipycanvas->kaolin) (3.0.15)\n",
      "Requirement already satisfied: decorator in /home/jupyter/.local/lib/python3.10/site-packages (from ipython->kaolin) (5.2.1)\n",
      "Requirement already satisfied: exceptiongroup in /home/jupyter/.local/lib/python3.10/site-packages (from ipython->kaolin) (1.3.0)\n",
      "Requirement already satisfied: jedi>=0.16 in /home/jupyter/.local/lib/python3.10/site-packages (from ipython->kaolin) (0.19.2)\n",
      "Requirement already satisfied: matplotlib-inline in /kernel/fallback/lib/python3.10/site-packages (from ipython->kaolin) (0.1.7)\n",
      "Requirement already satisfied: pexpect>4.3 in /home/jupyter/.local/lib/python3.10/site-packages (from ipython->kaolin) (4.9.0)\n",
      "Requirement already satisfied: prompt_toolkit<3.1.0,>=3.0.41 in /home/jupyter/.local/lib/python3.10/site-packages (from ipython->kaolin) (3.0.51)\n",
      "Requirement already satisfied: pygments>=2.4.0 in /home/jupyter/.local/lib/python3.10/site-packages (from ipython->kaolin) (2.19.2)\n",
      "Requirement already satisfied: stack_data in /home/jupyter/.local/lib/python3.10/site-packages (from ipython->kaolin) (0.6.3)\n",
      "Requirement already satisfied: typing_extensions>=4.6 in /home/jupyter/.local/lib/python3.10/site-packages (from ipython->kaolin) (4.12.2)\n",
      "Requirement already satisfied: wcwidth in /home/jupyter/.local/lib/python3.10/site-packages (from prompt_toolkit<3.1.0,>=3.0.41->ipython->kaolin) (0.2.13)\n",
      "Requirement already satisfied: parso<0.9.0,>=0.8.4 in /home/jupyter/.local/lib/python3.10/site-packages (from jedi>=0.16->ipython->kaolin) (0.8.4)\n",
      "Requirement already satisfied: ptyprocess>=0.5 in /home/jupyter/.local/lib/python3.10/site-packages (from pexpect>4.3->ipython->kaolin) (0.7.0)\n",
      "Requirement already satisfied: dataclasses-json>=0.0.25 in /home/jupyter/.local/lib/python3.10/site-packages (from pygltflib->kaolin) (0.6.7)\n",
      "Requirement already satisfied: deprecated in /home/jupyter/.local/lib/python3.10/site-packages (from pygltflib->kaolin) (1.2.18)\n",
      "Requirement already satisfied: marshmallow<4.0.0,>=3.18.0 in /home/jupyter/.local/lib/python3.10/site-packages (from dataclasses-json>=0.0.25->pygltflib->kaolin) (3.26.1)\n",
      "Requirement already satisfied: typing-inspect<1,>=0.4.0 in /home/jupyter/.local/lib/python3.10/site-packages (from dataclasses-json>=0.0.25->pygltflib->kaolin) (0.9.0)\n",
      "Requirement already satisfied: packaging>=17.0 in /home/jupyter/.local/lib/python3.10/site-packages (from marshmallow<4.0.0,>=3.18.0->dataclasses-json>=0.0.25->pygltflib->kaolin) (25.0)\n",
      "Requirement already satisfied: mypy-extensions>=0.3.0 in /home/jupyter/.local/lib/python3.10/site-packages (from typing-inspect<1,>=0.4.0->dataclasses-json>=0.0.25->pygltflib->kaolin) (1.1.0)\n",
      "Requirement already satisfied: wrapt<2,>=1.10 in /home/jupyter/.local/lib/python3.10/site-packages (from deprecated->pygltflib->kaolin) (1.17.2)\n",
      "Requirement already satisfied: executing>=1.2.0 in /home/jupyter/.local/lib/python3.10/site-packages (from stack_data->ipython->kaolin) (2.2.0)\n",
      "Requirement already satisfied: asttokens>=2.1.0 in /home/jupyter/.local/lib/python3.10/site-packages (from stack_data->ipython->kaolin) (3.0.0)\n",
      "Requirement already satisfied: pure-eval in /home/jupyter/.local/lib/python3.10/site-packages (from stack_data->ipython->kaolin) (0.2.3)\n",
      "\n",
      "\u001b[1m[\u001b[0m\u001b[34;49mnotice\u001b[0m\u001b[1;39;49m]\u001b[0m\u001b[39;49m A new release of pip is available: \u001b[0m\u001b[31;49m23.0.1\u001b[0m\u001b[39;49m -> \u001b[0m\u001b[32;49m25.2\u001b[0m\n",
      "\u001b[1m[\u001b[0m\u001b[34;49mnotice\u001b[0m\u001b[1;39;49m]\u001b[0m\u001b[39;49m To update, run: \u001b[0m\u001b[32;49mpython3 -m pip install --upgrade pip\u001b[0m\n"
     ]
    }
   ],
   "source": [
    "pip install kaolin -f https://nvidia-kaolin.s3.us-east-2.amazonaws.com/torch-2.4.0_cu121.html"
   ]
  },
  {
   "cell_type": "code",
   "execution_count": 9,
   "id": "a9728b96-0b84-4409-b4d7-3489b063483b",
   "metadata": {
    "execution": {
     "iopub.execute_input": "2025-08-02T19:46:29.901840Z",
     "iopub.status.busy": "2025-08-02T19:46:29.900515Z",
     "iopub.status.idle": "2025-08-02T19:48:16.431552Z",
     "shell.execute_reply": "2025-08-02T19:48:16.430164Z",
     "shell.execute_reply.started": "2025-08-02T19:46:29.901802Z"
    },
    "tags": []
   },
   "outputs": [
    {
     "name": "stdout",
     "output_type": "stream",
     "text": [
      "Submodule path 'lib/glm': checked out '33b4a621a697a305bc3a7610d290677b96beb181'\n"
     ]
    },
    {
     "name": "stderr",
     "output_type": "stream",
     "text": [
      "Cloning into '/tmp/extensions/diffoctreerast'...\n",
      "Submodule 'lib/glm' (https://github.com/g-truc/glm.git) registered for path 'lib/glm'\n",
      "Cloning into '/tmp/extensions/diffoctreerast/lib/glm'...\n"
     ]
    },
    {
     "name": "stdout",
     "output_type": "stream",
     "text": [
      "Defaulting to user installation because normal site-packages is not writeable\n",
      "Processing /tmp/extensions/diffoctreerast\n",
      "  Preparing metadata (setup.py) ... \u001b[?25ldone\n",
      "\u001b[?25hBuilding wheels for collected packages: diffoctreerast\n",
      "\u001b[33m  DEPRECATION: Building 'diffoctreerast' using the legacy setup.py bdist_wheel mechanism, which will be removed in a future version. pip 25.3 will enforce this behaviour change. A possible replacement is to use the standardized build interface by setting the `--use-pep517` option, (possibly combined with `--no-build-isolation`), or adding a `pyproject.toml` file to the source tree of 'diffoctreerast'. Discussion can be found at https://github.com/pypa/pip/issues/6334\u001b[0m\u001b[33m\n",
      "\u001b[0m  Building wheel for diffoctreerast (setup.py) ... \u001b[?25ldone\n",
      "\u001b[?25h  Created wheel for diffoctreerast: filename=diffoctreerast-0.0.0-cp310-cp310-linux_x86_64.whl size=10879239 sha256=b7c197e225f6693e345cae96c796c495eb829a0de9e280d90c5c54729b07cde2\n",
      "  Stored in directory: /tmp/pip-ephem-wheel-cache-lut_0pek/wheels/e8/3e/62/77a8487e343a050f38d5fe7fa907473e52889ca0fece765b78\n",
      "Successfully built diffoctreerast\n",
      "Installing collected packages: diffoctreerast\n",
      "Successfully installed diffoctreerast-0.0.0\n",
      "\n",
      "\u001b[1m[\u001b[0m\u001b[34;49mnotice\u001b[0m\u001b[1;39;49m]\u001b[0m\u001b[39;49m A new release of pip is available: \u001b[0m\u001b[31;49m23.0.1\u001b[0m\u001b[39;49m -> \u001b[0m\u001b[32;49m25.2\u001b[0m\n",
      "\u001b[1m[\u001b[0m\u001b[34;49mnotice\u001b[0m\u001b[1;39;49m]\u001b[0m\u001b[39;49m To update, run: \u001b[0m\u001b[32;49mpython3 -m pip install --upgrade pip\u001b[0m\n"
     ]
    }
   ],
   "source": [
    "!mkdir -p /tmp/extensions\n",
    "!git clone --recurse-submodules https://github.com/JeffreyXiang/diffoctreerast.git /tmp/extensions/diffoctreerast\n",
    "%pip install /tmp/extensions/diffoctreerast\n",
    "!rm -r /tmp/extensions"
   ]
  },
  {
   "cell_type": "code",
   "execution_count": 15,
   "id": "e7acc769-302e-4eee-884e-d24ef5282927",
   "metadata": {
    "execution": {
     "iopub.execute_input": "2025-08-02T19:48:45.373397Z",
     "iopub.status.busy": "2025-08-02T19:48:45.371968Z",
     "iopub.status.idle": "2025-08-02T19:49:55.846576Z",
     "shell.execute_reply": "2025-08-02T19:49:55.845263Z",
     "shell.execute_reply.started": "2025-08-02T19:48:45.373252Z"
    },
    "tags": []
   },
   "outputs": [
    {
     "name": "stdout",
     "output_type": "stream",
     "text": [
      "Using pip 25.1.1 from /kernel/lib/python3.10/site-packages/pip (python 3.10)\n",
      "Defaulting to user installation because normal site-packages is not writeable\n",
      "Collecting flash-attn==2.6.3\n",
      "  Downloading flash_attn-2.6.3.tar.gz (2.6 MB)\n",
      "\u001b[2K     \u001b[90m━━━━━━━━━━━━━━━━━━━━━━━━━━━━━━━━━━━━━━━━\u001b[0m \u001b[32m2.6/2.6 MB\u001b[0m \u001b[31m14.1 MB/s\u001b[0m eta \u001b[36m0:00:00\u001b[0ma \u001b[36m0:00:01\u001b[0m\n",
      "\u001b[?25h  Running command python setup.py egg_info\n",
      "  fatal: not a git repository (or any of the parent directories): .git\n",
      "\n",
      "\n",
      "  torch.__version__  = 2.4.0+cu118\n",
      "\n",
      "\n",
      "  running egg_info\n",
      "  creating /tmp/pip-pip-egg-info-7ws0ke0h/flash_attn.egg-info\n",
      "  writing /tmp/pip-pip-egg-info-7ws0ke0h/flash_attn.egg-info/PKG-INFO\n",
      "  writing dependency_links to /tmp/pip-pip-egg-info-7ws0ke0h/flash_attn.egg-info/dependency_links.txt\n",
      "  writing requirements to /tmp/pip-pip-egg-info-7ws0ke0h/flash_attn.egg-info/requires.txt\n",
      "  writing top-level names to /tmp/pip-pip-egg-info-7ws0ke0h/flash_attn.egg-info/top_level.txt\n",
      "  writing manifest file '/tmp/pip-pip-egg-info-7ws0ke0h/flash_attn.egg-info/SOURCES.txt'\n",
      "  reading manifest file '/tmp/pip-pip-egg-info-7ws0ke0h/flash_attn.egg-info/SOURCES.txt'\n",
      "  reading manifest template 'MANIFEST.in'\n",
      "  warning: no files found matching '*.cu' under directory 'flash_attn'\n",
      "  warning: no files found matching '*.h' under directory 'flash_attn'\n",
      "  warning: no files found matching '*.cuh' under directory 'flash_attn'\n",
      "  warning: no files found matching '*.cpp' under directory 'flash_attn'\n",
      "  warning: no files found matching '*.hpp' under directory 'flash_attn'\n",
      "  adding license file 'LICENSE'\n",
      "  adding license file 'AUTHORS'\n",
      "  writing manifest file '/tmp/pip-pip-egg-info-7ws0ke0h/flash_attn.egg-info/SOURCES.txt'\n",
      "  Preparing metadata (setup.py) ... \u001b[?25l\u001b[?25hdone\n",
      "Requirement already satisfied: torch in /home/jupyter/.local/lib/python3.10/site-packages (from flash-attn==2.6.3) (2.4.0+cu118)\n",
      "Collecting einops (from flash-attn==2.6.3)\n",
      "  Obtaining dependency information for einops from https://files.pythonhosted.org/packages/87/62/9773de14fe6c45c23649e98b83231fffd7b9892b6cf863251dc2afa73643/einops-0.8.1-py3-none-any.whl.metadata\n",
      "  Downloading einops-0.8.1-py3-none-any.whl.metadata (13 kB)\n",
      "Requirement already satisfied: filelock in /home/jupyter/.local/lib/python3.10/site-packages (from torch->flash-attn==2.6.3) (3.13.1)\n",
      "Requirement already satisfied: typing-extensions>=4.8.0 in /home/jupyter/.local/lib/python3.10/site-packages (from torch->flash-attn==2.6.3) (4.12.2)\n",
      "Requirement already satisfied: sympy in /home/jupyter/.local/lib/python3.10/site-packages (from torch->flash-attn==2.6.3) (1.13.3)\n",
      "Requirement already satisfied: networkx in /home/jupyter/.local/lib/python3.10/site-packages (from torch->flash-attn==2.6.3) (3.3)\n",
      "Requirement already satisfied: jinja2 in /home/jupyter/.local/lib/python3.10/site-packages (from torch->flash-attn==2.6.3) (3.1.4)\n",
      "Requirement already satisfied: fsspec in /home/jupyter/.local/lib/python3.10/site-packages (from torch->flash-attn==2.6.3) (2024.6.1)\n",
      "Requirement already satisfied: nvidia-cuda-nvrtc-cu11==11.8.89 in /home/jupyter/.local/lib/python3.10/site-packages (from torch->flash-attn==2.6.3) (11.8.89)\n",
      "Requirement already satisfied: nvidia-cuda-runtime-cu11==11.8.89 in /home/jupyter/.local/lib/python3.10/site-packages (from torch->flash-attn==2.6.3) (11.8.89)\n",
      "Requirement already satisfied: nvidia-cuda-cupti-cu11==11.8.87 in /home/jupyter/.local/lib/python3.10/site-packages (from torch->flash-attn==2.6.3) (11.8.87)\n",
      "Requirement already satisfied: nvidia-cudnn-cu11==9.1.0.70 in /home/jupyter/.local/lib/python3.10/site-packages (from torch->flash-attn==2.6.3) (9.1.0.70)\n",
      "Requirement already satisfied: nvidia-cublas-cu11==11.11.3.6 in /home/jupyter/.local/lib/python3.10/site-packages (from torch->flash-attn==2.6.3) (11.11.3.6)\n",
      "Requirement already satisfied: nvidia-cufft-cu11==10.9.0.58 in /home/jupyter/.local/lib/python3.10/site-packages (from torch->flash-attn==2.6.3) (10.9.0.58)\n",
      "Requirement already satisfied: nvidia-curand-cu11==10.3.0.86 in /home/jupyter/.local/lib/python3.10/site-packages (from torch->flash-attn==2.6.3) (10.3.0.86)\n",
      "Requirement already satisfied: nvidia-cusolver-cu11==11.4.1.48 in /home/jupyter/.local/lib/python3.10/site-packages (from torch->flash-attn==2.6.3) (11.4.1.48)\n",
      "Requirement already satisfied: nvidia-cusparse-cu11==11.7.5.86 in /home/jupyter/.local/lib/python3.10/site-packages (from torch->flash-attn==2.6.3) (11.7.5.86)\n",
      "Requirement already satisfied: nvidia-nccl-cu11==2.20.5 in /home/jupyter/.local/lib/python3.10/site-packages (from torch->flash-attn==2.6.3) (2.20.5)\n",
      "Requirement already satisfied: nvidia-nvtx-cu11==11.8.86 in /home/jupyter/.local/lib/python3.10/site-packages (from torch->flash-attn==2.6.3) (11.8.86)\n",
      "Requirement already satisfied: triton==3.0.0 in /home/jupyter/.local/lib/python3.10/site-packages (from torch->flash-attn==2.6.3) (3.0.0)\n",
      "Requirement already satisfied: MarkupSafe>=2.0 in /home/jupyter/.local/lib/python3.10/site-packages (from jinja2->torch->flash-attn==2.6.3) (2.1.5)\n",
      "Requirement already satisfied: mpmath<1.4,>=1.1.0 in /home/jupyter/.local/lib/python3.10/site-packages (from sympy->torch->flash-attn==2.6.3) (1.3.0)\n",
      "Downloading einops-0.8.1-py3-none-any.whl (64 kB)\n",
      "Building wheels for collected packages: flash-attn\n",
      "\u001b[33m  DEPRECATION: Building 'flash-attn' using the legacy setup.py bdist_wheel mechanism, which will be removed in a future version. pip 25.3 will enforce this behaviour change. A possible replacement is to use the standardized build interface by setting the `--use-pep517` option, (possibly combined with `--no-build-isolation`), or adding a `pyproject.toml` file to the source tree of 'flash-attn'. Discussion can be found at https://github.com/pypa/pip/issues/6334\u001b[0m\u001b[33m\n",
      "\u001b[0m  Running command python setup.py bdist_wheel\n",
      "  fatal: not a git repository (or any of the parent directories): .git\n",
      "\n",
      "\n",
      "  torch.__version__  = 2.4.0+cu118\n",
      "\n",
      "\n",
      "  running bdist_wheel\n",
      "  Guessing wheel URL:  https://github.com/Dao-AILab/flash-attention/releases/download/v2.6.3/flash_attn-2.6.3+cu118torch2.4cxx11abiFALSE-cp310-cp310-linux_x86_64.whl\n",
      "  Raw wheel path /tmp/pip-wheel-5cm94pqk/flash_attn-2.6.3-cp310-cp310-linux_x86_64.whl\n",
      "  Building wheel for flash-attn (setup.py) ... \u001b[?25l\u001b[?25hdone\n",
      "  Created wheel for flash-attn: filename=flash_attn-2.6.3-cp310-cp310-linux_x86_64.whl size=189315117 sha256=54e0a7eb80bac9ef0a759f7952202688e514c68c79370e642701b968c8e29ce1\n",
      "  Stored in directory: /tmp/xdg_cache/pip/wheels/7e/e3/c3/89c7a2f3c4adc07cd1c675f8bb7b9ad4d18f64a72bccdfe826\n",
      "Successfully built flash-attn\n",
      "Installing collected packages: einops, flash-attn\n",
      "\u001b[2K   \u001b[90m━━━━━━━━━━━━━━━━━━━━━━━━━━━━━━━━━━━━━━━━\u001b[0m \u001b[32m2/2\u001b[0m [flash-attn]2\u001b[0m [flash-attn]\n",
      "\u001b[1A\u001b[2KSuccessfully installed einops-0.8.1 flash-attn-2.6.3\n",
      "\n",
      "\u001b[1m[\u001b[0m\u001b[34;49mnotice\u001b[0m\u001b[1;39;49m]\u001b[0m\u001b[39;49m A new release of pip is available: \u001b[0m\u001b[31;49m23.0.1\u001b[0m\u001b[39;49m -> \u001b[0m\u001b[32;49m25.2\u001b[0m\n",
      "\u001b[1m[\u001b[0m\u001b[34;49mnotice\u001b[0m\u001b[1;39;49m]\u001b[0m\u001b[39;49m To update, run: \u001b[0m\u001b[32;49mpython3 -m pip install --upgrade pip\u001b[0m\n"
     ]
    }
   ],
   "source": [
    "%pip -v install flash-attn==2.6.3 --no-build-isolation"
   ]
  },
  {
   "cell_type": "code",
   "execution_count": 16,
   "id": "1b89378d-e87f-420e-9375-36691528fd52",
   "metadata": {
    "execution": {
     "iopub.execute_input": "2025-08-02T19:49:55.849948Z",
     "iopub.status.busy": "2025-08-02T19:49:55.848873Z",
     "iopub.status.idle": "2025-08-02T19:50:04.610585Z",
     "shell.execute_reply": "2025-08-02T19:50:04.609240Z",
     "shell.execute_reply.started": "2025-08-02T19:49:55.849887Z"
    },
    "tags": []
   },
   "outputs": [
    {
     "name": "stderr",
     "output_type": "stream",
     "text": [
      "Cloning into '/tmp/extensions/nvdiffrast'...\n"
     ]
    },
    {
     "name": "stdout",
     "output_type": "stream",
     "text": [
      "Defaulting to user installation because normal site-packages is not writeable\n",
      "Processing /tmp/extensions/nvdiffrast\n",
      "  Preparing metadata (setup.py) ... \u001b[?25ldone\n",
      "\u001b[?25hRequirement already satisfied: numpy in /home/jupyter/.local/lib/python3.10/site-packages (from nvdiffrast==0.3.3) (1.24.1)\n",
      "Building wheels for collected packages: nvdiffrast\n",
      "\u001b[33m  DEPRECATION: Building 'nvdiffrast' using the legacy setup.py bdist_wheel mechanism, which will be removed in a future version. pip 25.3 will enforce this behaviour change. A possible replacement is to use the standardized build interface by setting the `--use-pep517` option, (possibly combined with `--no-build-isolation`), or adding a `pyproject.toml` file to the source tree of 'nvdiffrast'. Discussion can be found at https://github.com/pypa/pip/issues/6334\u001b[0m\u001b[33m\n",
      "\u001b[0m  Building wheel for nvdiffrast (setup.py) ... \u001b[?25ldone\n",
      "\u001b[?25h  Created wheel for nvdiffrast: filename=nvdiffrast-0.3.3-py3-none-any.whl size=139908 sha256=179cce02cda1b385542e551d59c28a61e61e9941be7508c2072d4a667cfa0992\n",
      "  Stored in directory: /tmp/pip-ephem-wheel-cache-2ai0ji6x/wheels/6a/09/0b/f161c5e9bdbb98d5f8c504e6b850646975ca36813f94a45235\n",
      "Successfully built nvdiffrast\n",
      "Installing collected packages: nvdiffrast\n",
      "Successfully installed nvdiffrast-0.3.3\n",
      "\n",
      "\u001b[1m[\u001b[0m\u001b[34;49mnotice\u001b[0m\u001b[1;39;49m]\u001b[0m\u001b[39;49m A new release of pip is available: \u001b[0m\u001b[31;49m23.0.1\u001b[0m\u001b[39;49m -> \u001b[0m\u001b[32;49m25.2\u001b[0m\n",
      "\u001b[1m[\u001b[0m\u001b[34;49mnotice\u001b[0m\u001b[1;39;49m]\u001b[0m\u001b[39;49m To update, run: \u001b[0m\u001b[32;49mpython3 -m pip install --upgrade pip\u001b[0m\n"
     ]
    }
   ],
   "source": [
    "!mkdir -p /tmp/extensions\n",
    "!git clone https://github.com/NVlabs/nvdiffrast.git /tmp/extensions/nvdiffrast\n",
    "%pip install /tmp/extensions/nvdiffrast\n",
    "!rm -r /tmp/extensions"
   ]
  },
  {
   "cell_type": "code",
   "execution_count": 17,
   "id": "94ef0dda-711b-4870-a656-3169830de2bd",
   "metadata": {
    "execution": {
     "iopub.execute_input": "2025-08-02T19:50:04.613246Z",
     "iopub.status.busy": "2025-08-02T19:50:04.612284Z",
     "iopub.status.idle": "2025-08-02T19:51:08.265976Z",
     "shell.execute_reply": "2025-08-02T19:51:08.264639Z",
     "shell.execute_reply.started": "2025-08-02T19:50:04.613189Z"
    },
    "tags": []
   },
   "outputs": [
    {
     "name": "stdout",
     "output_type": "stream",
     "text": [
      "Defaulting to user installation because normal site-packages is not writeable\n",
      "Collecting spconv-cu118\n",
      "  Downloading spconv_cu118-2.3.8-cp310-cp310-manylinux_2_17_x86_64.manylinux2014_x86_64.whl.metadata (12 kB)\n",
      "Collecting pccm>=0.4.16 (from spconv-cu118)\n",
      "  Downloading pccm-0.4.16-py3-none-any.whl.metadata (1.1 kB)\n",
      "Collecting ccimport>=0.4.4 (from spconv-cu118)\n",
      "  Downloading ccimport-0.4.4-py3-none-any.whl.metadata (1.4 kB)\n",
      "Requirement already satisfied: pybind11>=2.6.0 in /home/jupyter/.local/lib/python3.10/site-packages (from spconv-cu118) (3.0.0)\n",
      "Collecting fire (from spconv-cu118)\n",
      "  Downloading fire-0.7.0.tar.gz (87 kB)\n",
      "  Preparing metadata (setup.py) ... \u001b[?25ldone\n",
      "\u001b[?25hRequirement already satisfied: numpy in /home/jupyter/.local/lib/python3.10/site-packages (from spconv-cu118) (1.24.1)\n",
      "Collecting cumm-cu118<0.8.0,>=0.7.11 (from spconv-cu118)\n",
      "  Downloading cumm_cu118-0.7.11-cp310-cp310-manylinux_2_17_x86_64.manylinux2014_x86_64.whl.metadata (6.2 kB)\n",
      "Requirement already satisfied: sympy in /home/jupyter/.local/lib/python3.10/site-packages (from cumm-cu118<0.8.0,>=0.7.11->spconv-cu118) (1.13.3)\n",
      "Requirement already satisfied: ninja in /home/jupyter/.local/lib/python3.10/site-packages (from ccimport>=0.4.4->spconv-cu118) (1.11.1.4)\n",
      "Requirement already satisfied: requests in /kernel/fallback/lib/python3.10/site-packages (from ccimport>=0.4.4->spconv-cu118) (2.31.0)\n",
      "Collecting lark>=1.0.0 (from pccm>=0.4.16->spconv-cu118)\n",
      "  Downloading lark-1.2.2-py3-none-any.whl.metadata (1.8 kB)\n",
      "Collecting portalocker>=2.3.2 (from pccm>=0.4.16->spconv-cu118)\n",
      "  Downloading portalocker-3.2.0-py3-none-any.whl.metadata (8.7 kB)\n",
      "Collecting termcolor (from fire->spconv-cu118)\n",
      "  Downloading termcolor-3.1.0-py3-none-any.whl.metadata (6.4 kB)\n",
      "Requirement already satisfied: charset-normalizer<4,>=2 in /kernel/fallback/lib/python3.10/site-packages (from requests->ccimport>=0.4.4->spconv-cu118) (3.4.2)\n",
      "Requirement already satisfied: idna<4,>=2.5 in /kernel/fallback/lib/python3.10/site-packages (from requests->ccimport>=0.4.4->spconv-cu118) (3.10)\n",
      "Requirement already satisfied: urllib3<3,>=1.21.1 in /kernel/fallback/lib/python3.10/site-packages (from requests->ccimport>=0.4.4->spconv-cu118) (1.25.11)\n",
      "Requirement already satisfied: certifi>=2017.4.17 in /kernel/fallback/lib/python3.10/site-packages (from requests->ccimport>=0.4.4->spconv-cu118) (2025.4.26)\n",
      "Requirement already satisfied: mpmath<1.4,>=1.1.0 in /home/jupyter/.local/lib/python3.10/site-packages (from sympy->cumm-cu118<0.8.0,>=0.7.11->spconv-cu118) (1.3.0)\n",
      "Downloading spconv_cu118-2.3.8-cp310-cp310-manylinux_2_17_x86_64.manylinux2014_x86_64.whl (75.9 MB)\n",
      "\u001b[2K   \u001b[90m━━━━━━━━━━━━━━━━━━━━━━━━━━━━━━━━━━━━━━━━\u001b[0m \u001b[32m75.9/75.9 MB\u001b[0m \u001b[31m54.0 MB/s\u001b[0m eta \u001b[36m0:00:00\u001b[0m00:01\u001b[0m00:01\u001b[0m\n",
      "\u001b[?25hDownloading cumm_cu118-0.7.11-cp310-cp310-manylinux_2_17_x86_64.manylinux2014_x86_64.whl (25.6 MB)\n",
      "\u001b[2K   \u001b[90m━━━━━━━━━━━━━━━━━━━━━━━━━━━━━━━━━━━━━━━━\u001b[0m \u001b[32m25.6/25.6 MB\u001b[0m \u001b[31m63.8 MB/s\u001b[0m eta \u001b[36m0:00:00\u001b[0ma \u001b[36m0:00:01\u001b[0m\n",
      "\u001b[?25hDownloading ccimport-0.4.4-py3-none-any.whl (27 kB)\n",
      "Downloading pccm-0.4.16-py3-none-any.whl (73 kB)\n",
      "Downloading lark-1.2.2-py3-none-any.whl (111 kB)\n",
      "Downloading portalocker-3.2.0-py3-none-any.whl (22 kB)\n",
      "Downloading termcolor-3.1.0-py3-none-any.whl (7.7 kB)\n",
      "Building wheels for collected packages: fire\n",
      "\u001b[33m  DEPRECATION: Building 'fire' using the legacy setup.py bdist_wheel mechanism, which will be removed in a future version. pip 25.3 will enforce this behaviour change. A possible replacement is to use the standardized build interface by setting the `--use-pep517` option, (possibly combined with `--no-build-isolation`), or adding a `pyproject.toml` file to the source tree of 'fire'. Discussion can be found at https://github.com/pypa/pip/issues/6334\u001b[0m\u001b[33m\n",
      "\u001b[0m  Building wheel for fire (setup.py) ... \u001b[?25ldone\n",
      "\u001b[?25h  Created wheel for fire: filename=fire-0.7.0-py3-none-any.whl size=114249 sha256=73e0515fabe9a33c2fc9590f2b7089a575ca718cffd981380630413f1dd9053f\n",
      "  Stored in directory: /tmp/xdg_cache/pip/wheels/19/39/2f/2d3cadc408a8804103f1c34ddd4b9f6a93497b11fa96fe738e\n",
      "Successfully built fire\n",
      "Installing collected packages: termcolor, portalocker, lark, fire, ccimport, pccm, cumm-cu118, spconv-cu118\n",
      "\u001b[2K   \u001b[90m━━━━━━━━━━━━━━━━━━━━━━━━━━━━━━━━━━━━━━━━\u001b[0m \u001b[32m8/8\u001b[0m [spconv-cu118][0m [spconv-cu118]\n",
      "\u001b[1A\u001b[2KSuccessfully installed ccimport-0.4.4 cumm-cu118-0.7.11 fire-0.7.0 lark-1.2.2 pccm-0.4.16 portalocker-3.2.0 spconv-cu118-2.3.8 termcolor-3.1.0\n",
      "\n",
      "\u001b[1m[\u001b[0m\u001b[34;49mnotice\u001b[0m\u001b[1;39;49m]\u001b[0m\u001b[39;49m A new release of pip is available: \u001b[0m\u001b[31;49m23.0.1\u001b[0m\u001b[39;49m -> \u001b[0m\u001b[32;49m25.2\u001b[0m\n",
      "\u001b[1m[\u001b[0m\u001b[34;49mnotice\u001b[0m\u001b[1;39;49m]\u001b[0m\u001b[39;49m To update, run: \u001b[0m\u001b[32;49mpython3 -m pip install --upgrade pip\u001b[0m\n"
     ]
    }
   ],
   "source": [
    "%pip install spconv-cu118"
   ]
  },
  {
   "cell_type": "code",
   "execution_count": 18,
   "id": "d55f134e-2226-4bdc-a362-59d1cd6ad0b9",
   "metadata": {
    "execution": {
     "iopub.execute_input": "2025-08-02T19:51:08.269987Z",
     "iopub.status.busy": "2025-08-02T19:51:08.268626Z",
     "iopub.status.idle": "2025-08-02T19:51:27.071411Z",
     "shell.execute_reply": "2025-08-02T19:51:27.070076Z",
     "shell.execute_reply.started": "2025-08-02T19:51:08.269927Z"
    },
    "tags": []
   },
   "outputs": [
    {
     "name": "stdout",
     "output_type": "stream",
     "text": [
      "Defaulting to user installation because normal site-packages is not writeable\n",
      "Looking in indexes: https://download.pytorch.org/whl/cu118\n",
      "Collecting xformers==0.0.27.post2\n",
      "  Downloading https://download.pytorch.org/whl/cu118/xformers-0.0.27.post2%2Bcu118-cp310-cp310-manylinux2014_x86_64.whl (20.6 MB)\n",
      "\u001b[2K     \u001b[90m━━━━━━━━━━━━━━━━━━━━━━━━━━━━━━━━━━━━━━━━\u001b[0m \u001b[32m20.6/20.6 MB\u001b[0m \u001b[31m66.9 MB/s\u001b[0m eta \u001b[36m0:00:00\u001b[0ma \u001b[36m0:00:01\u001b[0m\n",
      "\u001b[?25hRequirement already satisfied: numpy in /home/jupyter/.local/lib/python3.10/site-packages (from xformers==0.0.27.post2) (1.24.1)\n",
      "Requirement already satisfied: torch==2.4.0 in /home/jupyter/.local/lib/python3.10/site-packages (from xformers==0.0.27.post2) (2.4.0+cu118)\n",
      "Requirement already satisfied: filelock in /home/jupyter/.local/lib/python3.10/site-packages (from torch==2.4.0->xformers==0.0.27.post2) (3.13.1)\n",
      "Requirement already satisfied: typing-extensions>=4.8.0 in /home/jupyter/.local/lib/python3.10/site-packages (from torch==2.4.0->xformers==0.0.27.post2) (4.12.2)\n",
      "Requirement already satisfied: sympy in /home/jupyter/.local/lib/python3.10/site-packages (from torch==2.4.0->xformers==0.0.27.post2) (1.13.3)\n",
      "Requirement already satisfied: networkx in /home/jupyter/.local/lib/python3.10/site-packages (from torch==2.4.0->xformers==0.0.27.post2) (3.3)\n",
      "Requirement already satisfied: jinja2 in /home/jupyter/.local/lib/python3.10/site-packages (from torch==2.4.0->xformers==0.0.27.post2) (3.1.4)\n",
      "Requirement already satisfied: fsspec in /home/jupyter/.local/lib/python3.10/site-packages (from torch==2.4.0->xformers==0.0.27.post2) (2024.6.1)\n",
      "Requirement already satisfied: nvidia-cuda-nvrtc-cu11==11.8.89 in /home/jupyter/.local/lib/python3.10/site-packages (from torch==2.4.0->xformers==0.0.27.post2) (11.8.89)\n",
      "Requirement already satisfied: nvidia-cuda-runtime-cu11==11.8.89 in /home/jupyter/.local/lib/python3.10/site-packages (from torch==2.4.0->xformers==0.0.27.post2) (11.8.89)\n",
      "Requirement already satisfied: nvidia-cuda-cupti-cu11==11.8.87 in /home/jupyter/.local/lib/python3.10/site-packages (from torch==2.4.0->xformers==0.0.27.post2) (11.8.87)\n",
      "Requirement already satisfied: nvidia-cudnn-cu11==9.1.0.70 in /home/jupyter/.local/lib/python3.10/site-packages (from torch==2.4.0->xformers==0.0.27.post2) (9.1.0.70)\n",
      "Requirement already satisfied: nvidia-cublas-cu11==11.11.3.6 in /home/jupyter/.local/lib/python3.10/site-packages (from torch==2.4.0->xformers==0.0.27.post2) (11.11.3.6)\n",
      "Requirement already satisfied: nvidia-cufft-cu11==10.9.0.58 in /home/jupyter/.local/lib/python3.10/site-packages (from torch==2.4.0->xformers==0.0.27.post2) (10.9.0.58)\n",
      "Requirement already satisfied: nvidia-curand-cu11==10.3.0.86 in /home/jupyter/.local/lib/python3.10/site-packages (from torch==2.4.0->xformers==0.0.27.post2) (10.3.0.86)\n",
      "Requirement already satisfied: nvidia-cusolver-cu11==11.4.1.48 in /home/jupyter/.local/lib/python3.10/site-packages (from torch==2.4.0->xformers==0.0.27.post2) (11.4.1.48)\n",
      "Requirement already satisfied: nvidia-cusparse-cu11==11.7.5.86 in /home/jupyter/.local/lib/python3.10/site-packages (from torch==2.4.0->xformers==0.0.27.post2) (11.7.5.86)\n",
      "Requirement already satisfied: nvidia-nccl-cu11==2.20.5 in /home/jupyter/.local/lib/python3.10/site-packages (from torch==2.4.0->xformers==0.0.27.post2) (2.20.5)\n",
      "Requirement already satisfied: nvidia-nvtx-cu11==11.8.86 in /home/jupyter/.local/lib/python3.10/site-packages (from torch==2.4.0->xformers==0.0.27.post2) (11.8.86)\n",
      "Requirement already satisfied: triton==3.0.0 in /home/jupyter/.local/lib/python3.10/site-packages (from torch==2.4.0->xformers==0.0.27.post2) (3.0.0)\n",
      "Requirement already satisfied: MarkupSafe>=2.0 in /home/jupyter/.local/lib/python3.10/site-packages (from jinja2->torch==2.4.0->xformers==0.0.27.post2) (2.1.5)\n",
      "Requirement already satisfied: mpmath<1.4,>=1.1.0 in /home/jupyter/.local/lib/python3.10/site-packages (from sympy->torch==2.4.0->xformers==0.0.27.post2) (1.3.0)\n",
      "Installing collected packages: xformers\n",
      "Successfully installed xformers-0.0.27.post2+cu118\n",
      "\n",
      "\u001b[1m[\u001b[0m\u001b[34;49mnotice\u001b[0m\u001b[1;39;49m]\u001b[0m\u001b[39;49m A new release of pip is available: \u001b[0m\u001b[31;49m23.0.1\u001b[0m\u001b[39;49m -> \u001b[0m\u001b[32;49m25.2\u001b[0m\n",
      "\u001b[1m[\u001b[0m\u001b[34;49mnotice\u001b[0m\u001b[1;39;49m]\u001b[0m\u001b[39;49m To update, run: \u001b[0m\u001b[32;49mpython3 -m pip install --upgrade pip\u001b[0m\n"
     ]
    }
   ],
   "source": [
    "%pip install xformers==0.0.27.post2 --index-url https://download.pytorch.org/whl/cu118"
   ]
  },
  {
   "cell_type": "code",
   "execution_count": 20,
   "id": "f89ec111-a509-4ec5-9c20-c7702e5d6fe2",
   "metadata": {
    "execution": {
     "iopub.execute_input": "2025-08-02T19:51:40.298788Z",
     "iopub.status.busy": "2025-08-02T19:51:40.297839Z",
     "iopub.status.idle": "2025-08-02T19:53:35.237709Z",
     "shell.execute_reply": "2025-08-02T19:53:35.236202Z",
     "shell.execute_reply.started": "2025-08-02T19:51:40.298739Z"
    },
    "tags": []
   },
   "outputs": [
    {
     "name": "stderr",
     "output_type": "stream",
     "text": [
      "Cloning into '/tmp/extensions/mip-splatting'...\n"
     ]
    },
    {
     "name": "stdout",
     "output_type": "stream",
     "text": [
      "Defaulting to user installation because normal site-packages is not writeable\n",
      "Processing /tmp/extensions/mip-splatting/submodules/diff-gaussian-rasterization\n",
      "  Preparing metadata (setup.py) ... \u001b[?25ldone\n",
      "\u001b[?25hBuilding wheels for collected packages: diff-gaussian-rasterization\n",
      "\u001b[33m  DEPRECATION: Building 'diff-gaussian-rasterization' using the legacy setup.py bdist_wheel mechanism, which will be removed in a future version. pip 25.3 will enforce this behaviour change. A possible replacement is to use the standardized build interface by setting the `--use-pep517` option, (possibly combined with `--no-build-isolation`), or adding a `pyproject.toml` file to the source tree of 'diff-gaussian-rasterization'. Discussion can be found at https://github.com/pypa/pip/issues/6334\u001b[0m\u001b[33m\n",
      "\u001b[0m  Building wheel for diff-gaussian-rasterization (setup.py) ... \u001b[?25ldone\n",
      "\u001b[?25h  Created wheel for diff-gaussian-rasterization: filename=diff_gaussian_rasterization-0.0.0-cp310-cp310-linux_x86_64.whl size=3182474 sha256=b0c0708212f34d817f2a77097bc7754c0d8e8f86d21693a7aababf853be4b3c1\n",
      "  Stored in directory: /tmp/xdg_cache/pip/wheels/0b/5c/ed/4b0b0112fbd08684210163398b8ba561e40364c5c1192af9c0\n",
      "Successfully built diff-gaussian-rasterization\n",
      "Installing collected packages: diff-gaussian-rasterization\n",
      "Successfully installed diff-gaussian-rasterization-0.0.0\n",
      "\n",
      "\u001b[1m[\u001b[0m\u001b[34;49mnotice\u001b[0m\u001b[1;39;49m]\u001b[0m\u001b[39;49m A new release of pip is available: \u001b[0m\u001b[31;49m23.0.1\u001b[0m\u001b[39;49m -> \u001b[0m\u001b[32;49m25.2\u001b[0m\n",
      "\u001b[1m[\u001b[0m\u001b[34;49mnotice\u001b[0m\u001b[1;39;49m]\u001b[0m\u001b[39;49m To update, run: \u001b[0m\u001b[32;49mpython3 -m pip install --upgrade pip\u001b[0m\n"
     ]
    }
   ],
   "source": [
    "!mkdir -p /tmp/extensions\n",
    "!git clone https://github.com/autonomousvision/mip-splatting.git /tmp/extensions/mip-splatting\n",
    "%pip install /tmp/extensions/mip-splatting/submodules/diff-gaussian-rasterization/\n",
    "!rm -r /tmp/extensions"
   ]
  },
  {
   "cell_type": "markdown",
   "id": "53afa891-e3ed-4aa7-9a30-8b2beda6b1f1",
   "metadata": {
    "tags": []
   },
   "source": [
    "### Пример инференса"
   ]
  },
  {
   "cell_type": "code",
   "execution_count": 21,
   "id": "8b215691-6127-453b-9fdc-7cd18f0423c4",
   "metadata": {
    "execution": {
     "iopub.execute_input": "2025-08-02T19:53:35.240802Z",
     "iopub.status.busy": "2025-08-02T19:53:35.240253Z",
     "iopub.status.idle": "2025-08-02T19:53:35.424611Z",
     "shell.execute_reply": "2025-08-02T19:53:35.423192Z",
     "shell.execute_reply.started": "2025-08-02T19:53:35.240767Z"
    },
    "tags": []
   },
   "outputs": [],
   "source": [
    "import os\n",
    "os.environ['ATTN_BACKEND'] = 'xformers' \n",
    "os.environ['SPCONV_ALGO'] = 'native' \n",
    "import imageio\n",
    "from PIL import Image"
   ]
  },
  {
   "cell_type": "code",
   "execution_count": 23,
   "id": "5201a78d-948c-4d86-ab63-fdcd677556ea",
   "metadata": {
    "execution": {
     "iopub.execute_input": "2025-08-02T19:54:20.678125Z",
     "iopub.status.busy": "2025-08-02T19:54:20.676545Z",
     "iopub.status.idle": "2025-08-02T19:56:56.119695Z",
     "shell.execute_reply": "2025-08-02T19:56:56.118474Z",
     "shell.execute_reply.started": "2025-08-02T19:54:20.678070Z"
    },
    "tags": []
   },
   "outputs": [
    {
     "name": "stdout",
     "output_type": "stream",
     "text": [
      "[SPARSE] Backend: spconv, Attention: xformers\n"
     ]
    },
    {
     "name": "stderr",
     "output_type": "stream",
     "text": [
      "/home/jupyter/.local/lib/python3.10/site-packages/transformers/utils/hub.py:111: FutureWarning: Using `TRANSFORMERS_CACHE` is deprecated and will be removed in v5 of Transformers. Use `HF_HOME` instead.\n",
      "  warnings.warn(\n"
     ]
    },
    {
     "name": "stdout",
     "output_type": "stream",
     "text": [
      "Jupyter environment detected. Enabling Open3D WebVisualizer.\n",
      "[Open3D INFO] WebRTC GUI backend enabled.\n",
      "[Open3D INFO] WebRTCWindowSystem: HTTP handshake server disabled.\n"
     ]
    }
   ],
   "source": [
    "from submodules.TRELLIS.trellis.pipelines import TrellisImageTo3DPipeline\n",
    "from submodules.TRELLIS.trellis.utils import render_utils, postprocessing_utils"
   ]
  },
  {
   "cell_type": "code",
   "execution_count": 24,
   "id": "655a16dd-de74-489f-9f0f-bb7cce1111bf",
   "metadata": {
    "execution": {
     "iopub.execute_input": "2025-08-02T19:57:12.209232Z",
     "iopub.status.busy": "2025-08-02T19:57:12.208053Z",
     "iopub.status.idle": "2025-08-02T20:02:16.397010Z",
     "shell.execute_reply": "2025-08-02T20:02:16.395725Z",
     "shell.execute_reply.started": "2025-08-02T19:57:12.209180Z"
    },
    "tags": []
   },
   "outputs": [
    {
     "name": "stdout",
     "output_type": "stream",
     "text": [
      "[SPARSE][CONV] spconv algo: native\n",
      "[ATTENTION] Using backend: xformers\n"
     ]
    },
    {
     "name": "stderr",
     "output_type": "stream",
     "text": [
      "Downloading: \"https://github.com/facebookresearch/dinov2/zipball/main\" to /tmp/xdg_cache/torch/hub/main.zip\n",
      "/tmp/xdg_cache/torch/hub/facebookresearch_dinov2_main/dinov2/layers/swiglu_ffn.py:43: UserWarning: xFormers is available (SwiGLU)\n",
      "  warnings.warn(\"xFormers is available (SwiGLU)\")\n",
      "/tmp/xdg_cache/torch/hub/facebookresearch_dinov2_main/dinov2/layers/attention.py:27: UserWarning: xFormers is available (Attention)\n",
      "  warnings.warn(\"xFormers is available (Attention)\")\n",
      "/tmp/xdg_cache/torch/hub/facebookresearch_dinov2_main/dinov2/layers/block.py:33: UserWarning: xFormers is available (Block)\n",
      "  warnings.warn(\"xFormers is available (Block)\")\n",
      "Downloading: \"https://dl.fbaipublicfiles.com/dinov2/dinov2_vitl14/dinov2_vitl14_reg4_pretrain.pth\" to /tmp/xdg_cache/torch/hub/checkpoints/dinov2_vitl14_reg4_pretrain.pth\n",
      "100%|██████████| 1.13G/1.13G [00:08<00:00, 142MB/s] \n"
     ]
    }
   ],
   "source": [
    "# Load a pipeline from a model folder or a Hugging Face model hub.\n",
    "pipeline = TrellisImageTo3DPipeline.from_pretrained(\"microsoft/TRELLIS-image-large\")\n",
    "pipeline.cuda()"
   ]
  },
  {
   "cell_type": "code",
   "execution_count": 25,
   "id": "d74305f9-ffd4-4eb5-b7a6-51c2fe510a1a",
   "metadata": {
    "execution": {
     "iopub.execute_input": "2025-08-02T20:02:36.387193Z",
     "iopub.status.busy": "2025-08-02T20:02:36.385726Z",
     "iopub.status.idle": "2025-08-02T20:03:17.405369Z",
     "shell.execute_reply": "2025-08-02T20:03:17.404129Z",
     "shell.execute_reply.started": "2025-08-02T20:02:36.387150Z"
    },
    "tags": []
   },
   "outputs": [
    {
     "name": "stderr",
     "output_type": "stream",
     "text": [
      "Sampling: 100%|██████████| 25/25 [00:10<00:00,  2.37it/s]\n",
      "Sampling: 100%|██████████| 25/25 [00:13<00:00,  1.80it/s]\n"
     ]
    }
   ],
   "source": [
    "# Load an image\n",
    "image = Image.open(\"submodules/TRELLIS/assets/example_image/T.png\")\n",
    "\n",
    "# Run the pipeline\n",
    "outputs = pipeline.run(\n",
    "    image,\n",
    "    seed=1,\n",
    "    # Optional parameters\n",
    "    # sparse_structure_sampler_params={\n",
    "    #     \"steps\": 12,\n",
    "    #     \"cfg_strength\": 7.5,\n",
    "    # },\n",
    "    # slat_sampler_params={\n",
    "    #     \"steps\": 12,\n",
    "    #     \"cfg_strength\": 3,\n",
    "    # },\n",
    ")\n",
    "# outputs is a dictionary containing generated 3D assets in different formats:\n",
    "# - outputs['gaussian']: a list of 3D Gaussians\n",
    "# - outputs['radiance_field']: a list of radiance fields\n",
    "# - outputs['mesh']: a list of meshes"
   ]
  },
  {
   "cell_type": "code",
   "execution_count": 26,
   "id": "de4ec61a-b43c-43d5-93a4-510ca41ca465",
   "metadata": {
    "execution": {
     "iopub.execute_input": "2025-08-02T20:03:21.919250Z",
     "iopub.status.busy": "2025-08-02T20:03:21.917881Z",
     "iopub.status.idle": "2025-08-02T20:06:11.459998Z",
     "shell.execute_reply": "2025-08-02T20:06:11.458689Z",
     "shell.execute_reply.started": "2025-08-02T20:03:21.919212Z"
    },
    "tags": []
   },
   "outputs": [
    {
     "name": "stderr",
     "output_type": "stream",
     "text": [
      "Rendering: 300it [00:06, 49.83it/s] \n",
      "Rendering: 300it [00:04, 64.09it/s]\n",
      "/home/jupyter/.local/lib/python3.10/site-packages/torch/utils/cpp_extension.py:1965: UserWarning: TORCH_CUDA_ARCH_LIST is not set, all archs for visible cards are included for compilation. \n",
      "If this is not desired, please set os.environ['TORCH_CUDA_ARCH_LIST'].\n",
      "  warnings.warn(\n",
      "Rendering: 300it [00:04, 68.04it/s]\n"
     ]
    },
    {
     "name": "stdout",
     "output_type": "stream",
     "text": [
      "Before postprocess: 297288 vertices, 594828 faces\n"
     ]
    },
    {
     "name": "stderr",
     "output_type": "stream",
     "text": [
      "Decimating Mesh: 100%|██████████[00:05<00:00]"
     ]
    },
    {
     "name": "stdout",
     "output_type": "stream",
     "text": [
      "After decimate: 14606 vertices, 29741 faces\n"
     ]
    },
    {
     "name": "stderr",
     "output_type": "stream",
     "text": [
      "\n",
      "Rasterizing: 100%|██████████| 1000/1000 [00:01<00:00, 692.08it/s]\n"
     ]
    },
    {
     "name": "stdout",
     "output_type": "stream",
     "text": [
      "Found 283 invisible faces\n",
      "Dual graph: 44442 edges\n",
      "Mincut solved, start checking the cut\n",
      "Removed 1188 faces by mincut\n",
      "INFO- Loaded 14067 vertices and 28553 faces.\n"
     ]
    },
    {
     "name": "stderr",
     "output_type": "stream",
     "text": [
      "WARNING- Some cuts were necessary to cope with non manifold configuration.\n"
     ]
    },
    {
     "name": "stdout",
     "output_type": "stream",
     "text": [
      "\n",
      "100% done \n",
      "After remove invisible faces: 14183 vertices, 28682 faces\n"
     ]
    },
    {
     "name": "stderr",
     "output_type": "stream",
     "text": [
      "Rendering: 100it [00:01, 63.83it/s]\n",
      "Texture baking (opt): UV: 100%|██████████| 100/100 [00:00<00:00, 902.70it/s]\n",
      "Texture baking (opt): optimizing: 100%|██████████| 2500/2500 [00:14<00:00, 176.94it/s, loss=0.0289]\n"
     ]
    }
   ],
   "source": [
    "# Render the outputs\n",
    "video = render_utils.render_video(outputs['gaussian'][0])['color']\n",
    "imageio.mimsave(\"sample_gs.mp4\", video, fps=30)\n",
    "video = render_utils.render_video(outputs['radiance_field'][0])['color']\n",
    "imageio.mimsave(\"sample_rf.mp4\", video, fps=30)\n",
    "video = render_utils.render_video(outputs['mesh'][0])['normal']\n",
    "imageio.mimsave(\"sample_mesh.mp4\", video, fps=30)\n",
    "\n",
    "# GLB files can be extracted from the outputs\n",
    "glb = postprocessing_utils.to_glb(\n",
    "    outputs['gaussian'][0],\n",
    "    outputs['mesh'][0],\n",
    "    # Optional parameters\n",
    "    simplify=0.95,          # Ratio of triangles to remove in the simplification process\n",
    "    texture_size=1024,      # Size of the texture used for the GLB\n",
    ")\n",
    "glb.export(\"sample.glb\")\n",
    "\n",
    "# Save Gaussians as PLY files\n",
    "outputs['gaussian'][0].save_ply(\"sample.ply\")"
   ]
  }
 ],
 "metadata": {
  "kernelspec": {
   "display_name": "DataSphere Kernel",
   "language": "python",
   "name": "python3"
  },
  "language_info": {
   "codemirror_mode": {
    "name": "ipython",
    "version": 3
   },
   "file_extension": ".py",
   "mimetype": "text/x-python",
   "name": "python",
   "nbconvert_exporter": "python",
   "pygments_lexer": "ipython3",
   "version": "3.10.12"
  }
 },
 "nbformat": 4,
 "nbformat_minor": 5
}
