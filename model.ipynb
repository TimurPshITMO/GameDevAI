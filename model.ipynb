{
 "cells": [
  {
   "cell_type": "markdown",
   "id": "0f432aba-bdf0-4d7f-b1e1-4adae5f6792f",
   "metadata": {
    "execution": {
     "iopub.execute_input": "2025-08-04T19:16:19.737389Z",
     "iopub.status.busy": "2025-08-04T19:16:19.735831Z",
     "iopub.status.idle": "2025-08-04T19:16:19.769780Z",
     "shell.execute_reply": "2025-08-04T19:16:19.768089Z",
     "shell.execute_reply.started": "2025-08-04T19:16:19.737330Z"
    },
    "jp-MarkdownHeadingCollapsed": true,
    "tags": []
   },
   "source": [
    "### Подготовка окружения (только для локального запуска)\n",
    "\n",
    "**Если вы используете предварительно собранный Docker-образ — пропустите следующие шаги.**  \n",
    "> Все необходимые зависимости, репозитории и настройки уже установлены внутри контейнера.\n",
    "\n",
    "Данные ячейки предназначены **только для локальной настройки окружения** (вне Docker).  \n",
    "Если вы запускаете ноутбук локально (без контейнеризации), выполните их по порядку, чтобы:\n",
    "- склонировать репозиторий TRELLIS,\n",
    "- проверить доступность GPU и версию CUDA,\n",
    "- настроить окружение и импортировать модули.\n",
    "\n",
    "Если же вы работаете в Docker-среде (например, через `docker run` или `compose`), **эти действия не требуются** — всё уже готово к использованию пайплайнов."
   ]
  },
  {
   "cell_type": "markdown",
   "id": "9ab4efcd-c64e-41b1-9465-ae08f3e677ae",
   "metadata": {
    "tags": []
   },
   "source": [
    "#### Клонирование TRELLIS"
   ]
  },
  {
   "cell_type": "markdown",
   "id": "efed8d2b-4666-4380-9ec6-716019cfa9e6",
   "metadata": {},
   "source": [
    "Для дальнейшей работы необходимо склонировать репозиторий [TRELLIS](https://github.com/microsoft/TRELLIS) от Microsoft.  \n",
    "Флаг `--recurse-submodules` используется, чтобы автоматически инициализировать и загрузить все вложенные подмодули, которые могут быть необходимы для корректной работы проекта.  \n",
    "Репозиторий будет сохранён в директорию `./submodules/TRELLIS`."
   ]
  },
  {
   "cell_type": "code",
   "execution_count": 1,
   "id": "c33f57b1-9e88-4c05-99a8-2d9ee632cded",
   "metadata": {
    "execution": {
     "iopub.execute_input": "2025-08-02T16:34:55.639163Z",
     "iopub.status.busy": "2025-08-02T16:34:55.637736Z",
     "iopub.status.idle": "2025-08-02T16:36:41.970030Z",
     "shell.execute_reply": "2025-08-02T16:36:41.968828Z",
     "shell.execute_reply.started": "2025-08-02T16:34:55.639121Z"
    },
    "tags": []
   },
   "outputs": [
    {
     "name": "stdout",
     "output_type": "stream",
     "text": [
      "Submodule path 'trellis/representations/mesh/flexicubes': checked out '815e075a2a400d06c48d94c347674344ed6ae5c5'\n"
     ]
    },
    {
     "name": "stderr",
     "output_type": "stream",
     "text": [
      "Cloning into './submodules/TRELLIS'...\n",
      "Updating files: 100% (221/221), done.\n",
      "Submodule 'trellis/representations/mesh/flexicubes' (https://github.com/MaxtirError/FlexiCubes.git) registered for path 'trellis/representations/mesh/flexicubes'\n",
      "Cloning into '/home/jupyter/work/resources/test_project/submodules/TRELLIS/trellis/representations/mesh/flexicubes'...\n"
     ]
    }
   ],
   "source": [
    "!git clone --recurse-submodules https://github.com/microsoft/TRELLIS.git ./submodules/TRELLIS"
   ]
  },
  {
   "cell_type": "markdown",
   "id": "b7ff3527-e1e6-4c5e-b790-a702b6830ca0",
   "metadata": {
    "jp-MarkdownHeadingCollapsed": true,
    "tags": []
   },
   "source": [
    "#### Проверка GPU, драйверов и версии CUDA\n"
   ]
  },
  {
   "cell_type": "markdown",
   "id": "4ea6a8ab-859f-44ba-80a9-44a92dee3bc6",
   "metadata": {},
   "source": [
    "Перед запуском моделей, использующих GPU, важно убедиться, что:\n",
    "- NVIDIA-драйверы корректно установлены,\n",
    "- Доступна GPU-инфраструктура,\n",
    "- Установлен `cuda-toolkit` и его версия совместима с используемыми библиотеками (например, PyTorch).\n",
    "\n",
    "Выполним две проверки:\n",
    "1. `nvidia-smi` — отображает информацию о GPU, драйверах и запущенных процессах.\n",
    "2. `nvcc --version` — показывает версию компилятора CUDA (часть CUDA Toolkit), используемую для сборки CUDA-приложений."
   ]
  },
  {
   "cell_type": "code",
   "execution_count": 22,
   "id": "d564542b-715b-45a1-abcc-ec83eb013e33",
   "metadata": {
    "execution": {
     "iopub.execute_input": "2025-08-04T18:50:20.798169Z",
     "iopub.status.busy": "2025-08-04T18:50:20.796853Z",
     "iopub.status.idle": "2025-08-04T18:50:20.947758Z",
     "shell.execute_reply": "2025-08-04T18:50:20.946558Z",
     "shell.execute_reply.started": "2025-08-04T18:50:20.798132Z"
    },
    "tags": []
   },
   "outputs": [
    {
     "name": "stdout",
     "output_type": "stream",
     "text": [
      "Mon Aug  4 18:50:20 2025       \n",
      "+---------------------------------------------------------------------------------------+\n",
      "| NVIDIA-SMI 535.261.03             Driver Version: 535.261.03   CUDA Version: 12.2     |\n",
      "|-----------------------------------------+----------------------+----------------------+\n",
      "| GPU  Name                 Persistence-M | Bus-Id        Disp.A | Volatile Uncorr. ECC |\n",
      "| Fan  Temp   Perf          Pwr:Usage/Cap |         Memory-Usage | GPU-Util  Compute M. |\n",
      "|                                         |                      |               MIG M. |\n",
      "|=========================================+======================+======================|\n",
      "|   0  Tesla V100-PCIE-32GB           On  | 00000000:8C:00.0 Off |                  Off |\n",
      "| N/A   34C    P0              36W / 250W |   6416MiB / 32768MiB |      0%      Default |\n",
      "|                                         |                      |                  N/A |\n",
      "+-----------------------------------------+----------------------+----------------------+\n",
      "                                                                                         \n",
      "+---------------------------------------------------------------------------------------+\n",
      "| Processes:                                                                            |\n",
      "|  GPU   GI   CI        PID   Type   Process name                            GPU Memory |\n",
      "|        ID   ID                                                             Usage      |\n",
      "|=======================================================================================|\n",
      "|    0   N/A  N/A       870      G   /usr/lib/xorg/Xorg                            4MiB |\n",
      "|    0   N/A  N/A      4257      C   python3                                    6408MiB |\n",
      "+---------------------------------------------------------------------------------------+\n"
     ]
    }
   ],
   "source": [
    "! nvidia-smi"
   ]
  },
  {
   "cell_type": "code",
   "execution_count": 23,
   "id": "6c7e4450-7d29-489a-8b76-29a8cefa1da4",
   "metadata": {
    "execution": {
     "iopub.execute_input": "2025-08-04T18:50:23.449218Z",
     "iopub.status.busy": "2025-08-04T18:50:23.447756Z",
     "iopub.status.idle": "2025-08-04T18:50:23.481496Z",
     "shell.execute_reply": "2025-08-04T18:50:23.480364Z",
     "shell.execute_reply.started": "2025-08-04T18:50:23.449166Z"
    },
    "tags": []
   },
   "outputs": [
    {
     "name": "stdout",
     "output_type": "stream",
     "text": [
      "nvcc: NVIDIA (R) Cuda compiler driver\n",
      "Copyright (c) 2005-2022 NVIDIA Corporation\n",
      "Built on Wed_Sep_21_10:33:58_PDT_2022\n",
      "Cuda compilation tools, release 11.8, V11.8.89\n",
      "Build cuda_11.8.r11.8/compiler.31833905_0\n"
     ]
    }
   ],
   "source": [
    "! nvcc --version"
   ]
  },
  {
   "cell_type": "markdown",
   "id": "003ed998-32c0-4604-8faf-c296f28d66ee",
   "metadata": {
    "tags": []
   },
   "source": [
    "#### Установка зависимостей"
   ]
  },
  {
   "cell_type": "code",
   "execution_count": 24,
   "id": "067e374e-f037-420e-a268-90f16353e5d8",
   "metadata": {
    "execution": {
     "iopub.execute_input": "2025-08-04T18:50:27.352144Z",
     "iopub.status.busy": "2025-08-04T18:50:27.350759Z",
     "iopub.status.idle": "2025-08-04T18:50:27.391365Z",
     "shell.execute_reply": "2025-08-04T18:50:27.390135Z",
     "shell.execute_reply.started": "2025-08-04T18:50:27.352092Z"
    },
    "tags": []
   },
   "outputs": [
    {
     "name": "stdout",
     "output_type": "stream",
     "text": [
      "1.24.1\n"
     ]
    }
   ],
   "source": [
    "import numpy as np\n",
    "print(np.__version__)"
   ]
  },
  {
   "cell_type": "code",
   "execution_count": 8,
   "id": "d5de27e5-0005-4dd6-b563-748c24d9826b",
   "metadata": {
    "collapsed": true,
    "execution": {
     "iopub.execute_input": "2025-08-02T18:51:05.293532Z",
     "iopub.status.busy": "2025-08-02T18:51:05.292059Z",
     "iopub.status.idle": "2025-08-02T19:11:09.289611Z",
     "shell.execute_reply": "2025-08-02T19:11:09.288373Z",
     "shell.execute_reply.started": "2025-08-02T18:51:05.293482Z"
    },
    "jupyter": {
     "outputs_hidden": true
    },
    "tags": []
   },
   "outputs": [
    {
     "name": "stdout",
     "output_type": "stream",
     "text": [
      "Defaulting to user installation because normal site-packages is not writeable\n",
      "Looking in indexes: https://download.pytorch.org/whl/cu118\n",
      "Collecting numpy==1.24.1\n",
      "  Downloading https://download.pytorch.org/whl/numpy-1.24.1-cp310-cp310-manylinux_2_17_x86_64.manylinux2014_x86_64.whl (17.3 MB)\n",
      "\u001b[2K     \u001b[90m━━━━━━━━━━━━━━━━━━━━━━━━━━━━━━━━━━━━━━━━\u001b[0m \u001b[32m17.3/17.3 MB\u001b[0m \u001b[31m71.2 MB/s\u001b[0m eta \u001b[36m0:00:00\u001b[0ma \u001b[36m0:00:01\u001b[0m\n",
      "\u001b[?25hCollecting torch==2.4.0\n",
      "  Downloading https://download.pytorch.org/whl/cu118/torch-2.4.0%2Bcu118-cp310-cp310-linux_x86_64.whl (857.7 MB)\n",
      "\u001b[2K     \u001b[90m━━━━━━━━━━━━━━━━━━━━━━━━━━━━━━━━━━━━━━\u001b[0m \u001b[32m857.7/857.7 MB\u001b[0m \u001b[31m15.7 MB/s\u001b[0m eta \u001b[36m0:00:00\u001b[0m00:01\u001b[0m00:01\u001b[0m\n",
      "\u001b[?25hCollecting torchvision==0.19.0\n",
      "  Downloading https://download.pytorch.org/whl/cu118/torchvision-0.19.0%2Bcu118-cp310-cp310-linux_x86_64.whl (6.3 MB)\n",
      "\u001b[2K     \u001b[90m━━━━━━━━━━━━━━━━━━━━━━━━━━━━━━━━━━━━━━━━\u001b[0m \u001b[32m6.3/6.3 MB\u001b[0m \u001b[31m47.7 MB/s\u001b[0m eta \u001b[36m0:00:00\u001b[0m\n",
      "\u001b[?25hCollecting torchaudio==2.4.0\n",
      "  Downloading https://download.pytorch.org/whl/cu118/torchaudio-2.4.0%2Bcu118-cp310-cp310-linux_x86_64.whl (3.3 MB)\n",
      "\u001b[2K     \u001b[90m━━━━━━━━━━━━━━━━━━━━━━━━━━━━━━━━━━━━━━━━\u001b[0m \u001b[32m3.3/3.3 MB\u001b[0m \u001b[31m36.4 MB/s\u001b[0m eta \u001b[36m0:00:00\u001b[0m\n",
      "\u001b[?25hCollecting filelock (from torch==2.4.0)\n",
      "  Downloading https://download.pytorch.org/whl/filelock-3.13.1-py3-none-any.whl.metadata (2.8 kB)\n",
      "Collecting typing-extensions>=4.8.0 (from torch==2.4.0)\n",
      "  Downloading https://download.pytorch.org/whl/typing_extensions-4.12.2-py3-none-any.whl.metadata (3.0 kB)\n",
      "Collecting sympy (from torch==2.4.0)\n",
      "  Downloading https://download.pytorch.org/whl/sympy-1.13.3-py3-none-any.whl.metadata (12 kB)\n",
      "Collecting networkx (from torch==2.4.0)\n",
      "  Downloading https://download.pytorch.org/whl/networkx-3.3-py3-none-any.whl.metadata (5.1 kB)\n",
      "Collecting jinja2 (from torch==2.4.0)\n",
      "  Downloading https://download.pytorch.org/whl/Jinja2-3.1.4-py3-none-any.whl.metadata (2.6 kB)\n",
      "Collecting fsspec (from torch==2.4.0)\n",
      "  Downloading https://download.pytorch.org/whl/fsspec-2024.6.1-py3-none-any.whl.metadata (11 kB)\n",
      "Collecting nvidia-cuda-nvrtc-cu11==11.8.89 (from torch==2.4.0)\n",
      "  Downloading https://download.pytorch.org/whl/cu118/nvidia_cuda_nvrtc_cu11-11.8.89-py3-none-manylinux1_x86_64.whl (23.2 MB)\n",
      "\u001b[2K     \u001b[90m━━━━━━━━━━━━━━━━━━━━━━━━━━━━━━━━━━━━━━━━\u001b[0m \u001b[32m23.2/23.2 MB\u001b[0m \u001b[31m75.0 MB/s\u001b[0m eta \u001b[36m0:00:00\u001b[0m00:01\u001b[0m\n",
      "\u001b[?25hCollecting nvidia-cuda-runtime-cu11==11.8.89 (from torch==2.4.0)\n",
      "  Downloading https://download.pytorch.org/whl/cu118/nvidia_cuda_runtime_cu11-11.8.89-py3-none-manylinux1_x86_64.whl (875 kB)\n",
      "\u001b[2K     \u001b[90m━━━━━━━━━━━━━━━━━━━━━━━━━━━━━━━━━━━━━━\u001b[0m \u001b[32m875.6/875.6 kB\u001b[0m \u001b[31m25.6 MB/s\u001b[0m eta \u001b[36m0:00:00\u001b[0m\n",
      "\u001b[?25hCollecting nvidia-cuda-cupti-cu11==11.8.87 (from torch==2.4.0)\n",
      "  Downloading https://download.pytorch.org/whl/cu118/nvidia_cuda_cupti_cu11-11.8.87-py3-none-manylinux1_x86_64.whl (13.1 MB)\n",
      "\u001b[2K     \u001b[90m━━━━━━━━━━━━━━━━━━━━━━━━━━━━━━━━━━━━━━━━\u001b[0m \u001b[32m13.1/13.1 MB\u001b[0m \u001b[31m93.9 MB/s\u001b[0m eta \u001b[36m0:00:00\u001b[0m\n",
      "\u001b[?25hCollecting nvidia-cudnn-cu11==9.1.0.70 (from torch==2.4.0)\n",
      "  Downloading https://download.pytorch.org/whl/cu118/nvidia_cudnn_cu11-9.1.0.70-py3-none-manylinux2014_x86_64.whl (663.9 MB)\n",
      "\u001b[2K     \u001b[90m━━━━━━━━━━━━━━━━━━━━━━━━━━━━━━━━━━━━━━\u001b[0m \u001b[32m663.9/663.9 MB\u001b[0m \u001b[31m12.7 MB/s\u001b[0m eta \u001b[36m0:00:00\u001b[0m00:01\u001b[0m00:01\u001b[0m\n",
      "\u001b[?25hCollecting nvidia-cublas-cu11==11.11.3.6 (from torch==2.4.0)\n",
      "  Downloading https://download.pytorch.org/whl/cu118/nvidia_cublas_cu11-11.11.3.6-py3-none-manylinux1_x86_64.whl (417.9 MB)\n",
      "\u001b[2K     \u001b[90m━━━━━━━━━━━━━━━━━━━━━━━━━━━━━━━━━━━━━━\u001b[0m \u001b[32m417.9/417.9 MB\u001b[0m \u001b[31m26.9 MB/s\u001b[0m eta \u001b[36m0:00:00\u001b[0m00:01\u001b[0m00:01\u001b[0m\n",
      "\u001b[?25hCollecting nvidia-cufft-cu11==10.9.0.58 (from torch==2.4.0)\n",
      "  Downloading https://download.pytorch.org/whl/cu118/nvidia_cufft_cu11-10.9.0.58-py3-none-manylinux1_x86_64.whl (168.4 MB)\n",
      "\u001b[2K     \u001b[90m━━━━━━━━━━━━━━━━━━━━━━━━━━━━━━━━━━━━━━\u001b[0m \u001b[32m168.4/168.4 MB\u001b[0m \u001b[31m18.6 MB/s\u001b[0m eta \u001b[36m0:00:00\u001b[0m00:01\u001b[0m00:01\u001b[0m\n",
      "\u001b[?25hCollecting nvidia-curand-cu11==10.3.0.86 (from torch==2.4.0)\n",
      "  Downloading https://download.pytorch.org/whl/cu118/nvidia_curand_cu11-10.3.0.86-py3-none-manylinux1_x86_64.whl (58.1 MB)\n",
      "\u001b[2K     \u001b[90m━━━━━━━━━━━━━━━━━━━━━━━━━━━━━━━━━━━━━━━━\u001b[0m \u001b[32m58.1/58.1 MB\u001b[0m \u001b[31m49.8 MB/s\u001b[0m eta \u001b[36m0:00:00\u001b[0m00:01\u001b[0m00:01\u001b[0m\n",
      "\u001b[?25hCollecting nvidia-cusolver-cu11==11.4.1.48 (from torch==2.4.0)\n",
      "  Downloading https://download.pytorch.org/whl/cu118/nvidia_cusolver_cu11-11.4.1.48-py3-none-manylinux1_x86_64.whl (128.2 MB)\n",
      "\u001b[2K     \u001b[90m━━━━━━━━━━━━━━━━━━━━━━━━━━━━━━━━━━━━━━\u001b[0m \u001b[32m128.2/128.2 MB\u001b[0m \u001b[31m62.9 MB/s\u001b[0m eta \u001b[36m0:00:00\u001b[0m00:01\u001b[0m00:01\u001b[0m\n",
      "\u001b[?25hCollecting nvidia-cusparse-cu11==11.7.5.86 (from torch==2.4.0)\n",
      "  Downloading https://download.pytorch.org/whl/cu118/nvidia_cusparse_cu11-11.7.5.86-py3-none-manylinux1_x86_64.whl (204.1 MB)\n",
      "\u001b[2K     \u001b[90m━━━━━━━━━━━━━━━━━━━━━━━━━━━━━━━━━━━━━━\u001b[0m \u001b[32m204.1/204.1 MB\u001b[0m \u001b[31m53.2 MB/s\u001b[0m eta \u001b[36m0:00:00\u001b[0m00:01\u001b[0m00:01\u001b[0m\n",
      "\u001b[?25hCollecting nvidia-nccl-cu11==2.20.5 (from torch==2.4.0)\n",
      "  Downloading https://download.pytorch.org/whl/cu118/nvidia_nccl_cu11-2.20.5-py3-none-manylinux2014_x86_64.whl (142.9 MB)\n",
      "\u001b[2K     \u001b[90m━━━━━━━━━━━━━━━━━━━━━━━━━━━━━━━━━━━━━━\u001b[0m \u001b[32m142.9/142.9 MB\u001b[0m \u001b[31m17.2 MB/s\u001b[0m eta \u001b[36m0:00:00\u001b[0m00:01\u001b[0m00:01\u001b[0m\n",
      "\u001b[?25hCollecting nvidia-nvtx-cu11==11.8.86 (from torch==2.4.0)\n",
      "  Downloading https://download.pytorch.org/whl/cu118/nvidia_nvtx_cu11-11.8.86-py3-none-manylinux1_x86_64.whl (99 kB)\n",
      "Collecting triton==3.0.0 (from torch==2.4.0)\n",
      "  Downloading https://download.pytorch.org/whl/triton-3.0.0-1-cp310-cp310-manylinux2014_x86_64.manylinux_2_17_x86_64.whl (209.4 MB)\n",
      "\u001b[2K     \u001b[90m━━━━━━━━━━━━━━━━━━━━━━━━━━━━━━━━━━━━━━\u001b[0m \u001b[32m209.4/209.4 MB\u001b[0m \u001b[31m47.9 MB/s\u001b[0m eta \u001b[36m0:00:00\u001b[0m00:01\u001b[0m00:01\u001b[0m\n",
      "\u001b[?25hCollecting pillow!=8.3.*,>=5.3.0 (from torchvision==0.19.0)\n",
      "  Downloading https://download.pytorch.org/whl/pillow-11.0.0-cp310-cp310-manylinux_2_28_x86_64.whl.metadata (9.1 kB)\n",
      "Collecting MarkupSafe>=2.0 (from jinja2->torch==2.4.0)\n",
      "  Downloading https://download.pytorch.org/whl/MarkupSafe-2.1.5-cp310-cp310-manylinux_2_17_x86_64.manylinux2014_x86_64.whl (25 kB)\n",
      "Collecting mpmath<1.4,>=1.1.0 (from sympy->torch==2.4.0)\n",
      "  Downloading https://download.pytorch.org/whl/mpmath-1.3.0-py3-none-any.whl (536 kB)\n",
      "\u001b[2K     \u001b[90m━━━━━━━━━━━━━━━━━━━━━━━━━━━━━━━━━━━━━━━\u001b[0m \u001b[32m536.2/536.2 kB\u001b[0m \u001b[31m3.0 MB/s\u001b[0m eta \u001b[36m0:00:00\u001b[0m\n",
      "\u001b[?25hDownloading https://download.pytorch.org/whl/pillow-11.0.0-cp310-cp310-manylinux_2_28_x86_64.whl (4.4 MB)\n",
      "\u001b[2K   \u001b[90m━━━━━━━━━━━━━━━━━━━━━━━━━━━━━━━━━━━━━━━━\u001b[0m \u001b[32m4.4/4.4 MB\u001b[0m \u001b[31m39.3 MB/s\u001b[0m eta \u001b[36m0:00:00\u001b[0m\n",
      "\u001b[?25hDownloading https://download.pytorch.org/whl/typing_extensions-4.12.2-py3-none-any.whl (37 kB)\n",
      "Downloading https://download.pytorch.org/whl/filelock-3.13.1-py3-none-any.whl (11 kB)\n",
      "Downloading https://download.pytorch.org/whl/fsspec-2024.6.1-py3-none-any.whl (177 kB)\n",
      "Downloading https://download.pytorch.org/whl/Jinja2-3.1.4-py3-none-any.whl (133 kB)\n",
      "Downloading https://download.pytorch.org/whl/networkx-3.3-py3-none-any.whl (1.7 MB)\n",
      "\u001b[2K   \u001b[90m━━━━━━━━━━━━━━━━━━━━━━━━━━━━━━━━━━━━━━━━\u001b[0m \u001b[32m1.7/1.7 MB\u001b[0m \u001b[31m21.7 MB/s\u001b[0m eta \u001b[36m0:00:00\u001b[0m\n",
      "\u001b[?25hDownloading https://download.pytorch.org/whl/sympy-1.13.3-py3-none-any.whl (6.2 MB)\n",
      "\u001b[2K   \u001b[90m━━━━━━━━━━━━━━━━━━━━━━━━━━━━━━━━━━━━━━━━\u001b[0m \u001b[32m6.2/6.2 MB\u001b[0m \u001b[31m25.6 MB/s\u001b[0m eta \u001b[36m0:00:00\u001b[0ma \u001b[36m0:00:01\u001b[0m\n",
      "\u001b[?25hInstalling collected packages: mpmath, typing-extensions, sympy, pillow, nvidia-nvtx-cu11, nvidia-nccl-cu11, nvidia-cusparse-cu11, nvidia-curand-cu11, nvidia-cufft-cu11, nvidia-cuda-runtime-cu11, nvidia-cuda-nvrtc-cu11, nvidia-cuda-cupti-cu11, nvidia-cublas-cu11, numpy, networkx, MarkupSafe, fsspec, filelock, triton, nvidia-cusolver-cu11, nvidia-cudnn-cu11, jinja2, torch, torchvision, torchaudio\n",
      "\u001b[2K  Attempting uninstall: mpmath\n",
      "\u001b[2K    Found existing installation: mpmath 1.3.0\n",
      "\u001b[2K    Uninstalling mpmath-1.3.0:\n",
      "\u001b[2K      Successfully uninstalled mpmath-1.3.0\n",
      "\u001b[2K  Attempting uninstall: typing-extensions━━━━━━━\u001b[0m \u001b[32m 0/25\u001b[0m [mpmath]\n",
      "\u001b[2K    Found existing installation: typing_extensions 4.12.225\u001b[0m [mpmath]\n",
      "\u001b[2K    Uninstalling typing_extensions-4.12.2:━━\u001b[0m \u001b[32m 0/25\u001b[0m [mpmath]\n",
      "\u001b[2K      Successfully uninstalled typing_extensions-4.12.2━━━━━━━━━━━\u001b[0m \u001b[32m 1/25\u001b[0m [typing-extensions]\n",
      "\u001b[2K  Attempting uninstall: sympy━━━━━━━━━━━━━━━━━━━━━━━━━━━━━━━━━━━━━\u001b[0m \u001b[32m 1/25\u001b[0m [typing-extensions]\n",
      "\u001b[2K    Found existing installation: sympy 1.13.3━━━━━━━━━━━━━━━━━\u001b[0m \u001b[32m 1/25\u001b[0m [typing-extensions]\n",
      "\u001b[2K    Uninstalling sympy-1.13.3:━━━━━━━━━━━━━━━━━━━━━━━━━━━━━━━━━━━━\u001b[0m \u001b[32m 2/25\u001b[0m [sympy]ensions]\n",
      "\u001b[2K      Successfully uninstalled sympy-1.13.3━━━━━━━━━━━━━━━━━━━━━━━\u001b[0m \u001b[32m 2/25\u001b[0m [sympy]\n",
      "\u001b[2K   \u001b[91m━━━\u001b[0m\u001b[90m╺\u001b[0m\u001b[90m━━━━━━━━━━━━━━━━━━━━━━━━━━━━━━━━━━━━\u001b[0m \u001b[32m 2/25\u001b[0m [sympy]\u001b[33m  WARNING: The script isympy is installed in '/home/jupyter/.local/bin' which is not on PATH.\n",
      "  Consider adding this directory to PATH or, if you prefer to suppress this warning, use --no-warn-script-location.\u001b[0m\u001b[33m\n",
      "\u001b[2K  Attempting uninstall: pillow━━━━━━━━━━━━━━━━━━━━━━━━━━━━━━━━━━━━\u001b[0m \u001b[32m 2/25\u001b[0m [sympy]\n",
      "\u001b[2K    Found existing installation: pillow 11.0.0━━━━━━━━━━━━━━━━\u001b[0m \u001b[32m 2/25\u001b[0m [sympy]\n",
      "\u001b[2K    Uninstalling pillow-11.0.0:━━━━━━━━━━━━━━━━━━━━━━━━━━━━━━━━━━━\u001b[0m \u001b[32m 3/25\u001b[0m [pillow]\n",
      "\u001b[2K      Successfully uninstalled pillow-11.0.0━━━━━━━━━━━━━━━━━━\u001b[0m \u001b[32m 3/25\u001b[0m [pillow]\n",
      "\u001b[2K   \u001b[91m━━━━\u001b[0m\u001b[91m╸\u001b[0m\u001b[90m━━━━━━━━━━━━━━━━━━━━━━━━━━━━━━━━━━━\u001b[0m \u001b[32m 3/25\u001b[0m [pillow]\u001b[33m  WARNING: Failed to remove contents in a temporary directory '/home/jupyter/.local/lib/python3.10/site-packages/~~L'.\n",
      "  You can safely remove it manually.\u001b[0m\u001b[33m\n",
      "\u001b[2K   \u001b[91m━━━━\u001b[0m\u001b[91m╸\u001b[0m\u001b[90m━━━━━━━━━━━━━━━━━━━━━━━━━━━━━━━━━━━\u001b[0m \u001b[32m 3/25\u001b[0m [pillow]\u001b[33m  WARNING: Failed to remove contents in a temporary directory '/home/jupyter/.local/lib/python3.10/site-packages/~~llow.libs'.\n",
      "  You can safely remove it manually.\u001b[0m\u001b[33m\n",
      "\u001b[2K  Attempting uninstall: nvidia-nvtx-cu11\n",
      "\u001b[2K    Found existing installation: nvidia-nvtx-cu11 11.8.86━━━━━\u001b[0m \u001b[32m 3/25\u001b[0m [pillow]\n",
      "\u001b[2K    Uninstalling nvidia-nvtx-cu11-11.8.86:━━━━━━━━━━━━━━━━━━━━\u001b[0m \u001b[32m 3/25\u001b[0m [pillow]\n",
      "\u001b[2K      Successfully uninstalled nvidia-nvtx-cu11-11.8.86━━━━━━━━━━━\u001b[0m \u001b[32m 4/25\u001b[0m [nvidia-nvtx-cu11]\n",
      "\u001b[2K  Attempting uninstall: nvidia-nccl-cu11━━━━━━━━━━━━━━━━━━━━━━━━━━\u001b[0m \u001b[32m 4/25\u001b[0m [nvidia-nvtx-cu11]\n",
      "\u001b[2K    Found existing installation: nvidia-nccl-cu11 2.20.5━━━━━━\u001b[0m \u001b[32m 4/25\u001b[0m [nvidia-nvtx-cu11]\n",
      "\u001b[2K    Uninstalling nvidia-nccl-cu11-2.20.5:━━━━━━━━━━━━━━━━━━━━━\u001b[0m \u001b[32m 4/25\u001b[0m [nvidia-nvtx-cu11]\n",
      "\u001b[2K      Successfully uninstalled nvidia-nccl-cu11-2.20.5━━━━━━━━\u001b[0m \u001b[32m 4/25\u001b[0m [nvidia-nvtx-cu11]\n",
      "\u001b[2K  Attempting uninstall: nvidia-cusparse-cu11━━━━━━━━━━━━━━━━━━━━━━\u001b[0m \u001b[32m 5/25\u001b[0m [nvidia-nccl-cu11]\n",
      "\u001b[2K    Found existing installation: nvidia-cusparse-cu11 11.7.5.86[0m \u001b[32m 5/25\u001b[0m [nvidia-nccl-cu11]\n",
      "\u001b[2K    Uninstalling nvidia-cusparse-cu11-11.7.5.86:━━━━━━━━━━━━━━\u001b[0m \u001b[32m 5/25\u001b[0m [nvidia-nccl-cu11]\n",
      "\u001b[2K      Successfully uninstalled nvidia-cusparse-cu11-11.7.5.86━\u001b[0m \u001b[32m 5/25\u001b[0m [nvidia-nccl-cu11]\n",
      "\u001b[2K  Attempting uninstall: nvidia-curand-cu11━━━━━━━━━━━━━━━━━━━━━━━━\u001b[0m \u001b[32m 6/25\u001b[0m [nvidia-cusparse-cu11]\n",
      "\u001b[2K    Found existing installation: nvidia-curand-cu11 10.3.0.86━\u001b[0m \u001b[32m 6/25\u001b[0m [nvidia-cusparse-cu11]\n",
      "\u001b[2K    Uninstalling nvidia-curand-cu11-10.3.0.86:━━━━━━━━━━━━━━━━━━━━\u001b[0m \u001b[32m 7/25\u001b[0m [nvidia-curand-cu11]\n",
      "\u001b[2K      Successfully uninstalled nvidia-curand-cu11-10.3.0.86━━━\u001b[0m \u001b[32m 7/25\u001b[0m [nvidia-curand-cu11]\n",
      "\u001b[2K  Attempting uninstall: nvidia-cufft-cu11━━━━━━━━━━━━━━━━━━━━━━━━━\u001b[0m \u001b[32m 7/25\u001b[0m [nvidia-curand-cu11]\n",
      "\u001b[2K    Found existing installation: nvidia-cufft-cu11 10.9.0.58━━\u001b[0m \u001b[32m 7/25\u001b[0m [nvidia-curand-cu11]\n",
      "\u001b[2K    Uninstalling nvidia-cufft-cu11-10.9.0.58:━━━━━━━━━━━━━━━━━\u001b[0m \u001b[32m 7/25\u001b[0m [nvidia-curand-cu11]\n",
      "\u001b[2K      Successfully uninstalled nvidia-cufft-cu11-10.9.0.58━━━━\u001b[0m \u001b[32m 7/25\u001b[0m [nvidia-curand-cu11]\n",
      "\u001b[2K  Attempting uninstall: nvidia-cuda-runtime-cu11━━━━━━━━━━━━━━━━━━\u001b[0m \u001b[32m 8/25\u001b[0m [nvidia-cufft-cu11]\n",
      "\u001b[2K    Found existing installation: nvidia-cuda-runtime-cu11 11.8.89m \u001b[32m 8/25\u001b[0m [nvidia-cufft-cu11]\n",
      "\u001b[2K    Uninstalling nvidia-cuda-runtime-cu11-11.8.89:━━━━━━━━━━━━\u001b[0m \u001b[32m 8/25\u001b[0m [nvidia-cufft-cu11]\n",
      "\u001b[2K      Successfully uninstalled nvidia-cuda-runtime-cu11-11.8.89[0m \u001b[32m 8/25\u001b[0m [nvidia-cufft-cu11]\n",
      "\u001b[2K  Attempting uninstall: nvidia-cuda-nvrtc-cu11━━━━━━━━━━━━━━━━━━━━\u001b[0m \u001b[32m 9/25\u001b[0m [nvidia-cuda-runtime-cu11]\n",
      "\u001b[2K    Found existing installation: nvidia-cuda-nvrtc-cu11 11.8.89[0m \u001b[32m 9/25\u001b[0m [nvidia-cuda-runtime-cu11]\n",
      "\u001b[2K    Uninstalling nvidia-cuda-nvrtc-cu11-11.8.89:━━━━━━━━━━━━━━\u001b[0m \u001b[32m 9/25\u001b[0m [nvidia-cuda-runtime-cu11]\n",
      "\u001b[2K      Successfully uninstalled nvidia-cuda-nvrtc-cu11-11.8.89━\u001b[0m \u001b[32m 9/25\u001b[0m [nvidia-cuda-runtime-cu11]\n",
      "\u001b[2K  Attempting uninstall: nvidia-cuda-cupti-cu11━━━━━━━━━━━━━━━━━━━━\u001b[0m \u001b[32m10/25\u001b[0m [nvidia-cuda-nvrtc-cu11]\n",
      "\u001b[2K    Found existing installation: nvidia-cuda-cupti-cu11 11.8.87[0m \u001b[32m10/25\u001b[0m [nvidia-cuda-nvrtc-cu11]\n",
      "\u001b[2K    Uninstalling nvidia-cuda-cupti-cu11-11.8.87:━━━━━━━━━━━━━━\u001b[0m \u001b[32m10/25\u001b[0m [nvidia-cuda-nvrtc-cu11]\n",
      "\u001b[2K      Successfully uninstalled nvidia-cuda-cupti-cu11-11.8.87━━━━━\u001b[0m \u001b[32m11/25\u001b[0m [nvidia-cuda-cupti-cu11]\n",
      "\u001b[2K  Attempting uninstall: nvidia-cublas-cu110m━━━━━━━━━━━━━━━━━━━━━━\u001b[0m \u001b[32m11/25\u001b[0m [nvidia-cuda-cupti-cu11]\n",
      "\u001b[2K    Found existing installation: nvidia-cublas-cu11 11.11.3.6━\u001b[0m \u001b[32m11/25\u001b[0m [nvidia-cuda-cupti-cu11]\n",
      "\u001b[2K    Uninstalling nvidia-cublas-cu11-11.11.3.6:━━━━━━━━━━━━━━━━\u001b[0m \u001b[32m11/25\u001b[0m [nvidia-cuda-cupti-cu11]\n",
      "\u001b[2K      Successfully uninstalled nvidia-cublas-cu11-11.11.3.6━━━\u001b[0m \u001b[32m11/25\u001b[0m [nvidia-cuda-cupti-cu11]\n",
      "\u001b[2K   \u001b[91m━━━━━━━━━━━━━━━━━━━━\u001b[0m\u001b[91m╸\u001b[0m\u001b[90m━━━━━━━━━━━━━━━━━━━\u001b[0m \u001b[32m13/25\u001b[0m [numpy]-cublas-cu11]\u001b[33m  WARNING: The scripts f2py, f2py3 and f2py3.10 are installed in '/home/jupyter/.local/bin' which is not on PATH.\n",
      "  Consider adding this directory to PATH or, if you prefer to suppress this warning, use --no-warn-script-location.\u001b[0m\u001b[33m\n",
      "\u001b[2K  Attempting uninstall: networkx\u001b[91m╸\u001b[0m\u001b[90m━━━━━━━━━━━━━━━━━━━\u001b[0m \u001b[32m13/25\u001b[0m [numpy]\n",
      "\u001b[2K    Found existing installation: networkx 3.3━━━━━━━━━━━━━━━━━\u001b[0m \u001b[32m13/25\u001b[0m [numpy]\n",
      "\u001b[2K    Uninstalling networkx-3.3:\u001b[0m\u001b[90m╺\u001b[0m\u001b[90m━━━━━━━━━━━━━━━━━\u001b[0m \u001b[32m14/25\u001b[0m [networkx]\n",
      "\u001b[2K      Successfully uninstalled networkx-3.30m━━━━━━━━━━━━━━━━━\u001b[0m \u001b[32m14/25\u001b[0m [networkx]\n",
      "\u001b[2K  Attempting uninstall: MarkupSafe\u001b[90m╺\u001b[0m\u001b[90m━━━━━━━━━━━━━━━━━\u001b[0m \u001b[32m14/25\u001b[0m [networkx]\n",
      "\u001b[2K    Found existing installation: MarkupSafe 2.1.5━━━━━━━━━━━━━\u001b[0m \u001b[32m14/25\u001b[0m [networkx]\n",
      "\u001b[2K    Uninstalling MarkupSafe-2.1.5:m╺\u001b[0m\u001b[90m━━━━━━━━━━━━━━━━━\u001b[0m \u001b[32m14/25\u001b[0m [networkx]\n",
      "\u001b[2K      Successfully uninstalled MarkupSafe-2.1.5━━━━━━━━━━━━━━━\u001b[0m \u001b[32m14/25\u001b[0m [networkx]\n",
      "\u001b[2K  Attempting uninstall: fsspec━━\u001b[0m\u001b[90m╺\u001b[0m\u001b[90m━━━━━━━━━━━━━━━\u001b[0m \u001b[32m15/25\u001b[0m [MarkupSafe]\n",
      "\u001b[2K    Found existing installation: fsspec 2024.6.1━━━━━━━━━━━━━━\u001b[0m \u001b[32m15/25\u001b[0m [MarkupSafe]\n",
      "\u001b[2K    Uninstalling fsspec-2024.6.1:[90m╺\u001b[0m\u001b[90m━━━━━━━━━━━━━━━\u001b[0m \u001b[32m15/25\u001b[0m [MarkupSafe]\n",
      "\u001b[2K      Successfully uninstalled fsspec-2024.6.1m━━━━━━━━━━━━━━━\u001b[0m \u001b[32m15/25\u001b[0m [MarkupSafe]\n",
      "\u001b[2K  Attempting uninstall: filelock━\u001b[0m\u001b[91m╸\u001b[0m\u001b[90m━━━━━━━━━━━━━━\u001b[0m \u001b[32m16/25\u001b[0m [fsspec]\n",
      "\u001b[2K    Found existing installation: filelock 3.13.1━━━━━━━━━━━━━━\u001b[0m \u001b[32m16/25\u001b[0m [fsspec]\n",
      "\u001b[2K    Uninstalling filelock-3.13.1:\u001b[91m╸\u001b[0m\u001b[90m━━━━━━━━━━━━━━\u001b[0m \u001b[32m16/25\u001b[0m [fsspec]\n",
      "\u001b[2K      Successfully uninstalled filelock-3.13.10m━━━━━━━━━━━━━━\u001b[0m \u001b[32m16/25\u001b[0m [fsspec]\n",
      "\u001b[2K  Attempting uninstall: triton━━━━━\u001b[0m\u001b[90m╺\u001b[0m\u001b[90m━━━━━━━━━━━━\u001b[0m \u001b[32m17/25\u001b[0m [filelock]\n",
      "\u001b[2K    Found existing installation: triton 3.0.0\u001b[90m━━━━━━━━━━━━\u001b[0m \u001b[32m17/25\u001b[0m [filelock]\n",
      "\u001b[2K    Uninstalling triton-3.0.0:━━━━━━\u001b[0m\u001b[91m╸\u001b[0m\u001b[90m━━━━━━━━━━━\u001b[0m \u001b[32m18/25\u001b[0m [triton]\n",
      "\u001b[2K      Successfully uninstalled triton-3.0.0[0m\u001b[90m━━━━━━━━━━━\u001b[0m \u001b[32m18/25\u001b[0m [triton]\n",
      "\u001b[2K   \u001b[91m━━━━━━━━━━━━━━━━━━━━━━━━━━━━\u001b[0m\u001b[91m╸\u001b[0m\u001b[90m━━━━━━━━━━━\u001b[0m \u001b[32m18/25\u001b[0m [triton]\u001b[33m  WARNING: The scripts proton and proton-viewer are installed in '/home/jupyter/.local/bin' which is not on PATH.\n",
      "  Consider adding this directory to PATH or, if you prefer to suppress this warning, use --no-warn-script-location.\u001b[0m\u001b[33m\n",
      "\u001b[2K  Attempting uninstall: nvidia-cusolver-cu11m╸\u001b[0m\u001b[90m━━━━━━━━━━━\u001b[0m \u001b[32m18/25\u001b[0m [triton]\n",
      "\u001b[2K    Found existing installation: nvidia-cusolver-cu11 11.4.1.48[0m \u001b[32m18/25\u001b[0m [triton]\n",
      "\u001b[2K    Uninstalling nvidia-cusolver-cu11-11.4.1.48:90m━━━━━━━━━━━\u001b[0m \u001b[32m18/25\u001b[0m [triton]\n",
      "\u001b[2K      Successfully uninstalled nvidia-cusolver-cu11-11.4.1.48━━━━━\u001b[0m \u001b[32m19/25\u001b[0m [nvidia-cusolver-cu11]\n",
      "\u001b[2K  Attempting uninstall: nvidia-cudnn-cu11m\u001b[90m╺\u001b[0m\u001b[90m━━━━━━━━━\u001b[0m \u001b[32m19/25\u001b[0m [nvidia-cusolver-cu11]\n",
      "\u001b[2K    Found existing installation: nvidia-cudnn-cu11 9.1.0.70━━━\u001b[0m \u001b[32m19/25\u001b[0m [nvidia-cusolver-cu11]\n",
      "\u001b[2K    Uninstalling nvidia-cudnn-cu11-9.1.0.70:\u001b[0m\u001b[90m━━━━━━━━━\u001b[0m \u001b[32m19/25\u001b[0m [nvidia-cusolver-cu11]\n",
      "\u001b[2K      Successfully uninstalled nvidia-cudnn-cu11-9.1.0.70━━━━━\u001b[0m \u001b[32m19/25\u001b[0m [nvidia-cusolver-cu11]\n",
      "\u001b[2K  Attempting uninstall: jinja2━━━━━━━━━━\u001b[0m\u001b[90m╺\u001b[0m\u001b[90m━━━━━━━\u001b[0m \u001b[32m20/25\u001b[0m [nvidia-cudnn-cu11]\n",
      "\u001b[2K    Found existing installation: Jinja2 3.1.4╺\u001b[0m\u001b[90m━━━━━━━\u001b[0m \u001b[32m20/25\u001b[0m [nvidia-cudnn-cu11]\n",
      "\u001b[2K    Uninstalling Jinja2-3.1.4:━━━━━━\u001b[0m\u001b[90m╺\u001b[0m\u001b[90m━━━━━━━\u001b[0m \u001b[32m20/25\u001b[0m [nvidia-cudnn-cu11]\n",
      "\u001b[2K      Successfully uninstalled Jinja2-3.1.40m╺\u001b[0m\u001b[90m━━━━━━━\u001b[0m \u001b[32m20/25\u001b[0m [nvidia-cudnn-cu11]\n",
      "\u001b[2K   \u001b[91m━━━━━━━━━━━━━━━━━━━━━━━━━━━━━━━━━━━\u001b[0m\u001b[90m╺\u001b[0m\u001b[90m━━━━\u001b[0m \u001b[32m22/25\u001b[0m [torch]\u001b[33m  WARNING: The scripts convert-caffe2-to-onnx, convert-onnx-to-caffe2 and torchrun are installed in '/home/jupyter/.local/bin' which is not on PATH.\n",
      "  Consider adding this directory to PATH or, if you prefer to suppress this warning, use --no-warn-script-location.\u001b[0m\u001b[33m\n",
      "\u001b[2K   \u001b[90m━━━━━━━━━━━━━━━━━━━━━━━━━━━━━━━━━━━━━━━━\u001b[0m \u001b[32m25/25\u001b[0m [torchaudio]5\u001b[0m [torchaudio]]\n",
      "\u001b[1A\u001b[2KSuccessfully installed MarkupSafe-2.1.5 filelock-3.13.1 fsspec-2024.6.1 jinja2-3.1.4 mpmath-1.3.0 networkx-3.3 numpy-1.24.1 nvidia-cublas-cu11-11.11.3.6 nvidia-cuda-cupti-cu11-11.8.87 nvidia-cuda-nvrtc-cu11-11.8.89 nvidia-cuda-runtime-cu11-11.8.89 nvidia-cudnn-cu11-9.1.0.70 nvidia-cufft-cu11-10.9.0.58 nvidia-curand-cu11-10.3.0.86 nvidia-cusolver-cu11-11.4.1.48 nvidia-cusparse-cu11-11.7.5.86 nvidia-nccl-cu11-2.20.5 nvidia-nvtx-cu11-11.8.86 pillow-11.0.0 sympy-1.13.3 torch-2.4.0+cu118 torchaudio-2.4.0+cu118 torchvision-0.19.0+cu118 triton-3.0.0 typing-extensions-4.12.2\n"
     ]
    }
   ],
   "source": [
    "%pip install --force-reinstall numpy==1.24.1 torch==2.4.0 torchvision==0.19.0 torchaudio==2.4.0 --index-url https://download.pytorch.org/whl/cu118"
   ]
  },
  {
   "cell_type": "code",
   "execution_count": 2,
   "id": "fdae8782-2cda-4aac-9ce7-5e96e0e4c1b8",
   "metadata": {
    "execution": {
     "iopub.execute_input": "2025-08-04T15:39:01.894125Z",
     "iopub.status.busy": "2025-08-04T15:39:01.892419Z",
     "iopub.status.idle": "2025-08-04T15:39:27.770335Z",
     "shell.execute_reply": "2025-08-04T15:39:27.768795Z",
     "shell.execute_reply.started": "2025-08-04T15:39:01.894056Z"
    },
    "tags": []
   },
   "outputs": [
    {
     "name": "stdout",
     "output_type": "stream",
     "text": [
      "Torch: 2.4.0+cu118; Numpy: 1.24.1\n"
     ]
    }
   ],
   "source": [
    "import torch\n",
    "import numpy as np\n",
    "\n",
    "print(f\"Torch: {torch.__version__}; Numpy: {np.__version__}\")"
   ]
  },
  {
   "cell_type": "code",
   "execution_count": 5,
   "id": "593df916-6800-4b64-8a2d-4e6b85639077",
   "metadata": {
    "execution": {
     "iopub.execute_input": "2025-08-02T19:45:52.561989Z",
     "iopub.status.busy": "2025-08-02T19:45:52.560882Z",
     "iopub.status.idle": "2025-08-02T19:45:57.443484Z",
     "shell.execute_reply": "2025-08-02T19:45:57.442204Z",
     "shell.execute_reply.started": "2025-08-02T19:45:52.561933Z"
    },
    "tags": []
   },
   "outputs": [
    {
     "name": "stdout",
     "output_type": "stream",
     "text": [
      "Defaulting to user installation because normal site-packages is not writeable\n",
      "Requirement already satisfied: opencv-python-headless==4.8.1.78 in /home/jupyter/.local/lib/python3.10/site-packages (4.8.1.78)\n",
      "Requirement already satisfied: numpy>=1.21.2 in /home/jupyter/.local/lib/python3.10/site-packages (from opencv-python-headless==4.8.1.78) (1.24.1)\n",
      "\n",
      "\u001b[1m[\u001b[0m\u001b[34;49mnotice\u001b[0m\u001b[1;39;49m]\u001b[0m\u001b[39;49m A new release of pip is available: \u001b[0m\u001b[31;49m23.0.1\u001b[0m\u001b[39;49m -> \u001b[0m\u001b[32;49m25.2\u001b[0m\n",
      "\u001b[1m[\u001b[0m\u001b[34;49mnotice\u001b[0m\u001b[1;39;49m]\u001b[0m\u001b[39;49m To update, run: \u001b[0m\u001b[32;49mpython3 -m pip install --upgrade pip\u001b[0m\n"
     ]
    }
   ],
   "source": [
    "%pip install opencv-python-headless==4.8.1.78"
   ]
  },
  {
   "cell_type": "code",
   "execution_count": 6,
   "id": "7c355b65-5f0e-45c5-83f5-1834c3879c4c",
   "metadata": {
    "execution": {
     "iopub.execute_input": "2025-08-02T19:45:57.448212Z",
     "iopub.status.busy": "2025-08-02T19:45:57.446250Z",
     "iopub.status.idle": "2025-08-02T19:45:59.789623Z",
     "shell.execute_reply": "2025-08-02T19:45:59.788349Z",
     "shell.execute_reply.started": "2025-08-02T19:45:57.448170Z"
    },
    "tags": []
   },
   "outputs": [
    {
     "name": "stdout",
     "output_type": "stream",
     "text": [
      "Defaulting to user installation because normal site-packages is not writeable\n",
      "Requirement already satisfied: pillow in /home/jupyter/.local/lib/python3.10/site-packages (11.0.0)\n",
      "Requirement already satisfied: imageio in /home/jupyter/.local/lib/python3.10/site-packages (2.37.0)\n",
      "Requirement already satisfied: imageio-ffmpeg in /home/jupyter/.local/lib/python3.10/site-packages (0.6.0)\n",
      "Requirement already satisfied: tqdm in /home/jupyter/.local/lib/python3.10/site-packages (4.67.1)\n",
      "Requirement already satisfied: easydict in /home/jupyter/.local/lib/python3.10/site-packages (1.13)\n",
      "Requirement already satisfied: scipy in /home/jupyter/.local/lib/python3.10/site-packages (1.15.3)\n",
      "Requirement already satisfied: ninja in /home/jupyter/.local/lib/python3.10/site-packages (1.11.1.4)\n",
      "Requirement already satisfied: rembg in /home/jupyter/.local/lib/python3.10/site-packages (2.0.67)\n",
      "Requirement already satisfied: onnxruntime in /home/jupyter/.local/lib/python3.10/site-packages (1.22.1)\n",
      "Requirement already satisfied: trimesh in /home/jupyter/.local/lib/python3.10/site-packages (4.7.1)\n",
      "Requirement already satisfied: open3d in /home/jupyter/.local/lib/python3.10/site-packages (0.19.0)\n",
      "Requirement already satisfied: xatlas in /home/jupyter/.local/lib/python3.10/site-packages (0.0.11)\n",
      "Requirement already satisfied: pyvista in /home/jupyter/.local/lib/python3.10/site-packages (0.45.3)\n",
      "Requirement already satisfied: pymeshfix in /home/jupyter/.local/lib/python3.10/site-packages (0.17.1)\n",
      "Requirement already satisfied: igraph in /home/jupyter/.local/lib/python3.10/site-packages (0.11.9)\n",
      "Requirement already satisfied: transformers in /home/jupyter/.local/lib/python3.10/site-packages (4.54.1)\n",
      "Requirement already satisfied: numpy in /home/jupyter/.local/lib/python3.10/site-packages (from imageio) (1.24.1)\n",
      "Requirement already satisfied: jsonschema in /home/jupyter/.local/lib/python3.10/site-packages (from rembg) (4.25.0)\n",
      "Requirement already satisfied: opencv-python-headless in /home/jupyter/.local/lib/python3.10/site-packages (from rembg) (4.8.1.78)\n",
      "Requirement already satisfied: pooch in /home/jupyter/.local/lib/python3.10/site-packages (from rembg) (1.8.2)\n",
      "Requirement already satisfied: pymatting in /home/jupyter/.local/lib/python3.10/site-packages (from rembg) (1.1.14)\n",
      "Requirement already satisfied: scikit-image in /home/jupyter/.local/lib/python3.10/site-packages (from rembg) (0.25.2)\n",
      "Requirement already satisfied: coloredlogs in /home/jupyter/.local/lib/python3.10/site-packages (from onnxruntime) (15.0.1)\n",
      "Requirement already satisfied: flatbuffers in /home/jupyter/.local/lib/python3.10/site-packages (from onnxruntime) (25.2.10)\n",
      "Requirement already satisfied: packaging in /home/jupyter/.local/lib/python3.10/site-packages (from onnxruntime) (25.0)\n",
      "Requirement already satisfied: protobuf in /home/jupyter/.local/lib/python3.10/site-packages (from onnxruntime) (6.31.1)\n",
      "Requirement already satisfied: sympy in /home/jupyter/.local/lib/python3.10/site-packages (from onnxruntime) (1.13.3)\n",
      "Requirement already satisfied: dash>=2.6.0 in /home/jupyter/.local/lib/python3.10/site-packages (from open3d) (3.2.0)\n",
      "Requirement already satisfied: werkzeug>=3.0.0 in /home/jupyter/.local/lib/python3.10/site-packages (from open3d) (3.1.3)\n",
      "Requirement already satisfied: flask>=3.0.0 in /home/jupyter/.local/lib/python3.10/site-packages (from open3d) (3.1.1)\n",
      "Requirement already satisfied: nbformat>=5.7.0 in /home/jupyter/.local/lib/python3.10/site-packages (from open3d) (5.10.4)\n",
      "Requirement already satisfied: configargparse in /home/jupyter/.local/lib/python3.10/site-packages (from open3d) (1.7.1)\n",
      "Requirement already satisfied: ipywidgets>=8.0.4 in /home/jupyter/.local/lib/python3.10/site-packages (from open3d) (8.1.7)\n",
      "Requirement already satisfied: addict in /home/jupyter/.local/lib/python3.10/site-packages (from open3d) (2.4.0)\n",
      "Requirement already satisfied: matplotlib>=3 in /home/jupyter/.local/lib/python3.10/site-packages (from open3d) (3.10.5)\n",
      "Requirement already satisfied: pandas>=1.0 in /kernel/fallback/lib/python3.10/site-packages (from open3d) (2.2.3)\n",
      "Requirement already satisfied: pyyaml>=5.4.1 in /home/jupyter/.local/lib/python3.10/site-packages (from open3d) (6.0.2)\n",
      "Requirement already satisfied: scikit-learn>=0.21 in /home/jupyter/.local/lib/python3.10/site-packages (from open3d) (1.7.1)\n",
      "Requirement already satisfied: pyquaternion in /home/jupyter/.local/lib/python3.10/site-packages (from open3d) (0.9.9)\n",
      "Requirement already satisfied: scooby>=0.5.1 in /home/jupyter/.local/lib/python3.10/site-packages (from pyvista) (0.10.1)\n",
      "Requirement already satisfied: typing-extensions in /home/jupyter/.local/lib/python3.10/site-packages (from pyvista) (4.12.2)\n",
      "Requirement already satisfied: vtk!=9.4.0 in /home/jupyter/.local/lib/python3.10/site-packages (from pyvista) (9.4.2)\n",
      "Requirement already satisfied: texttable>=1.6.2 in /home/jupyter/.local/lib/python3.10/site-packages (from igraph) (1.7.0)\n",
      "Requirement already satisfied: filelock in /home/jupyter/.local/lib/python3.10/site-packages (from transformers) (3.13.1)\n",
      "Requirement already satisfied: huggingface-hub<1.0,>=0.34.0 in /home/jupyter/.local/lib/python3.10/site-packages (from transformers) (0.34.3)\n",
      "Requirement already satisfied: regex!=2019.12.17 in /home/jupyter/.local/lib/python3.10/site-packages (from transformers) (2025.7.34)\n",
      "Requirement already satisfied: requests in /kernel/fallback/lib/python3.10/site-packages (from transformers) (2.31.0)\n",
      "Requirement already satisfied: tokenizers<0.22,>=0.21 in /home/jupyter/.local/lib/python3.10/site-packages (from transformers) (0.21.4)\n",
      "Requirement already satisfied: safetensors>=0.4.3 in /home/jupyter/.local/lib/python3.10/site-packages (from transformers) (0.5.3)\n",
      "Requirement already satisfied: fsspec>=2023.5.0 in /home/jupyter/.local/lib/python3.10/site-packages (from huggingface-hub<1.0,>=0.34.0->transformers) (2024.6.1)\n",
      "Requirement already satisfied: hf-xet<2.0.0,>=1.1.3 in /home/jupyter/.local/lib/python3.10/site-packages (from huggingface-hub<1.0,>=0.34.0->transformers) (1.1.5)\n",
      "Requirement already satisfied: plotly>=5.0.0 in /home/jupyter/.local/lib/python3.10/site-packages (from dash>=2.6.0->open3d) (6.2.0)\n",
      "Requirement already satisfied: importlib-metadata in /home/jupyter/.local/lib/python3.10/site-packages (from dash>=2.6.0->open3d) (8.7.0)\n",
      "Requirement already satisfied: retrying in /home/jupyter/.local/lib/python3.10/site-packages (from dash>=2.6.0->open3d) (1.4.1)\n",
      "Requirement already satisfied: nest-asyncio in /home/jupyter/.local/lib/python3.10/site-packages (from dash>=2.6.0->open3d) (1.6.0)\n",
      "Requirement already satisfied: setuptools in /kernel/lib/python3.10/site-packages (from dash>=2.6.0->open3d) (65.5.0)\n",
      "Requirement already satisfied: blinker>=1.9.0 in /home/jupyter/.local/lib/python3.10/site-packages (from flask>=3.0.0->open3d) (1.9.0)\n",
      "Requirement already satisfied: click>=8.1.3 in /home/jupyter/.local/lib/python3.10/site-packages (from flask>=3.0.0->open3d) (8.2.2)\n",
      "Requirement already satisfied: itsdangerous>=2.2.0 in /home/jupyter/.local/lib/python3.10/site-packages (from flask>=3.0.0->open3d) (2.2.0)\n",
      "Requirement already satisfied: jinja2>=3.1.2 in /home/jupyter/.local/lib/python3.10/site-packages (from flask>=3.0.0->open3d) (3.1.4)\n",
      "Requirement already satisfied: markupsafe>=2.1.1 in /home/jupyter/.local/lib/python3.10/site-packages (from flask>=3.0.0->open3d) (2.1.5)\n",
      "Requirement already satisfied: comm>=0.1.3 in /home/jupyter/.local/lib/python3.10/site-packages (from ipywidgets>=8.0.4->open3d) (0.2.3)\n",
      "Requirement already satisfied: ipython>=6.1.0 in /home/jupyter/.local/lib/python3.10/site-packages (from ipywidgets>=8.0.4->open3d) (8.37.0)\n",
      "Requirement already satisfied: traitlets>=4.3.1 in /kernel/fallback/lib/python3.10/site-packages (from ipywidgets>=8.0.4->open3d) (5.14.3)\n",
      "Requirement already satisfied: widgetsnbextension~=4.0.14 in /home/jupyter/.local/lib/python3.10/site-packages (from ipywidgets>=8.0.4->open3d) (4.0.14)\n",
      "Requirement already satisfied: jupyterlab_widgets~=3.0.15 in /home/jupyter/.local/lib/python3.10/site-packages (from ipywidgets>=8.0.4->open3d) (3.0.15)\n",
      "Requirement already satisfied: decorator in /home/jupyter/.local/lib/python3.10/site-packages (from ipython>=6.1.0->ipywidgets>=8.0.4->open3d) (5.2.1)\n",
      "Requirement already satisfied: exceptiongroup in /home/jupyter/.local/lib/python3.10/site-packages (from ipython>=6.1.0->ipywidgets>=8.0.4->open3d) (1.3.0)\n",
      "Requirement already satisfied: jedi>=0.16 in /home/jupyter/.local/lib/python3.10/site-packages (from ipython>=6.1.0->ipywidgets>=8.0.4->open3d) (0.19.2)\n",
      "Requirement already satisfied: matplotlib-inline in /kernel/fallback/lib/python3.10/site-packages (from ipython>=6.1.0->ipywidgets>=8.0.4->open3d) (0.1.7)\n",
      "Requirement already satisfied: pexpect>4.3 in /home/jupyter/.local/lib/python3.10/site-packages (from ipython>=6.1.0->ipywidgets>=8.0.4->open3d) (4.9.0)\n",
      "Requirement already satisfied: prompt_toolkit<3.1.0,>=3.0.41 in /home/jupyter/.local/lib/python3.10/site-packages (from ipython>=6.1.0->ipywidgets>=8.0.4->open3d) (3.0.51)\n",
      "Requirement already satisfied: pygments>=2.4.0 in /home/jupyter/.local/lib/python3.10/site-packages (from ipython>=6.1.0->ipywidgets>=8.0.4->open3d) (2.19.2)\n",
      "Requirement already satisfied: stack_data in /home/jupyter/.local/lib/python3.10/site-packages (from ipython>=6.1.0->ipywidgets>=8.0.4->open3d) (0.6.3)\n",
      "Requirement already satisfied: wcwidth in /home/jupyter/.local/lib/python3.10/site-packages (from prompt_toolkit<3.1.0,>=3.0.41->ipython>=6.1.0->ipywidgets>=8.0.4->open3d) (0.2.13)\n",
      "Requirement already satisfied: parso<0.9.0,>=0.8.4 in /home/jupyter/.local/lib/python3.10/site-packages (from jedi>=0.16->ipython>=6.1.0->ipywidgets>=8.0.4->open3d) (0.8.4)\n",
      "Requirement already satisfied: contourpy>=1.0.1 in /home/jupyter/.local/lib/python3.10/site-packages (from matplotlib>=3->open3d) (1.3.2)\n",
      "Requirement already satisfied: cycler>=0.10 in /home/jupyter/.local/lib/python3.10/site-packages (from matplotlib>=3->open3d) (0.12.1)\n",
      "Requirement already satisfied: fonttools>=4.22.0 in /home/jupyter/.local/lib/python3.10/site-packages (from matplotlib>=3->open3d) (4.59.0)\n",
      "Requirement already satisfied: kiwisolver>=1.3.1 in /home/jupyter/.local/lib/python3.10/site-packages (from matplotlib>=3->open3d) (1.4.8)\n",
      "Requirement already satisfied: pyparsing>=2.3.1 in /home/jupyter/.local/lib/python3.10/site-packages (from matplotlib>=3->open3d) (3.2.3)\n",
      "Requirement already satisfied: python-dateutil>=2.7 in /kernel/fallback/lib/python3.10/site-packages (from matplotlib>=3->open3d) (2.9.0.post0)\n",
      "Requirement already satisfied: fastjsonschema>=2.15 in /home/jupyter/.local/lib/python3.10/site-packages (from nbformat>=5.7.0->open3d) (2.21.1)\n",
      "Requirement already satisfied: jupyter-core!=5.0.*,>=4.12 in /home/jupyter/.local/lib/python3.10/site-packages (from nbformat>=5.7.0->open3d) (5.8.1)\n",
      "Requirement already satisfied: attrs>=22.2.0 in /home/jupyter/.local/lib/python3.10/site-packages (from jsonschema->rembg) (25.3.0)\n",
      "Requirement already satisfied: jsonschema-specifications>=2023.03.6 in /home/jupyter/.local/lib/python3.10/site-packages (from jsonschema->rembg) (2025.4.1)\n",
      "Requirement already satisfied: referencing>=0.28.4 in /home/jupyter/.local/lib/python3.10/site-packages (from jsonschema->rembg) (0.36.2)\n",
      "Requirement already satisfied: rpds-py>=0.7.1 in /home/jupyter/.local/lib/python3.10/site-packages (from jsonschema->rembg) (0.26.0)\n",
      "Requirement already satisfied: platformdirs>=2.5 in /home/jupyter/.local/lib/python3.10/site-packages (from jupyter-core!=5.0.*,>=4.12->nbformat>=5.7.0->open3d) (4.3.8)\n",
      "Requirement already satisfied: pytz>=2020.1 in /kernel/fallback/lib/python3.10/site-packages (from pandas>=1.0->open3d) (2025.2)\n",
      "Requirement already satisfied: tzdata>=2022.7 in /kernel/fallback/lib/python3.10/site-packages (from pandas>=1.0->open3d) (2025.2)\n",
      "Requirement already satisfied: ptyprocess>=0.5 in /home/jupyter/.local/lib/python3.10/site-packages (from pexpect>4.3->ipython>=6.1.0->ipywidgets>=8.0.4->open3d) (0.7.0)\n",
      "Requirement already satisfied: narwhals>=1.15.1 in /home/jupyter/.local/lib/python3.10/site-packages (from plotly>=5.0.0->dash>=2.6.0->open3d) (2.0.1)\n",
      "Requirement already satisfied: six>=1.5 in /kernel/fallback/lib/python3.10/site-packages (from python-dateutil>=2.7->matplotlib>=3->open3d) (1.17.0)\n",
      "Requirement already satisfied: joblib>=1.2.0 in /home/jupyter/.local/lib/python3.10/site-packages (from scikit-learn>=0.21->open3d) (1.5.1)\n",
      "Requirement already satisfied: threadpoolctl>=3.1.0 in /home/jupyter/.local/lib/python3.10/site-packages (from scikit-learn>=0.21->open3d) (3.6.0)\n",
      "Requirement already satisfied: humanfriendly>=9.1 in /home/jupyter/.local/lib/python3.10/site-packages (from coloredlogs->onnxruntime) (10.0)\n",
      "Requirement already satisfied: zipp>=3.20 in /home/jupyter/.local/lib/python3.10/site-packages (from importlib-metadata->dash>=2.6.0->open3d) (3.23.0)\n",
      "Requirement already satisfied: charset-normalizer<4,>=2 in /kernel/fallback/lib/python3.10/site-packages (from requests->transformers) (3.4.2)\n",
      "Requirement already satisfied: idna<4,>=2.5 in /kernel/fallback/lib/python3.10/site-packages (from requests->transformers) (3.10)\n",
      "Requirement already satisfied: urllib3<3,>=1.21.1 in /kernel/fallback/lib/python3.10/site-packages (from requests->transformers) (1.25.11)\n",
      "Requirement already satisfied: certifi>=2017.4.17 in /kernel/fallback/lib/python3.10/site-packages (from requests->transformers) (2025.4.26)\n",
      "Requirement already satisfied: numba!=0.49.0 in /home/jupyter/.local/lib/python3.10/site-packages (from pymatting->rembg) (0.61.2)\n",
      "Requirement already satisfied: llvmlite<0.45,>=0.44.0dev0 in /home/jupyter/.local/lib/python3.10/site-packages (from numba!=0.49.0->pymatting->rembg) (0.44.0)\n",
      "Requirement already satisfied: networkx>=3.0 in /home/jupyter/.local/lib/python3.10/site-packages (from scikit-image->rembg) (3.3)\n",
      "Requirement already satisfied: tifffile>=2022.8.12 in /home/jupyter/.local/lib/python3.10/site-packages (from scikit-image->rembg) (2025.5.10)\n",
      "Requirement already satisfied: lazy-loader>=0.4 in /home/jupyter/.local/lib/python3.10/site-packages (from scikit-image->rembg) (0.4)\n",
      "Requirement already satisfied: executing>=1.2.0 in /home/jupyter/.local/lib/python3.10/site-packages (from stack_data->ipython>=6.1.0->ipywidgets>=8.0.4->open3d) (2.2.0)\n",
      "Requirement already satisfied: asttokens>=2.1.0 in /home/jupyter/.local/lib/python3.10/site-packages (from stack_data->ipython>=6.1.0->ipywidgets>=8.0.4->open3d) (3.0.0)\n",
      "Requirement already satisfied: pure-eval in /home/jupyter/.local/lib/python3.10/site-packages (from stack_data->ipython>=6.1.0->ipywidgets>=8.0.4->open3d) (0.2.3)\n",
      "Requirement already satisfied: mpmath<1.4,>=1.1.0 in /home/jupyter/.local/lib/python3.10/site-packages (from sympy->onnxruntime) (1.3.0)\n",
      "\n",
      "\u001b[1m[\u001b[0m\u001b[34;49mnotice\u001b[0m\u001b[1;39;49m]\u001b[0m\u001b[39;49m A new release of pip is available: \u001b[0m\u001b[31;49m23.0.1\u001b[0m\u001b[39;49m -> \u001b[0m\u001b[32;49m25.2\u001b[0m\n",
      "\u001b[1m[\u001b[0m\u001b[34;49mnotice\u001b[0m\u001b[1;39;49m]\u001b[0m\u001b[39;49m To update, run: \u001b[0m\u001b[32;49mpython3 -m pip install --upgrade pip\u001b[0m\n"
     ]
    }
   ],
   "source": [
    " %pip install pillow imageio imageio-ffmpeg tqdm easydict scipy ninja rembg onnxruntime trimesh open3d xatlas pyvista pymeshfix igraph transformers"
   ]
  },
  {
   "cell_type": "code",
   "execution_count": 7,
   "id": "d0bb8328-a281-4cfd-86c8-515dd6065590",
   "metadata": {
    "execution": {
     "iopub.execute_input": "2025-08-02T19:46:03.042748Z",
     "iopub.status.busy": "2025-08-02T19:46:03.041386Z",
     "iopub.status.idle": "2025-08-02T19:46:11.537022Z",
     "shell.execute_reply": "2025-08-02T19:46:11.535785Z",
     "shell.execute_reply.started": "2025-08-02T19:46:03.042692Z"
    },
    "tags": []
   },
   "outputs": [
    {
     "name": "stdout",
     "output_type": "stream",
     "text": [
      "Defaulting to user installation because normal site-packages is not writeable\n",
      "Collecting git+https://github.com/EasternJournalist/utils3d.git@9a4eb15e4021b67b12c460c7057d642626897ec8\n",
      "  Cloning https://github.com/EasternJournalist/utils3d.git (to revision 9a4eb15e4021b67b12c460c7057d642626897ec8) to /tmp/pip-req-build-ls1nw4mz\n",
      "  Running command git clone --filter=blob:none --quiet https://github.com/EasternJournalist/utils3d.git /tmp/pip-req-build-ls1nw4mz\n",
      "  Running command git rev-parse -q --verify 'sha^9a4eb15e4021b67b12c460c7057d642626897ec8'\n",
      "  Running command git fetch -q https://github.com/EasternJournalist/utils3d.git 9a4eb15e4021b67b12c460c7057d642626897ec8\n",
      "  Running command git checkout -q 9a4eb15e4021b67b12c460c7057d642626897ec8\n",
      "  Resolved https://github.com/EasternJournalist/utils3d.git to commit 9a4eb15e4021b67b12c460c7057d642626897ec8\n",
      "  Preparing metadata (pyproject.toml) ... \u001b[?25ldone\n",
      "\u001b[?25hRequirement already satisfied: moderngl in /home/jupyter/.local/lib/python3.10/site-packages (from utils3d==0.0.2) (5.12.0)\n",
      "Requirement already satisfied: numpy in /home/jupyter/.local/lib/python3.10/site-packages (from utils3d==0.0.2) (1.24.1)\n",
      "Requirement already satisfied: plyfile in /home/jupyter/.local/lib/python3.10/site-packages (from utils3d==0.0.2) (1.1.2)\n",
      "Requirement already satisfied: scipy in /home/jupyter/.local/lib/python3.10/site-packages (from utils3d==0.0.2) (1.15.3)\n",
      "Requirement already satisfied: glcontext>=3.0.0 in /home/jupyter/.local/lib/python3.10/site-packages (from moderngl->utils3d==0.0.2) (3.0.0)\n",
      "Building wheels for collected packages: utils3d\n",
      "  Building wheel for utils3d (pyproject.toml) ... \u001b[?25ldone\n",
      "\u001b[?25h  Created wheel for utils3d: filename=utils3d-0.0.2-py3-none-any.whl size=71364 sha256=3ce485c9e463c2bb353ea532cf14c8a482d9e02d00f9d12ae1df3ba503a9573c\n",
      "  Stored in directory: /tmp/xdg_cache/pip/wheels/c3/b3/47/21a0f6ab85ba67485c67649cca6c6d566bf9768f45a71d82dd\n",
      "Successfully built utils3d\n",
      "Installing collected packages: utils3d\n",
      "Successfully installed utils3d-0.0.2\n",
      "\n",
      "\u001b[1m[\u001b[0m\u001b[34;49mnotice\u001b[0m\u001b[1;39;49m]\u001b[0m\u001b[39;49m A new release of pip is available: \u001b[0m\u001b[31;49m23.0.1\u001b[0m\u001b[39;49m -> \u001b[0m\u001b[32;49m25.2\u001b[0m\n",
      "\u001b[1m[\u001b[0m\u001b[34;49mnotice\u001b[0m\u001b[1;39;49m]\u001b[0m\u001b[39;49m To update, run: \u001b[0m\u001b[32;49mpython3 -m pip install --upgrade pip\u001b[0m\n"
     ]
    }
   ],
   "source": [
    "%pip install git+https://github.com/EasternJournalist/utils3d.git@9a4eb15e4021b67b12c460c7057d642626897ec8"
   ]
  },
  {
   "cell_type": "code",
   "execution_count": 13,
   "id": "e19d0382-aaff-4f99-807a-b2248f2827d9",
   "metadata": {
    "execution": {
     "iopub.execute_input": "2025-08-02T19:26:36.111242Z",
     "iopub.status.busy": "2025-08-02T19:26:36.109691Z",
     "iopub.status.idle": "2025-08-02T19:26:38.154072Z",
     "shell.execute_reply": "2025-08-02T19:26:38.152730Z",
     "shell.execute_reply.started": "2025-08-02T19:26:36.111167Z"
    },
    "tags": []
   },
   "outputs": [
    {
     "name": "stdout",
     "output_type": "stream",
     "text": [
      "Defaulting to user installation because normal site-packages is not writeable\n",
      "Looking in links: https://nvidia-kaolin.s3.us-east-2.amazonaws.com/torch-2.4.0_cu121.html\n",
      "Requirement already satisfied: kaolin in /home/jupyter/.local/lib/python3.10/site-packages (0.18.0)\n",
      "Requirement already satisfied: ipython in /home/jupyter/.local/lib/python3.10/site-packages (from kaolin) (8.37.0)\n",
      "Requirement already satisfied: ipycanvas in /home/jupyter/.local/lib/python3.10/site-packages (from kaolin) (0.14.1)\n",
      "Requirement already satisfied: ipyevents in /home/jupyter/.local/lib/python3.10/site-packages (from kaolin) (2.0.2)\n",
      "Requirement already satisfied: jupyter_client<8 in /home/jupyter/.local/lib/python3.10/site-packages (from kaolin) (7.4.9)\n",
      "Requirement already satisfied: flask in /home/jupyter/.local/lib/python3.10/site-packages (from kaolin) (3.1.1)\n",
      "Requirement already satisfied: tornado in /home/jupyter/.local/lib/python3.10/site-packages (from kaolin) (6.5.1)\n",
      "Requirement already satisfied: comm>=0.1.3 in /home/jupyter/.local/lib/python3.10/site-packages (from kaolin) (0.2.3)\n",
      "Requirement already satisfied: usd-core in /home/jupyter/.local/lib/python3.10/site-packages (from kaolin) (25.8)\n",
      "Requirement already satisfied: numpy in /home/jupyter/.local/lib/python3.10/site-packages (from kaolin) (1.24.1)\n",
      "Requirement already satisfied: pybind11 in /home/jupyter/.local/lib/python3.10/site-packages (from kaolin) (3.0.0)\n",
      "Requirement already satisfied: Pillow>=8.0.0 in /home/jupyter/.local/lib/python3.10/site-packages (from kaolin) (11.0.0)\n",
      "Requirement already satisfied: tqdm>=4.51.0 in /home/jupyter/.local/lib/python3.10/site-packages (from kaolin) (4.67.1)\n",
      "Requirement already satisfied: scipy in /home/jupyter/.local/lib/python3.10/site-packages (from kaolin) (1.15.3)\n",
      "Requirement already satisfied: pygltflib in /home/jupyter/.local/lib/python3.10/site-packages (from kaolin) (1.16.5)\n",
      "Requirement already satisfied: warp-lang in /home/jupyter/.local/lib/python3.10/site-packages (from kaolin) (1.8.1)\n",
      "Requirement already satisfied: entrypoints in /home/jupyter/.local/lib/python3.10/site-packages (from jupyter_client<8->kaolin) (0.4)\n",
      "Requirement already satisfied: jupyter-core>=4.9.2 in /home/jupyter/.local/lib/python3.10/site-packages (from jupyter_client<8->kaolin) (5.8.1)\n",
      "Requirement already satisfied: nest-asyncio>=1.5.4 in /home/jupyter/.local/lib/python3.10/site-packages (from jupyter_client<8->kaolin) (1.6.0)\n",
      "Requirement already satisfied: python-dateutil>=2.8.2 in /kernel/fallback/lib/python3.10/site-packages (from jupyter_client<8->kaolin) (2.9.0.post0)\n",
      "Requirement already satisfied: pyzmq>=23.0 in /kernel/lib/python3.10/site-packages (from jupyter_client<8->kaolin) (26.4.0)\n",
      "Requirement already satisfied: traitlets in /kernel/fallback/lib/python3.10/site-packages (from jupyter_client<8->kaolin) (5.14.3)\n",
      "Requirement already satisfied: platformdirs>=2.5 in /home/jupyter/.local/lib/python3.10/site-packages (from jupyter-core>=4.9.2->jupyter_client<8->kaolin) (4.3.8)\n",
      "Requirement already satisfied: six>=1.5 in /kernel/fallback/lib/python3.10/site-packages (from python-dateutil>=2.8.2->jupyter_client<8->kaolin) (1.17.0)\n",
      "Requirement already satisfied: blinker>=1.9.0 in /home/jupyter/.local/lib/python3.10/site-packages (from flask->kaolin) (1.9.0)\n",
      "Requirement already satisfied: click>=8.1.3 in /home/jupyter/.local/lib/python3.10/site-packages (from flask->kaolin) (8.2.2)\n",
      "Requirement already satisfied: itsdangerous>=2.2.0 in /home/jupyter/.local/lib/python3.10/site-packages (from flask->kaolin) (2.2.0)\n",
      "Requirement already satisfied: jinja2>=3.1.2 in /home/jupyter/.local/lib/python3.10/site-packages (from flask->kaolin) (3.1.4)\n",
      "Requirement already satisfied: markupsafe>=2.1.1 in /home/jupyter/.local/lib/python3.10/site-packages (from flask->kaolin) (2.1.5)\n",
      "Requirement already satisfied: werkzeug>=3.1.0 in /home/jupyter/.local/lib/python3.10/site-packages (from flask->kaolin) (3.1.3)\n",
      "Requirement already satisfied: ipywidgets<9,>=7.6.0 in /home/jupyter/.local/lib/python3.10/site-packages (from ipycanvas->kaolin) (8.1.7)\n",
      "Requirement already satisfied: widgetsnbextension~=4.0.14 in /home/jupyter/.local/lib/python3.10/site-packages (from ipywidgets<9,>=7.6.0->ipycanvas->kaolin) (4.0.14)\n",
      "Requirement already satisfied: jupyterlab_widgets~=3.0.15 in /home/jupyter/.local/lib/python3.10/site-packages (from ipywidgets<9,>=7.6.0->ipycanvas->kaolin) (3.0.15)\n",
      "Requirement already satisfied: decorator in /home/jupyter/.local/lib/python3.10/site-packages (from ipython->kaolin) (5.2.1)\n",
      "Requirement already satisfied: exceptiongroup in /home/jupyter/.local/lib/python3.10/site-packages (from ipython->kaolin) (1.3.0)\n",
      "Requirement already satisfied: jedi>=0.16 in /home/jupyter/.local/lib/python3.10/site-packages (from ipython->kaolin) (0.19.2)\n",
      "Requirement already satisfied: matplotlib-inline in /kernel/fallback/lib/python3.10/site-packages (from ipython->kaolin) (0.1.7)\n",
      "Requirement already satisfied: pexpect>4.3 in /home/jupyter/.local/lib/python3.10/site-packages (from ipython->kaolin) (4.9.0)\n",
      "Requirement already satisfied: prompt_toolkit<3.1.0,>=3.0.41 in /home/jupyter/.local/lib/python3.10/site-packages (from ipython->kaolin) (3.0.51)\n",
      "Requirement already satisfied: pygments>=2.4.0 in /home/jupyter/.local/lib/python3.10/site-packages (from ipython->kaolin) (2.19.2)\n",
      "Requirement already satisfied: stack_data in /home/jupyter/.local/lib/python3.10/site-packages (from ipython->kaolin) (0.6.3)\n",
      "Requirement already satisfied: typing_extensions>=4.6 in /home/jupyter/.local/lib/python3.10/site-packages (from ipython->kaolin) (4.12.2)\n",
      "Requirement already satisfied: wcwidth in /home/jupyter/.local/lib/python3.10/site-packages (from prompt_toolkit<3.1.0,>=3.0.41->ipython->kaolin) (0.2.13)\n",
      "Requirement already satisfied: parso<0.9.0,>=0.8.4 in /home/jupyter/.local/lib/python3.10/site-packages (from jedi>=0.16->ipython->kaolin) (0.8.4)\n",
      "Requirement already satisfied: ptyprocess>=0.5 in /home/jupyter/.local/lib/python3.10/site-packages (from pexpect>4.3->ipython->kaolin) (0.7.0)\n",
      "Requirement already satisfied: dataclasses-json>=0.0.25 in /home/jupyter/.local/lib/python3.10/site-packages (from pygltflib->kaolin) (0.6.7)\n",
      "Requirement already satisfied: deprecated in /home/jupyter/.local/lib/python3.10/site-packages (from pygltflib->kaolin) (1.2.18)\n",
      "Requirement already satisfied: marshmallow<4.0.0,>=3.18.0 in /home/jupyter/.local/lib/python3.10/site-packages (from dataclasses-json>=0.0.25->pygltflib->kaolin) (3.26.1)\n",
      "Requirement already satisfied: typing-inspect<1,>=0.4.0 in /home/jupyter/.local/lib/python3.10/site-packages (from dataclasses-json>=0.0.25->pygltflib->kaolin) (0.9.0)\n",
      "Requirement already satisfied: packaging>=17.0 in /home/jupyter/.local/lib/python3.10/site-packages (from marshmallow<4.0.0,>=3.18.0->dataclasses-json>=0.0.25->pygltflib->kaolin) (25.0)\n",
      "Requirement already satisfied: mypy-extensions>=0.3.0 in /home/jupyter/.local/lib/python3.10/site-packages (from typing-inspect<1,>=0.4.0->dataclasses-json>=0.0.25->pygltflib->kaolin) (1.1.0)\n",
      "Requirement already satisfied: wrapt<2,>=1.10 in /home/jupyter/.local/lib/python3.10/site-packages (from deprecated->pygltflib->kaolin) (1.17.2)\n",
      "Requirement already satisfied: executing>=1.2.0 in /home/jupyter/.local/lib/python3.10/site-packages (from stack_data->ipython->kaolin) (2.2.0)\n",
      "Requirement already satisfied: asttokens>=2.1.0 in /home/jupyter/.local/lib/python3.10/site-packages (from stack_data->ipython->kaolin) (3.0.0)\n",
      "Requirement already satisfied: pure-eval in /home/jupyter/.local/lib/python3.10/site-packages (from stack_data->ipython->kaolin) (0.2.3)\n",
      "\n",
      "\u001b[1m[\u001b[0m\u001b[34;49mnotice\u001b[0m\u001b[1;39;49m]\u001b[0m\u001b[39;49m A new release of pip is available: \u001b[0m\u001b[31;49m23.0.1\u001b[0m\u001b[39;49m -> \u001b[0m\u001b[32;49m25.2\u001b[0m\n",
      "\u001b[1m[\u001b[0m\u001b[34;49mnotice\u001b[0m\u001b[1;39;49m]\u001b[0m\u001b[39;49m To update, run: \u001b[0m\u001b[32;49mpython3 -m pip install --upgrade pip\u001b[0m\n"
     ]
    }
   ],
   "source": [
    "pip install kaolin -f https://nvidia-kaolin.s3.us-east-2.amazonaws.com/torch-2.4.0_cu121.html"
   ]
  },
  {
   "cell_type": "code",
   "execution_count": 9,
   "id": "a9728b96-0b84-4409-b4d7-3489b063483b",
   "metadata": {
    "collapsed": true,
    "execution": {
     "iopub.execute_input": "2025-08-02T19:46:29.901840Z",
     "iopub.status.busy": "2025-08-02T19:46:29.900515Z",
     "iopub.status.idle": "2025-08-02T19:48:16.431552Z",
     "shell.execute_reply": "2025-08-02T19:48:16.430164Z",
     "shell.execute_reply.started": "2025-08-02T19:46:29.901802Z"
    },
    "jupyter": {
     "outputs_hidden": true
    },
    "tags": []
   },
   "outputs": [
    {
     "name": "stdout",
     "output_type": "stream",
     "text": [
      "Submodule path 'lib/glm': checked out '33b4a621a697a305bc3a7610d290677b96beb181'\n"
     ]
    },
    {
     "name": "stderr",
     "output_type": "stream",
     "text": [
      "Cloning into '/tmp/extensions/diffoctreerast'...\n",
      "Submodule 'lib/glm' (https://github.com/g-truc/glm.git) registered for path 'lib/glm'\n",
      "Cloning into '/tmp/extensions/diffoctreerast/lib/glm'...\n"
     ]
    },
    {
     "name": "stdout",
     "output_type": "stream",
     "text": [
      "Defaulting to user installation because normal site-packages is not writeable\n",
      "Processing /tmp/extensions/diffoctreerast\n",
      "  Preparing metadata (setup.py) ... \u001b[?25ldone\n",
      "\u001b[?25hBuilding wheels for collected packages: diffoctreerast\n",
      "\u001b[33m  DEPRECATION: Building 'diffoctreerast' using the legacy setup.py bdist_wheel mechanism, which will be removed in a future version. pip 25.3 will enforce this behaviour change. A possible replacement is to use the standardized build interface by setting the `--use-pep517` option, (possibly combined with `--no-build-isolation`), or adding a `pyproject.toml` file to the source tree of 'diffoctreerast'. Discussion can be found at https://github.com/pypa/pip/issues/6334\u001b[0m\u001b[33m\n",
      "\u001b[0m  Building wheel for diffoctreerast (setup.py) ... \u001b[?25ldone\n",
      "\u001b[?25h  Created wheel for diffoctreerast: filename=diffoctreerast-0.0.0-cp310-cp310-linux_x86_64.whl size=10879239 sha256=b7c197e225f6693e345cae96c796c495eb829a0de9e280d90c5c54729b07cde2\n",
      "  Stored in directory: /tmp/pip-ephem-wheel-cache-lut_0pek/wheels/e8/3e/62/77a8487e343a050f38d5fe7fa907473e52889ca0fece765b78\n",
      "Successfully built diffoctreerast\n",
      "Installing collected packages: diffoctreerast\n",
      "Successfully installed diffoctreerast-0.0.0\n",
      "\n",
      "\u001b[1m[\u001b[0m\u001b[34;49mnotice\u001b[0m\u001b[1;39;49m]\u001b[0m\u001b[39;49m A new release of pip is available: \u001b[0m\u001b[31;49m23.0.1\u001b[0m\u001b[39;49m -> \u001b[0m\u001b[32;49m25.2\u001b[0m\n",
      "\u001b[1m[\u001b[0m\u001b[34;49mnotice\u001b[0m\u001b[1;39;49m]\u001b[0m\u001b[39;49m To update, run: \u001b[0m\u001b[32;49mpython3 -m pip install --upgrade pip\u001b[0m\n"
     ]
    }
   ],
   "source": [
    "!mkdir -p /tmp/extensions\n",
    "!git clone --recurse-submodules https://github.com/JeffreyXiang/diffoctreerast.git /tmp/extensions/diffoctreerast\n",
    "%pip install /tmp/extensions/diffoctreerast\n",
    "!rm -r /tmp/extensions"
   ]
  },
  {
   "cell_type": "code",
   "execution_count": 15,
   "id": "e7acc769-302e-4eee-884e-d24ef5282927",
   "metadata": {
    "collapsed": true,
    "execution": {
     "iopub.execute_input": "2025-08-02T19:48:45.373397Z",
     "iopub.status.busy": "2025-08-02T19:48:45.371968Z",
     "iopub.status.idle": "2025-08-02T19:49:55.846576Z",
     "shell.execute_reply": "2025-08-02T19:49:55.845263Z",
     "shell.execute_reply.started": "2025-08-02T19:48:45.373252Z"
    },
    "jupyter": {
     "outputs_hidden": true
    },
    "tags": []
   },
   "outputs": [
    {
     "name": "stdout",
     "output_type": "stream",
     "text": [
      "Using pip 25.1.1 from /kernel/lib/python3.10/site-packages/pip (python 3.10)\n",
      "Defaulting to user installation because normal site-packages is not writeable\n",
      "Collecting flash-attn==2.6.3\n",
      "  Downloading flash_attn-2.6.3.tar.gz (2.6 MB)\n",
      "\u001b[2K     \u001b[90m━━━━━━━━━━━━━━━━━━━━━━━━━━━━━━━━━━━━━━━━\u001b[0m \u001b[32m2.6/2.6 MB\u001b[0m \u001b[31m14.1 MB/s\u001b[0m eta \u001b[36m0:00:00\u001b[0ma \u001b[36m0:00:01\u001b[0m\n",
      "\u001b[?25h  Running command python setup.py egg_info\n",
      "  fatal: not a git repository (or any of the parent directories): .git\n",
      "\n",
      "\n",
      "  torch.__version__  = 2.4.0+cu118\n",
      "\n",
      "\n",
      "  running egg_info\n",
      "  creating /tmp/pip-pip-egg-info-7ws0ke0h/flash_attn.egg-info\n",
      "  writing /tmp/pip-pip-egg-info-7ws0ke0h/flash_attn.egg-info/PKG-INFO\n",
      "  writing dependency_links to /tmp/pip-pip-egg-info-7ws0ke0h/flash_attn.egg-info/dependency_links.txt\n",
      "  writing requirements to /tmp/pip-pip-egg-info-7ws0ke0h/flash_attn.egg-info/requires.txt\n",
      "  writing top-level names to /tmp/pip-pip-egg-info-7ws0ke0h/flash_attn.egg-info/top_level.txt\n",
      "  writing manifest file '/tmp/pip-pip-egg-info-7ws0ke0h/flash_attn.egg-info/SOURCES.txt'\n",
      "  reading manifest file '/tmp/pip-pip-egg-info-7ws0ke0h/flash_attn.egg-info/SOURCES.txt'\n",
      "  reading manifest template 'MANIFEST.in'\n",
      "  warning: no files found matching '*.cu' under directory 'flash_attn'\n",
      "  warning: no files found matching '*.h' under directory 'flash_attn'\n",
      "  warning: no files found matching '*.cuh' under directory 'flash_attn'\n",
      "  warning: no files found matching '*.cpp' under directory 'flash_attn'\n",
      "  warning: no files found matching '*.hpp' under directory 'flash_attn'\n",
      "  adding license file 'LICENSE'\n",
      "  adding license file 'AUTHORS'\n",
      "  writing manifest file '/tmp/pip-pip-egg-info-7ws0ke0h/flash_attn.egg-info/SOURCES.txt'\n",
      "  Preparing metadata (setup.py) ... \u001b[?25l\u001b[?25hdone\n",
      "Requirement already satisfied: torch in /home/jupyter/.local/lib/python3.10/site-packages (from flash-attn==2.6.3) (2.4.0+cu118)\n",
      "Collecting einops (from flash-attn==2.6.3)\n",
      "  Obtaining dependency information for einops from https://files.pythonhosted.org/packages/87/62/9773de14fe6c45c23649e98b83231fffd7b9892b6cf863251dc2afa73643/einops-0.8.1-py3-none-any.whl.metadata\n",
      "  Downloading einops-0.8.1-py3-none-any.whl.metadata (13 kB)\n",
      "Requirement already satisfied: filelock in /home/jupyter/.local/lib/python3.10/site-packages (from torch->flash-attn==2.6.3) (3.13.1)\n",
      "Requirement already satisfied: typing-extensions>=4.8.0 in /home/jupyter/.local/lib/python3.10/site-packages (from torch->flash-attn==2.6.3) (4.12.2)\n",
      "Requirement already satisfied: sympy in /home/jupyter/.local/lib/python3.10/site-packages (from torch->flash-attn==2.6.3) (1.13.3)\n",
      "Requirement already satisfied: networkx in /home/jupyter/.local/lib/python3.10/site-packages (from torch->flash-attn==2.6.3) (3.3)\n",
      "Requirement already satisfied: jinja2 in /home/jupyter/.local/lib/python3.10/site-packages (from torch->flash-attn==2.6.3) (3.1.4)\n",
      "Requirement already satisfied: fsspec in /home/jupyter/.local/lib/python3.10/site-packages (from torch->flash-attn==2.6.3) (2024.6.1)\n",
      "Requirement already satisfied: nvidia-cuda-nvrtc-cu11==11.8.89 in /home/jupyter/.local/lib/python3.10/site-packages (from torch->flash-attn==2.6.3) (11.8.89)\n",
      "Requirement already satisfied: nvidia-cuda-runtime-cu11==11.8.89 in /home/jupyter/.local/lib/python3.10/site-packages (from torch->flash-attn==2.6.3) (11.8.89)\n",
      "Requirement already satisfied: nvidia-cuda-cupti-cu11==11.8.87 in /home/jupyter/.local/lib/python3.10/site-packages (from torch->flash-attn==2.6.3) (11.8.87)\n",
      "Requirement already satisfied: nvidia-cudnn-cu11==9.1.0.70 in /home/jupyter/.local/lib/python3.10/site-packages (from torch->flash-attn==2.6.3) (9.1.0.70)\n",
      "Requirement already satisfied: nvidia-cublas-cu11==11.11.3.6 in /home/jupyter/.local/lib/python3.10/site-packages (from torch->flash-attn==2.6.3) (11.11.3.6)\n",
      "Requirement already satisfied: nvidia-cufft-cu11==10.9.0.58 in /home/jupyter/.local/lib/python3.10/site-packages (from torch->flash-attn==2.6.3) (10.9.0.58)\n",
      "Requirement already satisfied: nvidia-curand-cu11==10.3.0.86 in /home/jupyter/.local/lib/python3.10/site-packages (from torch->flash-attn==2.6.3) (10.3.0.86)\n",
      "Requirement already satisfied: nvidia-cusolver-cu11==11.4.1.48 in /home/jupyter/.local/lib/python3.10/site-packages (from torch->flash-attn==2.6.3) (11.4.1.48)\n",
      "Requirement already satisfied: nvidia-cusparse-cu11==11.7.5.86 in /home/jupyter/.local/lib/python3.10/site-packages (from torch->flash-attn==2.6.3) (11.7.5.86)\n",
      "Requirement already satisfied: nvidia-nccl-cu11==2.20.5 in /home/jupyter/.local/lib/python3.10/site-packages (from torch->flash-attn==2.6.3) (2.20.5)\n",
      "Requirement already satisfied: nvidia-nvtx-cu11==11.8.86 in /home/jupyter/.local/lib/python3.10/site-packages (from torch->flash-attn==2.6.3) (11.8.86)\n",
      "Requirement already satisfied: triton==3.0.0 in /home/jupyter/.local/lib/python3.10/site-packages (from torch->flash-attn==2.6.3) (3.0.0)\n",
      "Requirement already satisfied: MarkupSafe>=2.0 in /home/jupyter/.local/lib/python3.10/site-packages (from jinja2->torch->flash-attn==2.6.3) (2.1.5)\n",
      "Requirement already satisfied: mpmath<1.4,>=1.1.0 in /home/jupyter/.local/lib/python3.10/site-packages (from sympy->torch->flash-attn==2.6.3) (1.3.0)\n",
      "Downloading einops-0.8.1-py3-none-any.whl (64 kB)\n",
      "Building wheels for collected packages: flash-attn\n",
      "\u001b[33m  DEPRECATION: Building 'flash-attn' using the legacy setup.py bdist_wheel mechanism, which will be removed in a future version. pip 25.3 will enforce this behaviour change. A possible replacement is to use the standardized build interface by setting the `--use-pep517` option, (possibly combined with `--no-build-isolation`), or adding a `pyproject.toml` file to the source tree of 'flash-attn'. Discussion can be found at https://github.com/pypa/pip/issues/6334\u001b[0m\u001b[33m\n",
      "\u001b[0m  Running command python setup.py bdist_wheel\n",
      "  fatal: not a git repository (or any of the parent directories): .git\n",
      "\n",
      "\n",
      "  torch.__version__  = 2.4.0+cu118\n",
      "\n",
      "\n",
      "  running bdist_wheel\n",
      "  Guessing wheel URL:  https://github.com/Dao-AILab/flash-attention/releases/download/v2.6.3/flash_attn-2.6.3+cu118torch2.4cxx11abiFALSE-cp310-cp310-linux_x86_64.whl\n",
      "  Raw wheel path /tmp/pip-wheel-5cm94pqk/flash_attn-2.6.3-cp310-cp310-linux_x86_64.whl\n",
      "  Building wheel for flash-attn (setup.py) ... \u001b[?25l\u001b[?25hdone\n",
      "  Created wheel for flash-attn: filename=flash_attn-2.6.3-cp310-cp310-linux_x86_64.whl size=189315117 sha256=54e0a7eb80bac9ef0a759f7952202688e514c68c79370e642701b968c8e29ce1\n",
      "  Stored in directory: /tmp/xdg_cache/pip/wheels/7e/e3/c3/89c7a2f3c4adc07cd1c675f8bb7b9ad4d18f64a72bccdfe826\n",
      "Successfully built flash-attn\n",
      "Installing collected packages: einops, flash-attn\n",
      "\u001b[2K   \u001b[90m━━━━━━━━━━━━━━━━━━━━━━━━━━━━━━━━━━━━━━━━\u001b[0m \u001b[32m2/2\u001b[0m [flash-attn]2\u001b[0m [flash-attn]\n",
      "\u001b[1A\u001b[2KSuccessfully installed einops-0.8.1 flash-attn-2.6.3\n",
      "\n",
      "\u001b[1m[\u001b[0m\u001b[34;49mnotice\u001b[0m\u001b[1;39;49m]\u001b[0m\u001b[39;49m A new release of pip is available: \u001b[0m\u001b[31;49m23.0.1\u001b[0m\u001b[39;49m -> \u001b[0m\u001b[32;49m25.2\u001b[0m\n",
      "\u001b[1m[\u001b[0m\u001b[34;49mnotice\u001b[0m\u001b[1;39;49m]\u001b[0m\u001b[39;49m To update, run: \u001b[0m\u001b[32;49mpython3 -m pip install --upgrade pip\u001b[0m\n"
     ]
    }
   ],
   "source": [
    "%pip -v install flash-attn==2.6.3 --no-build-isolation"
   ]
  },
  {
   "cell_type": "code",
   "execution_count": 16,
   "id": "1b89378d-e87f-420e-9375-36691528fd52",
   "metadata": {
    "execution": {
     "iopub.execute_input": "2025-08-02T19:49:55.849948Z",
     "iopub.status.busy": "2025-08-02T19:49:55.848873Z",
     "iopub.status.idle": "2025-08-02T19:50:04.610585Z",
     "shell.execute_reply": "2025-08-02T19:50:04.609240Z",
     "shell.execute_reply.started": "2025-08-02T19:49:55.849887Z"
    },
    "tags": []
   },
   "outputs": [
    {
     "name": "stderr",
     "output_type": "stream",
     "text": [
      "Cloning into '/tmp/extensions/nvdiffrast'...\n"
     ]
    },
    {
     "name": "stdout",
     "output_type": "stream",
     "text": [
      "Defaulting to user installation because normal site-packages is not writeable\n",
      "Processing /tmp/extensions/nvdiffrast\n",
      "  Preparing metadata (setup.py) ... \u001b[?25ldone\n",
      "\u001b[?25hRequirement already satisfied: numpy in /home/jupyter/.local/lib/python3.10/site-packages (from nvdiffrast==0.3.3) (1.24.1)\n",
      "Building wheels for collected packages: nvdiffrast\n",
      "\u001b[33m  DEPRECATION: Building 'nvdiffrast' using the legacy setup.py bdist_wheel mechanism, which will be removed in a future version. pip 25.3 will enforce this behaviour change. A possible replacement is to use the standardized build interface by setting the `--use-pep517` option, (possibly combined with `--no-build-isolation`), or adding a `pyproject.toml` file to the source tree of 'nvdiffrast'. Discussion can be found at https://github.com/pypa/pip/issues/6334\u001b[0m\u001b[33m\n",
      "\u001b[0m  Building wheel for nvdiffrast (setup.py) ... \u001b[?25ldone\n",
      "\u001b[?25h  Created wheel for nvdiffrast: filename=nvdiffrast-0.3.3-py3-none-any.whl size=139908 sha256=179cce02cda1b385542e551d59c28a61e61e9941be7508c2072d4a667cfa0992\n",
      "  Stored in directory: /tmp/pip-ephem-wheel-cache-2ai0ji6x/wheels/6a/09/0b/f161c5e9bdbb98d5f8c504e6b850646975ca36813f94a45235\n",
      "Successfully built nvdiffrast\n",
      "Installing collected packages: nvdiffrast\n",
      "Successfully installed nvdiffrast-0.3.3\n",
      "\n",
      "\u001b[1m[\u001b[0m\u001b[34;49mnotice\u001b[0m\u001b[1;39;49m]\u001b[0m\u001b[39;49m A new release of pip is available: \u001b[0m\u001b[31;49m23.0.1\u001b[0m\u001b[39;49m -> \u001b[0m\u001b[32;49m25.2\u001b[0m\n",
      "\u001b[1m[\u001b[0m\u001b[34;49mnotice\u001b[0m\u001b[1;39;49m]\u001b[0m\u001b[39;49m To update, run: \u001b[0m\u001b[32;49mpython3 -m pip install --upgrade pip\u001b[0m\n"
     ]
    }
   ],
   "source": [
    "!mkdir -p /tmp/extensions\n",
    "!git clone https://github.com/NVlabs/nvdiffrast.git /tmp/extensions/nvdiffrast\n",
    "%pip install /tmp/extensions/nvdiffrast\n",
    "!rm -r /tmp/extensions"
   ]
  },
  {
   "cell_type": "code",
   "execution_count": 17,
   "id": "94ef0dda-711b-4870-a656-3169830de2bd",
   "metadata": {
    "collapsed": true,
    "execution": {
     "iopub.execute_input": "2025-08-02T19:50:04.613246Z",
     "iopub.status.busy": "2025-08-02T19:50:04.612284Z",
     "iopub.status.idle": "2025-08-02T19:51:08.265976Z",
     "shell.execute_reply": "2025-08-02T19:51:08.264639Z",
     "shell.execute_reply.started": "2025-08-02T19:50:04.613189Z"
    },
    "jupyter": {
     "outputs_hidden": true
    },
    "tags": []
   },
   "outputs": [
    {
     "name": "stdout",
     "output_type": "stream",
     "text": [
      "Defaulting to user installation because normal site-packages is not writeable\n",
      "Collecting spconv-cu118\n",
      "  Downloading spconv_cu118-2.3.8-cp310-cp310-manylinux_2_17_x86_64.manylinux2014_x86_64.whl.metadata (12 kB)\n",
      "Collecting pccm>=0.4.16 (from spconv-cu118)\n",
      "  Downloading pccm-0.4.16-py3-none-any.whl.metadata (1.1 kB)\n",
      "Collecting ccimport>=0.4.4 (from spconv-cu118)\n",
      "  Downloading ccimport-0.4.4-py3-none-any.whl.metadata (1.4 kB)\n",
      "Requirement already satisfied: pybind11>=2.6.0 in /home/jupyter/.local/lib/python3.10/site-packages (from spconv-cu118) (3.0.0)\n",
      "Collecting fire (from spconv-cu118)\n",
      "  Downloading fire-0.7.0.tar.gz (87 kB)\n",
      "  Preparing metadata (setup.py) ... \u001b[?25ldone\n",
      "\u001b[?25hRequirement already satisfied: numpy in /home/jupyter/.local/lib/python3.10/site-packages (from spconv-cu118) (1.24.1)\n",
      "Collecting cumm-cu118<0.8.0,>=0.7.11 (from spconv-cu118)\n",
      "  Downloading cumm_cu118-0.7.11-cp310-cp310-manylinux_2_17_x86_64.manylinux2014_x86_64.whl.metadata (6.2 kB)\n",
      "Requirement already satisfied: sympy in /home/jupyter/.local/lib/python3.10/site-packages (from cumm-cu118<0.8.0,>=0.7.11->spconv-cu118) (1.13.3)\n",
      "Requirement already satisfied: ninja in /home/jupyter/.local/lib/python3.10/site-packages (from ccimport>=0.4.4->spconv-cu118) (1.11.1.4)\n",
      "Requirement already satisfied: requests in /kernel/fallback/lib/python3.10/site-packages (from ccimport>=0.4.4->spconv-cu118) (2.31.0)\n",
      "Collecting lark>=1.0.0 (from pccm>=0.4.16->spconv-cu118)\n",
      "  Downloading lark-1.2.2-py3-none-any.whl.metadata (1.8 kB)\n",
      "Collecting portalocker>=2.3.2 (from pccm>=0.4.16->spconv-cu118)\n",
      "  Downloading portalocker-3.2.0-py3-none-any.whl.metadata (8.7 kB)\n",
      "Collecting termcolor (from fire->spconv-cu118)\n",
      "  Downloading termcolor-3.1.0-py3-none-any.whl.metadata (6.4 kB)\n",
      "Requirement already satisfied: charset-normalizer<4,>=2 in /kernel/fallback/lib/python3.10/site-packages (from requests->ccimport>=0.4.4->spconv-cu118) (3.4.2)\n",
      "Requirement already satisfied: idna<4,>=2.5 in /kernel/fallback/lib/python3.10/site-packages (from requests->ccimport>=0.4.4->spconv-cu118) (3.10)\n",
      "Requirement already satisfied: urllib3<3,>=1.21.1 in /kernel/fallback/lib/python3.10/site-packages (from requests->ccimport>=0.4.4->spconv-cu118) (1.25.11)\n",
      "Requirement already satisfied: certifi>=2017.4.17 in /kernel/fallback/lib/python3.10/site-packages (from requests->ccimport>=0.4.4->spconv-cu118) (2025.4.26)\n",
      "Requirement already satisfied: mpmath<1.4,>=1.1.0 in /home/jupyter/.local/lib/python3.10/site-packages (from sympy->cumm-cu118<0.8.0,>=0.7.11->spconv-cu118) (1.3.0)\n",
      "Downloading spconv_cu118-2.3.8-cp310-cp310-manylinux_2_17_x86_64.manylinux2014_x86_64.whl (75.9 MB)\n",
      "\u001b[2K   \u001b[90m━━━━━━━━━━━━━━━━━━━━━━━━━━━━━━━━━━━━━━━━\u001b[0m \u001b[32m75.9/75.9 MB\u001b[0m \u001b[31m54.0 MB/s\u001b[0m eta \u001b[36m0:00:00\u001b[0m00:01\u001b[0m00:01\u001b[0m\n",
      "\u001b[?25hDownloading cumm_cu118-0.7.11-cp310-cp310-manylinux_2_17_x86_64.manylinux2014_x86_64.whl (25.6 MB)\n",
      "\u001b[2K   \u001b[90m━━━━━━━━━━━━━━━━━━━━━━━━━━━━━━━━━━━━━━━━\u001b[0m \u001b[32m25.6/25.6 MB\u001b[0m \u001b[31m63.8 MB/s\u001b[0m eta \u001b[36m0:00:00\u001b[0ma \u001b[36m0:00:01\u001b[0m\n",
      "\u001b[?25hDownloading ccimport-0.4.4-py3-none-any.whl (27 kB)\n",
      "Downloading pccm-0.4.16-py3-none-any.whl (73 kB)\n",
      "Downloading lark-1.2.2-py3-none-any.whl (111 kB)\n",
      "Downloading portalocker-3.2.0-py3-none-any.whl (22 kB)\n",
      "Downloading termcolor-3.1.0-py3-none-any.whl (7.7 kB)\n",
      "Building wheels for collected packages: fire\n",
      "\u001b[33m  DEPRECATION: Building 'fire' using the legacy setup.py bdist_wheel mechanism, which will be removed in a future version. pip 25.3 will enforce this behaviour change. A possible replacement is to use the standardized build interface by setting the `--use-pep517` option, (possibly combined with `--no-build-isolation`), or adding a `pyproject.toml` file to the source tree of 'fire'. Discussion can be found at https://github.com/pypa/pip/issues/6334\u001b[0m\u001b[33m\n",
      "\u001b[0m  Building wheel for fire (setup.py) ... \u001b[?25ldone\n",
      "\u001b[?25h  Created wheel for fire: filename=fire-0.7.0-py3-none-any.whl size=114249 sha256=73e0515fabe9a33c2fc9590f2b7089a575ca718cffd981380630413f1dd9053f\n",
      "  Stored in directory: /tmp/xdg_cache/pip/wheels/19/39/2f/2d3cadc408a8804103f1c34ddd4b9f6a93497b11fa96fe738e\n",
      "Successfully built fire\n",
      "Installing collected packages: termcolor, portalocker, lark, fire, ccimport, pccm, cumm-cu118, spconv-cu118\n",
      "\u001b[2K   \u001b[90m━━━━━━━━━━━━━━━━━━━━━━━━━━━━━━━━━━━━━━━━\u001b[0m \u001b[32m8/8\u001b[0m [spconv-cu118][0m [spconv-cu118]\n",
      "\u001b[1A\u001b[2KSuccessfully installed ccimport-0.4.4 cumm-cu118-0.7.11 fire-0.7.0 lark-1.2.2 pccm-0.4.16 portalocker-3.2.0 spconv-cu118-2.3.8 termcolor-3.1.0\n",
      "\n",
      "\u001b[1m[\u001b[0m\u001b[34;49mnotice\u001b[0m\u001b[1;39;49m]\u001b[0m\u001b[39;49m A new release of pip is available: \u001b[0m\u001b[31;49m23.0.1\u001b[0m\u001b[39;49m -> \u001b[0m\u001b[32;49m25.2\u001b[0m\n",
      "\u001b[1m[\u001b[0m\u001b[34;49mnotice\u001b[0m\u001b[1;39;49m]\u001b[0m\u001b[39;49m To update, run: \u001b[0m\u001b[32;49mpython3 -m pip install --upgrade pip\u001b[0m\n"
     ]
    }
   ],
   "source": [
    "%pip install spconv-cu118"
   ]
  },
  {
   "cell_type": "code",
   "execution_count": 18,
   "id": "d55f134e-2226-4bdc-a362-59d1cd6ad0b9",
   "metadata": {
    "collapsed": true,
    "execution": {
     "iopub.execute_input": "2025-08-02T19:51:08.269987Z",
     "iopub.status.busy": "2025-08-02T19:51:08.268626Z",
     "iopub.status.idle": "2025-08-02T19:51:27.071411Z",
     "shell.execute_reply": "2025-08-02T19:51:27.070076Z",
     "shell.execute_reply.started": "2025-08-02T19:51:08.269927Z"
    },
    "jupyter": {
     "outputs_hidden": true
    },
    "tags": []
   },
   "outputs": [
    {
     "name": "stdout",
     "output_type": "stream",
     "text": [
      "Defaulting to user installation because normal site-packages is not writeable\n",
      "Looking in indexes: https://download.pytorch.org/whl/cu118\n",
      "Collecting xformers==0.0.27.post2\n",
      "  Downloading https://download.pytorch.org/whl/cu118/xformers-0.0.27.post2%2Bcu118-cp310-cp310-manylinux2014_x86_64.whl (20.6 MB)\n",
      "\u001b[2K     \u001b[90m━━━━━━━━━━━━━━━━━━━━━━━━━━━━━━━━━━━━━━━━\u001b[0m \u001b[32m20.6/20.6 MB\u001b[0m \u001b[31m66.9 MB/s\u001b[0m eta \u001b[36m0:00:00\u001b[0ma \u001b[36m0:00:01\u001b[0m\n",
      "\u001b[?25hRequirement already satisfied: numpy in /home/jupyter/.local/lib/python3.10/site-packages (from xformers==0.0.27.post2) (1.24.1)\n",
      "Requirement already satisfied: torch==2.4.0 in /home/jupyter/.local/lib/python3.10/site-packages (from xformers==0.0.27.post2) (2.4.0+cu118)\n",
      "Requirement already satisfied: filelock in /home/jupyter/.local/lib/python3.10/site-packages (from torch==2.4.0->xformers==0.0.27.post2) (3.13.1)\n",
      "Requirement already satisfied: typing-extensions>=4.8.0 in /home/jupyter/.local/lib/python3.10/site-packages (from torch==2.4.0->xformers==0.0.27.post2) (4.12.2)\n",
      "Requirement already satisfied: sympy in /home/jupyter/.local/lib/python3.10/site-packages (from torch==2.4.0->xformers==0.0.27.post2) (1.13.3)\n",
      "Requirement already satisfied: networkx in /home/jupyter/.local/lib/python3.10/site-packages (from torch==2.4.0->xformers==0.0.27.post2) (3.3)\n",
      "Requirement already satisfied: jinja2 in /home/jupyter/.local/lib/python3.10/site-packages (from torch==2.4.0->xformers==0.0.27.post2) (3.1.4)\n",
      "Requirement already satisfied: fsspec in /home/jupyter/.local/lib/python3.10/site-packages (from torch==2.4.0->xformers==0.0.27.post2) (2024.6.1)\n",
      "Requirement already satisfied: nvidia-cuda-nvrtc-cu11==11.8.89 in /home/jupyter/.local/lib/python3.10/site-packages (from torch==2.4.0->xformers==0.0.27.post2) (11.8.89)\n",
      "Requirement already satisfied: nvidia-cuda-runtime-cu11==11.8.89 in /home/jupyter/.local/lib/python3.10/site-packages (from torch==2.4.0->xformers==0.0.27.post2) (11.8.89)\n",
      "Requirement already satisfied: nvidia-cuda-cupti-cu11==11.8.87 in /home/jupyter/.local/lib/python3.10/site-packages (from torch==2.4.0->xformers==0.0.27.post2) (11.8.87)\n",
      "Requirement already satisfied: nvidia-cudnn-cu11==9.1.0.70 in /home/jupyter/.local/lib/python3.10/site-packages (from torch==2.4.0->xformers==0.0.27.post2) (9.1.0.70)\n",
      "Requirement already satisfied: nvidia-cublas-cu11==11.11.3.6 in /home/jupyter/.local/lib/python3.10/site-packages (from torch==2.4.0->xformers==0.0.27.post2) (11.11.3.6)\n",
      "Requirement already satisfied: nvidia-cufft-cu11==10.9.0.58 in /home/jupyter/.local/lib/python3.10/site-packages (from torch==2.4.0->xformers==0.0.27.post2) (10.9.0.58)\n",
      "Requirement already satisfied: nvidia-curand-cu11==10.3.0.86 in /home/jupyter/.local/lib/python3.10/site-packages (from torch==2.4.0->xformers==0.0.27.post2) (10.3.0.86)\n",
      "Requirement already satisfied: nvidia-cusolver-cu11==11.4.1.48 in /home/jupyter/.local/lib/python3.10/site-packages (from torch==2.4.0->xformers==0.0.27.post2) (11.4.1.48)\n",
      "Requirement already satisfied: nvidia-cusparse-cu11==11.7.5.86 in /home/jupyter/.local/lib/python3.10/site-packages (from torch==2.4.0->xformers==0.0.27.post2) (11.7.5.86)\n",
      "Requirement already satisfied: nvidia-nccl-cu11==2.20.5 in /home/jupyter/.local/lib/python3.10/site-packages (from torch==2.4.0->xformers==0.0.27.post2) (2.20.5)\n",
      "Requirement already satisfied: nvidia-nvtx-cu11==11.8.86 in /home/jupyter/.local/lib/python3.10/site-packages (from torch==2.4.0->xformers==0.0.27.post2) (11.8.86)\n",
      "Requirement already satisfied: triton==3.0.0 in /home/jupyter/.local/lib/python3.10/site-packages (from torch==2.4.0->xformers==0.0.27.post2) (3.0.0)\n",
      "Requirement already satisfied: MarkupSafe>=2.0 in /home/jupyter/.local/lib/python3.10/site-packages (from jinja2->torch==2.4.0->xformers==0.0.27.post2) (2.1.5)\n",
      "Requirement already satisfied: mpmath<1.4,>=1.1.0 in /home/jupyter/.local/lib/python3.10/site-packages (from sympy->torch==2.4.0->xformers==0.0.27.post2) (1.3.0)\n",
      "Installing collected packages: xformers\n",
      "Successfully installed xformers-0.0.27.post2+cu118\n",
      "\n",
      "\u001b[1m[\u001b[0m\u001b[34;49mnotice\u001b[0m\u001b[1;39;49m]\u001b[0m\u001b[39;49m A new release of pip is available: \u001b[0m\u001b[31;49m23.0.1\u001b[0m\u001b[39;49m -> \u001b[0m\u001b[32;49m25.2\u001b[0m\n",
      "\u001b[1m[\u001b[0m\u001b[34;49mnotice\u001b[0m\u001b[1;39;49m]\u001b[0m\u001b[39;49m To update, run: \u001b[0m\u001b[32;49mpython3 -m pip install --upgrade pip\u001b[0m\n"
     ]
    }
   ],
   "source": [
    "%pip install xformers==0.0.27.post2 --index-url https://download.pytorch.org/whl/cu118"
   ]
  },
  {
   "cell_type": "code",
   "execution_count": 20,
   "id": "f89ec111-a509-4ec5-9c20-c7702e5d6fe2",
   "metadata": {
    "collapsed": true,
    "execution": {
     "iopub.execute_input": "2025-08-02T19:51:40.298788Z",
     "iopub.status.busy": "2025-08-02T19:51:40.297839Z",
     "iopub.status.idle": "2025-08-02T19:53:35.237709Z",
     "shell.execute_reply": "2025-08-02T19:53:35.236202Z",
     "shell.execute_reply.started": "2025-08-02T19:51:40.298739Z"
    },
    "jupyter": {
     "outputs_hidden": true
    },
    "tags": []
   },
   "outputs": [
    {
     "name": "stderr",
     "output_type": "stream",
     "text": [
      "Cloning into '/tmp/extensions/mip-splatting'...\n"
     ]
    },
    {
     "name": "stdout",
     "output_type": "stream",
     "text": [
      "Defaulting to user installation because normal site-packages is not writeable\n",
      "Processing /tmp/extensions/mip-splatting/submodules/diff-gaussian-rasterization\n",
      "  Preparing metadata (setup.py) ... \u001b[?25ldone\n",
      "\u001b[?25hBuilding wheels for collected packages: diff-gaussian-rasterization\n",
      "\u001b[33m  DEPRECATION: Building 'diff-gaussian-rasterization' using the legacy setup.py bdist_wheel mechanism, which will be removed in a future version. pip 25.3 will enforce this behaviour change. A possible replacement is to use the standardized build interface by setting the `--use-pep517` option, (possibly combined with `--no-build-isolation`), or adding a `pyproject.toml` file to the source tree of 'diff-gaussian-rasterization'. Discussion can be found at https://github.com/pypa/pip/issues/6334\u001b[0m\u001b[33m\n",
      "\u001b[0m  Building wheel for diff-gaussian-rasterization (setup.py) ... \u001b[?25ldone\n",
      "\u001b[?25h  Created wheel for diff-gaussian-rasterization: filename=diff_gaussian_rasterization-0.0.0-cp310-cp310-linux_x86_64.whl size=3182474 sha256=b0c0708212f34d817f2a77097bc7754c0d8e8f86d21693a7aababf853be4b3c1\n",
      "  Stored in directory: /tmp/xdg_cache/pip/wheels/0b/5c/ed/4b0b0112fbd08684210163398b8ba561e40364c5c1192af9c0\n",
      "Successfully built diff-gaussian-rasterization\n",
      "Installing collected packages: diff-gaussian-rasterization\n",
      "Successfully installed diff-gaussian-rasterization-0.0.0\n",
      "\n",
      "\u001b[1m[\u001b[0m\u001b[34;49mnotice\u001b[0m\u001b[1;39;49m]\u001b[0m\u001b[39;49m A new release of pip is available: \u001b[0m\u001b[31;49m23.0.1\u001b[0m\u001b[39;49m -> \u001b[0m\u001b[32;49m25.2\u001b[0m\n",
      "\u001b[1m[\u001b[0m\u001b[34;49mnotice\u001b[0m\u001b[1;39;49m]\u001b[0m\u001b[39;49m To update, run: \u001b[0m\u001b[32;49mpython3 -m pip install --upgrade pip\u001b[0m\n"
     ]
    }
   ],
   "source": [
    "!mkdir -p /tmp/extensions\n",
    "!git clone https://github.com/autonomousvision/mip-splatting.git /tmp/extensions/mip-splatting\n",
    "%pip install /tmp/extensions/mip-splatting/submodules/diff-gaussian-rasterization/\n",
    "!rm -r /tmp/extensions"
   ]
  },
  {
   "cell_type": "code",
   "execution_count": null,
   "id": "96692060-e929-4593-81f9-dad2d0c18e98",
   "metadata": {},
   "outputs": [],
   "source": []
  },
  {
   "cell_type": "markdown",
   "id": "53afa891-e3ed-4aa7-9a30-8b2beda6b1f1",
   "metadata": {
    "jp-MarkdownHeadingCollapsed": true,
    "tags": []
   },
   "source": [
    "### Подготовка к инференсу: настройка окружения и импорт необходимых модулей\n"
   ]
  },
  {
   "cell_type": "markdown",
   "id": "bd3c6a83-17da-45ea-b6c0-9950f34a8bf3",
   "metadata": {},
   "source": [
    "Перед запуском инференса (генерации 3D-контента) изображения или текста необходимо:\n",
    "- Установить переменные окружения для оптимизации работы внимания (`xformers`) и свёрток (`spconv`).\n",
    "- Импортировать ключевые компоненты пайплайнов TRELLIS для генерации 3D-объектов.\n",
    "- Подключить вспомогательные утилиты для рендеринга и постобработки.\n",
    "\n",
    "> **Зачем это нужно:**\n",
    "> - `xformers` ускоряет и снижает потребление памяти при вычислении механизмов внимания.\n",
    "> - `spconv` с алгоритмом `native` обеспечивает стабильность при работе с разреженными 3D-свёртками."
   ]
  },
  {
   "cell_type": "code",
   "execution_count": 2,
   "id": "8b215691-6127-453b-9fdc-7cd18f0423c4",
   "metadata": {
    "execution": {
     "iopub.execute_input": "2025-08-04T19:10:41.954837Z",
     "iopub.status.busy": "2025-08-04T19:10:41.953221Z",
     "iopub.status.idle": "2025-08-04T19:10:41.968563Z",
     "shell.execute_reply": "2025-08-04T19:10:41.967500Z",
     "shell.execute_reply.started": "2025-08-04T19:10:41.954773Z"
    },
    "tags": []
   },
   "outputs": [],
   "source": [
    "import os\n",
    "os.environ['ATTN_BACKEND'] = 'xformers' \n",
    "os.environ['SPCONV_ALGO'] = 'native' \n",
    "import imageio\n",
    "from PIL import Image"
   ]
  },
  {
   "cell_type": "code",
   "execution_count": null,
   "id": "5201a78d-948c-4d86-ab63-fdcd677556ea",
   "metadata": {
    "execution": {
     "iopub.execute_input": "2025-08-04T19:10:41.971164Z",
     "iopub.status.busy": "2025-08-04T19:10:41.969625Z",
     "iopub.status.idle": "2025-08-04T19:11:07.019241Z",
     "shell.execute_reply": "2025-08-04T19:11:07.018067Z",
     "shell.execute_reply.started": "2025-08-04T19:10:41.971097Z"
    },
    "tags": []
   },
   "outputs": [
    {
     "name": "stdout",
     "output_type": "stream",
     "text": [
      "[SPARSE] Backend: spconv, Attention: xformers\n"
     ]
    },
    {
     "name": "stderr",
     "output_type": "stream",
     "text": [
      "/home/jupyter/.local/lib/python3.10/site-packages/transformers/utils/hub.py:111: FutureWarning: Using `TRANSFORMERS_CACHE` is deprecated and will be removed in v5 of Transformers. Use `HF_HOME` instead.\n",
      "  warnings.warn(\n"
     ]
    },
    {
     "name": "stdout",
     "output_type": "stream",
     "text": [
      "Jupyter environment detected. Enabling Open3D WebVisualizer.\n",
      "[Open3D INFO] WebRTC GUI backend enabled.\n",
      "[Open3D INFO] WebRTCWindowSystem: HTTP handshake server disabled.\n"
     ]
    }
   ],
   "source": [
    "from TRELLIS.trellis.pipelines import TrellisImageTo3DPipeline, TrellisTextTo3DPipeline\n",
    "from TRELLIS.trellis.utils import render_utils, postprocessing_utils"
   ]
  },
  {
   "cell_type": "markdown",
   "id": "274703eb-00f6-4420-ac59-0d4b1336ff62",
   "metadata": {
    "jp-MarkdownHeadingCollapsed": true,
    "tags": []
   },
   "source": [
    "### Инференс: генерация 3D-модели из 2D-изображения\n"
   ]
  },
  {
   "cell_type": "markdown",
   "id": "a20fada8-6966-450b-b50e-4ac080b41502",
   "metadata": {},
   "source": [
    "Используем предобученный пайплайн `TrellisImageTo3DPipeline` для преобразования 2D-изображения в 3D-сцену, включающую:\n",
    "- Гауссовы сплэты (`Gaussians`),\n",
    "- Радиантное поле (`Radiance Field`),\n",
    "- Меш (полигональную сетку).\n",
    "\n",
    "Затем:\n",
    "1. Упрощаем меш для оптимизации.\n",
    "2. Объединяем гауссианы и меш в единый 3D-объект формата `.glb`.\n",
    "3. Экспортируем результат.\n",
    "\n",
    "> Блок помечен `%%time` — будет отображаться время выполнения."
   ]
  },
  {
   "cell_type": "code",
   "execution_count": 6,
   "id": "655a16dd-de74-489f-9f0f-bb7cce1111bf",
   "metadata": {
    "execution": {
     "iopub.execute_input": "2025-08-04T19:13:32.307083Z",
     "iopub.status.busy": "2025-08-04T19:13:32.305696Z",
     "iopub.status.idle": "2025-08-04T19:14:07.347575Z",
     "shell.execute_reply": "2025-08-04T19:14:07.346398Z",
     "shell.execute_reply.started": "2025-08-04T19:13:32.307018Z"
    },
    "tags": []
   },
   "outputs": [
    {
     "name": "stdout",
     "output_type": "stream",
     "text": [
      "Загрузка модели TrellisImageTo3DPipeline...\n"
     ]
    },
    {
     "name": "stderr",
     "output_type": "stream",
     "text": [
      "Using cache found in /tmp/xdg_cache/torch/hub/facebookresearch_dinov2_main\n"
     ]
    },
    {
     "name": "stdout",
     "output_type": "stream",
     "text": [
      "Модель загружена и перенесена на GPU.\n"
     ]
    }
   ],
   "source": [
    "# Загрузка предобученного пайплайна\n",
    "print(\"Загрузка модели TrellisImageTo3DPipeline...\")\n",
    "pipeline = TrellisImageTo3DPipeline.from_pretrained(\"microsoft/TRELLIS-image-large\")\n",
    "\n",
    "# Перемещение модели на GPU\n",
    "pipeline.cuda()\n",
    "\n",
    "print(\"Модель загружена и перенесена на GPU.\")"
   ]
  },
  {
   "cell_type": "code",
   "execution_count": 7,
   "id": "bd5fff90-4d5b-4fb8-866d-94591a211bf3",
   "metadata": {
    "execution": {
     "iopub.execute_input": "2025-08-04T19:14:07.350216Z",
     "iopub.status.busy": "2025-08-04T19:14:07.349446Z",
     "iopub.status.idle": "2025-08-04T19:14:48.136819Z",
     "shell.execute_reply": "2025-08-04T19:14:48.135427Z",
     "shell.execute_reply.started": "2025-08-04T19:14:07.350180Z"
    },
    "tags": []
   },
   "outputs": [
    {
     "name": "stdout",
     "output_type": "stream",
     "text": [
      "Загружено изображение: demo/example.png\n"
     ]
    },
    {
     "name": "stderr",
     "output_type": "stream",
     "text": [
      "Sampling: 100%|██████████| 25/25 [00:10<00:00,  2.28it/s]\n",
      "Sampling: 100%|██████████| 25/25 [00:12<00:00,  1.97it/s]\n"
     ]
    },
    {
     "name": "stdout",
     "output_type": "stream",
     "text": [
      "Инференс завершён. Получены 3D-репрезентации (гауссианы, меш, радиантное поле).\n",
      "CPU times: user 14.4 s, sys: 402 ms, total: 14.8 s\n",
      "Wall time: 40.7 s\n"
     ]
    }
   ],
   "source": [
    "%%time\n",
    "\n",
    "# Путь к тестовому изображению\n",
    "DEMO_IMAGES_DIR = \"demo\"  # Убедитесь, что путь корректен\n",
    "image_filename = \"example.png\"  # Укажите реальное имя файла\n",
    "image_path = os.path.join(DEMO_IMAGES_DIR, image_filename)\n",
    "\n",
    "# Загрузка изображения\n",
    "image = Image.open(image_path)\n",
    "print(f\"Загружено изображение: {image_path}\")\n",
    "\n",
    "# Запуск генерации 3D-объекта\n",
    "outputs = pipeline.run(\n",
    "    image,\n",
    "    seed=1,  # Фиксированный seed для воспроизводимости\n",
    ")\n",
    "\n",
    "print(\"Инференс завершён. Получены 3D-репрезентации (гауссианы, меш, радиантное поле).\")"
   ]
  },
  {
   "cell_type": "code",
   "execution_count": 8,
   "id": "6afe02fc-b079-4557-9010-84a0c7c9151c",
   "metadata": {
    "execution": {
     "iopub.execute_input": "2025-08-04T19:14:48.138844Z",
     "iopub.status.busy": "2025-08-04T19:14:48.138087Z",
     "iopub.status.idle": "2025-08-04T19:16:18.362575Z",
     "shell.execute_reply": "2025-08-04T19:16:18.361323Z",
     "shell.execute_reply.started": "2025-08-04T19:14:48.138793Z"
    },
    "tags": []
   },
   "outputs": [
    {
     "name": "stdout",
     "output_type": "stream",
     "text": [
      "Исходное количество полигонов: 302552\n",
      "Коэффициент упрощения: 0.993\n",
      "Before postprocess: 151266 vertices, 302552 faces\n"
     ]
    },
    {
     "name": "stderr",
     "output_type": "stream",
     "text": [
      "Decimating Mesh: 100%|██████████[00:02<00:00]\n"
     ]
    },
    {
     "name": "stdout",
     "output_type": "stream",
     "text": [
      "After decimate: 991 vertices, 1999 faces\n"
     ]
    },
    {
     "name": "stderr",
     "output_type": "stream",
     "text": [
      "/home/jupyter/.local/lib/python3.10/site-packages/torch/utils/cpp_extension.py:1965: UserWarning: TORCH_CUDA_ARCH_LIST is not set, all archs for visible cards are included for compilation. \n",
      "If this is not desired, please set os.environ['TORCH_CUDA_ARCH_LIST'].\n",
      "  warnings.warn(\n",
      "Rasterizing: 100%|██████████| 1000/1000 [00:01<00:00, 742.52it/s]\n"
     ]
    },
    {
     "name": "stdout",
     "output_type": "stream",
     "text": [
      "Found 160 invisible faces\n",
      "Dual graph: 2991 edges\n",
      "Mincut solved, start checking the cut\n",
      "Removed 983 faces by mincut\n",
      "INFO- Loaded 513 vertices and 1016 faces.\n",
      "\n",
      "100% done \n"
     ]
    },
    {
     "name": "stderr",
     "output_type": "stream",
     "text": [
      "WARNING- Some cuts were necessary to cope with non manifold configuration.\n"
     ]
    },
    {
     "name": "stdout",
     "output_type": "stream",
     "text": [
      "After remove invisible faces: 523 vertices, 1045 faces\n"
     ]
    },
    {
     "name": "stderr",
     "output_type": "stream",
     "text": [
      "Rendering: 100it [00:05, 19.26it/s]\n",
      "Texture baking (opt): UV: 100%|██████████| 100/100 [00:00<00:00, 1074.78it/s]\n",
      "Texture baking (opt): optimizing: 100%|██████████| 2500/2500 [00:14<00:00, 171.05it/s, loss=0.0178]\n"
     ]
    },
    {
     "name": "stdout",
     "output_type": "stream",
     "text": [
      "Экспорт завершён: outputs/example_simplified.glb\n",
      "CPU times: user 30.3 s, sys: 3.33 s, total: 33.7 s\n",
      "Wall time: 1min 30s\n"
     ]
    }
   ],
   "source": [
    "%%time\n",
    "\n",
    "# Оценка степени упрощения меша\n",
    "# Упрощаем меш до ~2000 полигонов\n",
    "n_faces = outputs[\"mesh\"][0].faces.size()[0]\n",
    "simplify_ratio = 1 - (2000 / n_faces)\n",
    "simplify_ratio = max(0.0, min(1.0, simplify_ratio))  # Ограничиваем [0, 1]\n",
    "\n",
    "print(f\"Исходное количество полигонов: {n_faces}\")\n",
    "print(f\"Коэффициент упрощения: {simplify_ratio:.3f}\")\n",
    "\n",
    "# Визуализация (опционально, закомментировано)\n",
    "# video = render_utils.render_video(outputs['gaussian'][0])['color']\n",
    "# imageio.mimsave(f\"outputs/{image_name}_gs.mp4\", video, fps=30)\n",
    "\n",
    "# Генерация GLB: объединение гауссовых сплэтов и меша\n",
    "image_name = os.path.splitext(os.path.basename(image_filename))[0]  # Без расширения\n",
    "\n",
    "glb = postprocessing_utils.to_glb(\n",
    "    outputs['gaussian'][0],\n",
    "    outputs['mesh'][0],\n",
    "    simplify=simplify_ratio,     # Доля полигонов, которые нужно удалить\n",
    "    texture_size=1024,           # Разрешение текстуры\n",
    "    fill_holes=True              # Заполняем дыры в меше\n",
    ")\n",
    "\n",
    "# Сохранение результата\n",
    "output_path = f\"outputs/{image_name}_simplified.glb\"\n",
    "os.makedirs(\"outputs\", exist_ok=True)\n",
    "glb.export(output_path)\n",
    "\n",
    "print(f\"Экспорт завершён: {output_path}\")"
   ]
  },
  {
   "cell_type": "markdown",
   "id": "57d67c24-088f-4b95-b07b-faf53e75be39",
   "metadata": {
    "jp-MarkdownHeadingCollapsed": true,
    "tags": []
   },
   "source": [
    "### Инференс: генерация 3D-модели из текстового описания\n"
   ]
  },
  {
   "cell_type": "markdown",
   "id": "4f03dd87-bbb7-44ae-aa9a-6bedf37e95af",
   "metadata": {},
   "source": [
    "Используем предобученные пайплайны `TrellisTextTo3DPipeline` для генерации 3D-объектов по текстовому запросу.  \n",
    "Загружены две версии модели:\n",
    "- `TRELLIS-text-base` — базовая версия, быстрее, меньше потребляет памяти.\n",
    "- `TRELLIS-text-xlarge` — расширенная версия, более детализированная, но требует больше ресурсов.\n",
    "\n",
    "В этом примере используется `base` для демонстрации. Результат включает:\n",
    "- Гауссовы сплэты,\n",
    "- Радиантное поле,\n",
    "- Полигональный меш.\n",
    "\n",
    "Затем объединяем компоненты в единый `.glb` файл."
   ]
  },
  {
   "cell_type": "code",
   "execution_count": 19,
   "id": "fb015bce-9508-4b07-9de2-0cf9907dae17",
   "metadata": {
    "execution": {
     "iopub.execute_input": "2025-08-04T18:47:29.533217Z",
     "iopub.status.busy": "2025-08-04T18:47:29.531754Z",
     "iopub.status.idle": "2025-08-04T18:49:17.145656Z",
     "shell.execute_reply": "2025-08-04T18:49:17.144457Z",
     "shell.execute_reply.started": "2025-08-04T18:47:29.533156Z"
    },
    "tags": []
   },
   "outputs": [
    {
     "name": "stdout",
     "output_type": "stream",
     "text": [
      "Загрузка модели: microsoft/TRELLIS-text-base\n",
      "Модель 'base' загружена на GPU.\n"
     ]
    }
   ],
   "source": [
    "# Загрузка базовой модели для генерации 3D по тексту\n",
    "print(\"Загрузка модели: microsoft/TRELLIS-text-base\")\n",
    "text_pipeline = TrellisTextTo3DPipeline.from_pretrained(\"microsoft/TRELLIS-text-base\")\n",
    "text_pipeline.cuda()  # Перенос на GPU\n",
    "print(\"Модель 'base' загружена на GPU.\")"
   ]
  },
  {
   "cell_type": "code",
   "execution_count": 12,
   "id": "2460557c-6bca-462a-b5f7-2f102f82c911",
   "metadata": {
    "collapsed": true,
    "execution": {
     "iopub.execute_input": "2025-08-04T17:36:12.798446Z",
     "iopub.status.busy": "2025-08-04T17:36:12.797365Z",
     "iopub.status.idle": "2025-08-04T17:36:23.150807Z",
     "shell.execute_reply": "2025-08-04T17:36:23.148426Z",
     "shell.execute_reply.started": "2025-08-04T17:36:12.798398Z"
    },
    "jupyter": {
     "outputs_hidden": true
    },
    "tags": []
   },
   "outputs": [
    {
     "ename": "LocalEntryNotFoundError",
     "evalue": "An error happened while trying to locate the file on the Hub and we cannot find the requested files in the local cache. Please check your connection and try again or make sure your Internet connection is on.",
     "output_type": "error",
     "traceback": [
      "\u001b[0;31m---------------------------------------------------------------------------\u001b[0m",
      "\u001b[0;31mTimeoutError\u001b[0m                              Traceback (most recent call last)",
      "\u001b[0;32m/kernel/fallback/lib/python3.10/site-packages/urllib3/connectionpool.py\u001b[0m in \u001b[0;36m_make_request\u001b[0;34m(self, conn, method, url, timeout, chunked, **httplib_request_kw)\u001b[0m\n\u001b[1;32m    425\u001b[0m                     \u001b[0;31m# Otherwise it looks like a bug in the code.\u001b[0m\u001b[0;34m\u001b[0m\u001b[0;34m\u001b[0m\u001b[0m\n\u001b[0;32m--> 426\u001b[0;31m                     \u001b[0msix\u001b[0m\u001b[0;34m.\u001b[0m\u001b[0mraise_from\u001b[0m\u001b[0;34m(\u001b[0m\u001b[0me\u001b[0m\u001b[0;34m,\u001b[0m \u001b[0;32mNone\u001b[0m\u001b[0;34m)\u001b[0m\u001b[0;34m\u001b[0m\u001b[0;34m\u001b[0m\u001b[0m\n\u001b[0m\u001b[1;32m    427\u001b[0m         \u001b[0;32mexcept\u001b[0m \u001b[0;34m(\u001b[0m\u001b[0mSocketTimeout\u001b[0m\u001b[0;34m,\u001b[0m \u001b[0mBaseSSLError\u001b[0m\u001b[0;34m,\u001b[0m \u001b[0mSocketError\u001b[0m\u001b[0;34m)\u001b[0m \u001b[0;32mas\u001b[0m \u001b[0me\u001b[0m\u001b[0;34m:\u001b[0m\u001b[0;34m\u001b[0m\u001b[0;34m\u001b[0m\u001b[0m\n",
      "\u001b[0;32m/kernel/fallback/lib/python3.10/site-packages/urllib3/packages/six.py\u001b[0m in \u001b[0;36mraise_from\u001b[0;34m(value, from_value)\u001b[0m\n",
      "\u001b[0;32m/kernel/fallback/lib/python3.10/site-packages/urllib3/connectionpool.py\u001b[0m in \u001b[0;36m_make_request\u001b[0;34m(self, conn, method, url, timeout, chunked, **httplib_request_kw)\u001b[0m\n\u001b[1;32m    420\u001b[0m                 \u001b[0;32mtry\u001b[0m\u001b[0;34m:\u001b[0m\u001b[0;34m\u001b[0m\u001b[0;34m\u001b[0m\u001b[0m\n\u001b[0;32m--> 421\u001b[0;31m                     \u001b[0mhttplib_response\u001b[0m \u001b[0;34m=\u001b[0m \u001b[0mconn\u001b[0m\u001b[0;34m.\u001b[0m\u001b[0mgetresponse\u001b[0m\u001b[0;34m(\u001b[0m\u001b[0;34m)\u001b[0m\u001b[0;34m\u001b[0m\u001b[0;34m\u001b[0m\u001b[0m\n\u001b[0m\u001b[1;32m    422\u001b[0m                 \u001b[0;32mexcept\u001b[0m \u001b[0mBaseException\u001b[0m \u001b[0;32mas\u001b[0m \u001b[0me\u001b[0m\u001b[0;34m:\u001b[0m\u001b[0;34m\u001b[0m\u001b[0;34m\u001b[0m\u001b[0m\n",
      "\u001b[0;32m/usr/lib/python3.10/http/client.py\u001b[0m in \u001b[0;36mgetresponse\u001b[0;34m(self)\u001b[0m\n\u001b[1;32m   1374\u001b[0m             \u001b[0;32mtry\u001b[0m\u001b[0;34m:\u001b[0m\u001b[0;34m\u001b[0m\u001b[0;34m\u001b[0m\u001b[0m\n\u001b[0;32m-> 1375\u001b[0;31m                 \u001b[0mresponse\u001b[0m\u001b[0;34m.\u001b[0m\u001b[0mbegin\u001b[0m\u001b[0;34m(\u001b[0m\u001b[0;34m)\u001b[0m\u001b[0;34m\u001b[0m\u001b[0;34m\u001b[0m\u001b[0m\n\u001b[0m\u001b[1;32m   1376\u001b[0m             \u001b[0;32mexcept\u001b[0m \u001b[0mConnectionError\u001b[0m\u001b[0;34m:\u001b[0m\u001b[0;34m\u001b[0m\u001b[0;34m\u001b[0m\u001b[0m\n",
      "\u001b[0;32m/usr/lib/python3.10/http/client.py\u001b[0m in \u001b[0;36mbegin\u001b[0;34m(self)\u001b[0m\n\u001b[1;32m    317\u001b[0m         \u001b[0;32mwhile\u001b[0m \u001b[0;32mTrue\u001b[0m\u001b[0;34m:\u001b[0m\u001b[0;34m\u001b[0m\u001b[0;34m\u001b[0m\u001b[0m\n\u001b[0;32m--> 318\u001b[0;31m             \u001b[0mversion\u001b[0m\u001b[0;34m,\u001b[0m \u001b[0mstatus\u001b[0m\u001b[0;34m,\u001b[0m \u001b[0mreason\u001b[0m \u001b[0;34m=\u001b[0m \u001b[0mself\u001b[0m\u001b[0;34m.\u001b[0m\u001b[0m_read_status\u001b[0m\u001b[0;34m(\u001b[0m\u001b[0;34m)\u001b[0m\u001b[0;34m\u001b[0m\u001b[0;34m\u001b[0m\u001b[0m\n\u001b[0m\u001b[1;32m    319\u001b[0m             \u001b[0;32mif\u001b[0m \u001b[0mstatus\u001b[0m \u001b[0;34m!=\u001b[0m \u001b[0mCONTINUE\u001b[0m\u001b[0;34m:\u001b[0m\u001b[0;34m\u001b[0m\u001b[0;34m\u001b[0m\u001b[0m\n",
      "\u001b[0;32m/usr/lib/python3.10/http/client.py\u001b[0m in \u001b[0;36m_read_status\u001b[0;34m(self)\u001b[0m\n\u001b[1;32m    278\u001b[0m     \u001b[0;32mdef\u001b[0m \u001b[0m_read_status\u001b[0m\u001b[0;34m(\u001b[0m\u001b[0mself\u001b[0m\u001b[0;34m)\u001b[0m\u001b[0;34m:\u001b[0m\u001b[0;34m\u001b[0m\u001b[0;34m\u001b[0m\u001b[0m\n\u001b[0;32m--> 279\u001b[0;31m         \u001b[0mline\u001b[0m \u001b[0;34m=\u001b[0m \u001b[0mstr\u001b[0m\u001b[0;34m(\u001b[0m\u001b[0mself\u001b[0m\u001b[0;34m.\u001b[0m\u001b[0mfp\u001b[0m\u001b[0;34m.\u001b[0m\u001b[0mreadline\u001b[0m\u001b[0;34m(\u001b[0m\u001b[0m_MAXLINE\u001b[0m \u001b[0;34m+\u001b[0m \u001b[0;36m1\u001b[0m\u001b[0;34m)\u001b[0m\u001b[0;34m,\u001b[0m \u001b[0;34m\"iso-8859-1\"\u001b[0m\u001b[0;34m)\u001b[0m\u001b[0;34m\u001b[0m\u001b[0;34m\u001b[0m\u001b[0m\n\u001b[0m\u001b[1;32m    280\u001b[0m         \u001b[0;32mif\u001b[0m \u001b[0mlen\u001b[0m\u001b[0;34m(\u001b[0m\u001b[0mline\u001b[0m\u001b[0;34m)\u001b[0m \u001b[0;34m>\u001b[0m \u001b[0m_MAXLINE\u001b[0m\u001b[0;34m:\u001b[0m\u001b[0;34m\u001b[0m\u001b[0;34m\u001b[0m\u001b[0m\n",
      "\u001b[0;32m/usr/lib/python3.10/socket.py\u001b[0m in \u001b[0;36mreadinto\u001b[0;34m(self, b)\u001b[0m\n\u001b[1;32m    704\u001b[0m             \u001b[0;32mtry\u001b[0m\u001b[0;34m:\u001b[0m\u001b[0;34m\u001b[0m\u001b[0;34m\u001b[0m\u001b[0m\n\u001b[0;32m--> 705\u001b[0;31m                 \u001b[0;32mreturn\u001b[0m \u001b[0mself\u001b[0m\u001b[0;34m.\u001b[0m\u001b[0m_sock\u001b[0m\u001b[0;34m.\u001b[0m\u001b[0mrecv_into\u001b[0m\u001b[0;34m(\u001b[0m\u001b[0mb\u001b[0m\u001b[0;34m)\u001b[0m\u001b[0;34m\u001b[0m\u001b[0;34m\u001b[0m\u001b[0m\n\u001b[0m\u001b[1;32m    706\u001b[0m             \u001b[0;32mexcept\u001b[0m \u001b[0mtimeout\u001b[0m\u001b[0;34m:\u001b[0m\u001b[0;34m\u001b[0m\u001b[0;34m\u001b[0m\u001b[0m\n",
      "\u001b[0;32m/usr/lib/python3.10/ssl.py\u001b[0m in \u001b[0;36mrecv_into\u001b[0;34m(self, buffer, nbytes, flags)\u001b[0m\n\u001b[1;32m   1302\u001b[0m                   self.__class__)\n\u001b[0;32m-> 1303\u001b[0;31m             \u001b[0;32mreturn\u001b[0m \u001b[0mself\u001b[0m\u001b[0;34m.\u001b[0m\u001b[0mread\u001b[0m\u001b[0;34m(\u001b[0m\u001b[0mnbytes\u001b[0m\u001b[0;34m,\u001b[0m \u001b[0mbuffer\u001b[0m\u001b[0;34m)\u001b[0m\u001b[0;34m\u001b[0m\u001b[0;34m\u001b[0m\u001b[0m\n\u001b[0m\u001b[1;32m   1304\u001b[0m         \u001b[0;32melse\u001b[0m\u001b[0;34m:\u001b[0m\u001b[0;34m\u001b[0m\u001b[0;34m\u001b[0m\u001b[0m\n",
      "\u001b[0;32m/usr/lib/python3.10/ssl.py\u001b[0m in \u001b[0;36mread\u001b[0;34m(self, len, buffer)\u001b[0m\n\u001b[1;32m   1158\u001b[0m             \u001b[0;32mif\u001b[0m \u001b[0mbuffer\u001b[0m \u001b[0;32mis\u001b[0m \u001b[0;32mnot\u001b[0m \u001b[0;32mNone\u001b[0m\u001b[0;34m:\u001b[0m\u001b[0;34m\u001b[0m\u001b[0;34m\u001b[0m\u001b[0m\n\u001b[0;32m-> 1159\u001b[0;31m                 \u001b[0;32mreturn\u001b[0m \u001b[0mself\u001b[0m\u001b[0;34m.\u001b[0m\u001b[0m_sslobj\u001b[0m\u001b[0;34m.\u001b[0m\u001b[0mread\u001b[0m\u001b[0;34m(\u001b[0m\u001b[0mlen\u001b[0m\u001b[0;34m,\u001b[0m \u001b[0mbuffer\u001b[0m\u001b[0;34m)\u001b[0m\u001b[0;34m\u001b[0m\u001b[0;34m\u001b[0m\u001b[0m\n\u001b[0m\u001b[1;32m   1160\u001b[0m             \u001b[0;32melse\u001b[0m\u001b[0;34m:\u001b[0m\u001b[0;34m\u001b[0m\u001b[0;34m\u001b[0m\u001b[0m\n",
      "\u001b[0;31mTimeoutError\u001b[0m: The read operation timed out",
      "\nDuring handling of the above exception, another exception occurred:\n",
      "\u001b[0;31mReadTimeoutError\u001b[0m                          Traceback (most recent call last)",
      "\u001b[0;32m/kernel/fallback/lib/python3.10/site-packages/requests/adapters.py\u001b[0m in \u001b[0;36msend\u001b[0;34m(self, request, stream, timeout, verify, cert, proxies)\u001b[0m\n\u001b[1;32m    485\u001b[0m         \u001b[0;32mtry\u001b[0m\u001b[0;34m:\u001b[0m\u001b[0;34m\u001b[0m\u001b[0;34m\u001b[0m\u001b[0m\n\u001b[0;32m--> 486\u001b[0;31m             resp = conn.urlopen(\n\u001b[0m\u001b[1;32m    487\u001b[0m                 \u001b[0mmethod\u001b[0m\u001b[0;34m=\u001b[0m\u001b[0mrequest\u001b[0m\u001b[0;34m.\u001b[0m\u001b[0mmethod\u001b[0m\u001b[0;34m,\u001b[0m\u001b[0;34m\u001b[0m\u001b[0;34m\u001b[0m\u001b[0m\n",
      "\u001b[0;32m/kernel/fallback/lib/python3.10/site-packages/urllib3/connectionpool.py\u001b[0m in \u001b[0;36murlopen\u001b[0;34m(self, method, url, body, headers, retries, redirect, assert_same_host, timeout, pool_timeout, release_conn, chunked, body_pos, **response_kw)\u001b[0m\n\u001b[1;32m    725\u001b[0m \u001b[0;34m\u001b[0m\u001b[0m\n\u001b[0;32m--> 726\u001b[0;31m             retries = retries.increment(\n\u001b[0m\u001b[1;32m    727\u001b[0m                 \u001b[0mmethod\u001b[0m\u001b[0;34m,\u001b[0m \u001b[0murl\u001b[0m\u001b[0;34m,\u001b[0m \u001b[0merror\u001b[0m\u001b[0;34m=\u001b[0m\u001b[0me\u001b[0m\u001b[0;34m,\u001b[0m \u001b[0m_pool\u001b[0m\u001b[0;34m=\u001b[0m\u001b[0mself\u001b[0m\u001b[0;34m,\u001b[0m \u001b[0m_stacktrace\u001b[0m\u001b[0;34m=\u001b[0m\u001b[0msys\u001b[0m\u001b[0;34m.\u001b[0m\u001b[0mexc_info\u001b[0m\u001b[0;34m(\u001b[0m\u001b[0;34m)\u001b[0m\u001b[0;34m[\u001b[0m\u001b[0;36m2\u001b[0m\u001b[0;34m]\u001b[0m\u001b[0;34m\u001b[0m\u001b[0;34m\u001b[0m\u001b[0m\n",
      "\u001b[0;32m/kernel/fallback/lib/python3.10/site-packages/urllib3/util/retry.py\u001b[0m in \u001b[0;36mincrement\u001b[0;34m(self, method, url, response, error, _pool, _stacktrace)\u001b[0m\n\u001b[1;32m    409\u001b[0m             \u001b[0;32mif\u001b[0m \u001b[0mread\u001b[0m \u001b[0;32mis\u001b[0m \u001b[0;32mFalse\u001b[0m \u001b[0;32mor\u001b[0m \u001b[0;32mnot\u001b[0m \u001b[0mself\u001b[0m\u001b[0;34m.\u001b[0m\u001b[0m_is_method_retryable\u001b[0m\u001b[0;34m(\u001b[0m\u001b[0mmethod\u001b[0m\u001b[0;34m)\u001b[0m\u001b[0;34m:\u001b[0m\u001b[0;34m\u001b[0m\u001b[0;34m\u001b[0m\u001b[0m\n\u001b[0;32m--> 410\u001b[0;31m                 \u001b[0;32mraise\u001b[0m \u001b[0msix\u001b[0m\u001b[0;34m.\u001b[0m\u001b[0mreraise\u001b[0m\u001b[0;34m(\u001b[0m\u001b[0mtype\u001b[0m\u001b[0;34m(\u001b[0m\u001b[0merror\u001b[0m\u001b[0;34m)\u001b[0m\u001b[0;34m,\u001b[0m \u001b[0merror\u001b[0m\u001b[0;34m,\u001b[0m \u001b[0m_stacktrace\u001b[0m\u001b[0;34m)\u001b[0m\u001b[0;34m\u001b[0m\u001b[0;34m\u001b[0m\u001b[0m\n\u001b[0m\u001b[1;32m    411\u001b[0m             \u001b[0;32melif\u001b[0m \u001b[0mread\u001b[0m \u001b[0;32mis\u001b[0m \u001b[0;32mnot\u001b[0m \u001b[0;32mNone\u001b[0m\u001b[0;34m:\u001b[0m\u001b[0;34m\u001b[0m\u001b[0;34m\u001b[0m\u001b[0m\n",
      "\u001b[0;32m/kernel/fallback/lib/python3.10/site-packages/urllib3/packages/six.py\u001b[0m in \u001b[0;36mreraise\u001b[0;34m(tp, value, tb)\u001b[0m\n\u001b[1;32m    734\u001b[0m                 \u001b[0;32mraise\u001b[0m \u001b[0mvalue\u001b[0m\u001b[0;34m.\u001b[0m\u001b[0mwith_traceback\u001b[0m\u001b[0;34m(\u001b[0m\u001b[0mtb\u001b[0m\u001b[0;34m)\u001b[0m\u001b[0;34m\u001b[0m\u001b[0;34m\u001b[0m\u001b[0m\n\u001b[0;32m--> 735\u001b[0;31m             \u001b[0;32mraise\u001b[0m \u001b[0mvalue\u001b[0m\u001b[0;34m\u001b[0m\u001b[0;34m\u001b[0m\u001b[0m\n\u001b[0m\u001b[1;32m    736\u001b[0m         \u001b[0;32mfinally\u001b[0m\u001b[0;34m:\u001b[0m\u001b[0;34m\u001b[0m\u001b[0;34m\u001b[0m\u001b[0m\n",
      "\u001b[0;32m/kernel/fallback/lib/python3.10/site-packages/urllib3/connectionpool.py\u001b[0m in \u001b[0;36murlopen\u001b[0;34m(self, method, url, body, headers, retries, redirect, assert_same_host, timeout, pool_timeout, release_conn, chunked, body_pos, **response_kw)\u001b[0m\n\u001b[1;32m    669\u001b[0m             \u001b[0;31m# Make the request on the httplib connection object.\u001b[0m\u001b[0;34m\u001b[0m\u001b[0;34m\u001b[0m\u001b[0m\n\u001b[0;32m--> 670\u001b[0;31m             httplib_response = self._make_request(\n\u001b[0m\u001b[1;32m    671\u001b[0m                 \u001b[0mconn\u001b[0m\u001b[0;34m,\u001b[0m\u001b[0;34m\u001b[0m\u001b[0;34m\u001b[0m\u001b[0m\n",
      "\u001b[0;32m/kernel/fallback/lib/python3.10/site-packages/urllib3/connectionpool.py\u001b[0m in \u001b[0;36m_make_request\u001b[0;34m(self, conn, method, url, timeout, chunked, **httplib_request_kw)\u001b[0m\n\u001b[1;32m    427\u001b[0m         \u001b[0;32mexcept\u001b[0m \u001b[0;34m(\u001b[0m\u001b[0mSocketTimeout\u001b[0m\u001b[0;34m,\u001b[0m \u001b[0mBaseSSLError\u001b[0m\u001b[0;34m,\u001b[0m \u001b[0mSocketError\u001b[0m\u001b[0;34m)\u001b[0m \u001b[0;32mas\u001b[0m \u001b[0me\u001b[0m\u001b[0;34m:\u001b[0m\u001b[0;34m\u001b[0m\u001b[0;34m\u001b[0m\u001b[0m\n\u001b[0;32m--> 428\u001b[0;31m             \u001b[0mself\u001b[0m\u001b[0;34m.\u001b[0m\u001b[0m_raise_timeout\u001b[0m\u001b[0;34m(\u001b[0m\u001b[0merr\u001b[0m\u001b[0;34m=\u001b[0m\u001b[0me\u001b[0m\u001b[0;34m,\u001b[0m \u001b[0murl\u001b[0m\u001b[0;34m=\u001b[0m\u001b[0murl\u001b[0m\u001b[0;34m,\u001b[0m \u001b[0mtimeout_value\u001b[0m\u001b[0;34m=\u001b[0m\u001b[0mread_timeout\u001b[0m\u001b[0;34m)\u001b[0m\u001b[0;34m\u001b[0m\u001b[0;34m\u001b[0m\u001b[0m\n\u001b[0m\u001b[1;32m    429\u001b[0m             \u001b[0;32mraise\u001b[0m\u001b[0;34m\u001b[0m\u001b[0;34m\u001b[0m\u001b[0m\n",
      "\u001b[0;32m/kernel/fallback/lib/python3.10/site-packages/urllib3/connectionpool.py\u001b[0m in \u001b[0;36m_raise_timeout\u001b[0;34m(self, err, url, timeout_value)\u001b[0m\n\u001b[1;32m    334\u001b[0m         \u001b[0;32mif\u001b[0m \u001b[0misinstance\u001b[0m\u001b[0;34m(\u001b[0m\u001b[0merr\u001b[0m\u001b[0;34m,\u001b[0m \u001b[0mSocketTimeout\u001b[0m\u001b[0;34m)\u001b[0m\u001b[0;34m:\u001b[0m\u001b[0;34m\u001b[0m\u001b[0;34m\u001b[0m\u001b[0m\n\u001b[0;32m--> 335\u001b[0;31m             raise ReadTimeoutError(\n\u001b[0m\u001b[1;32m    336\u001b[0m                 \u001b[0mself\u001b[0m\u001b[0;34m,\u001b[0m \u001b[0murl\u001b[0m\u001b[0;34m,\u001b[0m \u001b[0;34m\"Read timed out. (read timeout=%s)\"\u001b[0m \u001b[0;34m%\u001b[0m \u001b[0mtimeout_value\u001b[0m\u001b[0;34m\u001b[0m\u001b[0;34m\u001b[0m\u001b[0m\n",
      "\u001b[0;31mReadTimeoutError\u001b[0m: HTTPSConnectionPool(host='huggingface.co', port=443): Read timed out. (read timeout=10)",
      "\nDuring handling of the above exception, another exception occurred:\n",
      "\u001b[0;31mReadTimeout\u001b[0m                               Traceback (most recent call last)",
      "\u001b[0;32m~/.local/lib/python3.10/site-packages/huggingface_hub/file_download.py\u001b[0m in \u001b[0;36m_get_metadata_or_catch_error\u001b[0;34m(repo_id, filename, repo_type, revision, endpoint, proxies, etag_timeout, headers, token, local_files_only, relative_filename, storage_folder)\u001b[0m\n\u001b[1;32m   1545\u001b[0m             \u001b[0;32mtry\u001b[0m\u001b[0;34m:\u001b[0m\u001b[0;34m\u001b[0m\u001b[0;34m\u001b[0m\u001b[0m\n\u001b[0;32m-> 1546\u001b[0;31m                 metadata = get_hf_file_metadata(\n\u001b[0m\u001b[1;32m   1547\u001b[0m                     \u001b[0murl\u001b[0m\u001b[0;34m=\u001b[0m\u001b[0murl\u001b[0m\u001b[0;34m,\u001b[0m \u001b[0mproxies\u001b[0m\u001b[0;34m=\u001b[0m\u001b[0mproxies\u001b[0m\u001b[0;34m,\u001b[0m \u001b[0mtimeout\u001b[0m\u001b[0;34m=\u001b[0m\u001b[0metag_timeout\u001b[0m\u001b[0;34m,\u001b[0m \u001b[0mheaders\u001b[0m\u001b[0;34m=\u001b[0m\u001b[0mheaders\u001b[0m\u001b[0;34m,\u001b[0m \u001b[0mtoken\u001b[0m\u001b[0;34m=\u001b[0m\u001b[0mtoken\u001b[0m\u001b[0;34m,\u001b[0m \u001b[0mendpoint\u001b[0m\u001b[0;34m=\u001b[0m\u001b[0mendpoint\u001b[0m\u001b[0;34m\u001b[0m\u001b[0;34m\u001b[0m\u001b[0m\n",
      "\u001b[0;32m~/.local/lib/python3.10/site-packages/huggingface_hub/utils/_validators.py\u001b[0m in \u001b[0;36m_inner_fn\u001b[0;34m(*args, **kwargs)\u001b[0m\n\u001b[1;32m    113\u001b[0m \u001b[0;34m\u001b[0m\u001b[0m\n\u001b[0;32m--> 114\u001b[0;31m         \u001b[0;32mreturn\u001b[0m \u001b[0mfn\u001b[0m\u001b[0;34m(\u001b[0m\u001b[0;34m*\u001b[0m\u001b[0margs\u001b[0m\u001b[0;34m,\u001b[0m \u001b[0;34m**\u001b[0m\u001b[0mkwargs\u001b[0m\u001b[0;34m)\u001b[0m\u001b[0;34m\u001b[0m\u001b[0;34m\u001b[0m\u001b[0m\n\u001b[0m\u001b[1;32m    115\u001b[0m \u001b[0;34m\u001b[0m\u001b[0m\n",
      "\u001b[0;32m~/.local/lib/python3.10/site-packages/huggingface_hub/file_download.py\u001b[0m in \u001b[0;36mget_hf_file_metadata\u001b[0;34m(url, token, proxies, timeout, library_name, library_version, user_agent, headers, endpoint)\u001b[0m\n\u001b[1;32m   1462\u001b[0m     \u001b[0;31m# Retrieve metadata\u001b[0m\u001b[0;34m\u001b[0m\u001b[0;34m\u001b[0m\u001b[0m\n\u001b[0;32m-> 1463\u001b[0;31m     r = _request_wrapper(\n\u001b[0m\u001b[1;32m   1464\u001b[0m         \u001b[0mmethod\u001b[0m\u001b[0;34m=\u001b[0m\u001b[0;34m\"HEAD\"\u001b[0m\u001b[0;34m,\u001b[0m\u001b[0;34m\u001b[0m\u001b[0;34m\u001b[0m\u001b[0m\n",
      "\u001b[0;32m~/.local/lib/python3.10/site-packages/huggingface_hub/file_download.py\u001b[0m in \u001b[0;36m_request_wrapper\u001b[0;34m(method, url, follow_relative_redirects, **params)\u001b[0m\n\u001b[1;32m    285\u001b[0m     \u001b[0;32mif\u001b[0m \u001b[0mfollow_relative_redirects\u001b[0m\u001b[0;34m:\u001b[0m\u001b[0;34m\u001b[0m\u001b[0;34m\u001b[0m\u001b[0m\n\u001b[0;32m--> 286\u001b[0;31m         response = _request_wrapper(\n\u001b[0m\u001b[1;32m    287\u001b[0m             \u001b[0mmethod\u001b[0m\u001b[0;34m=\u001b[0m\u001b[0mmethod\u001b[0m\u001b[0;34m,\u001b[0m\u001b[0;34m\u001b[0m\u001b[0;34m\u001b[0m\u001b[0m\n",
      "\u001b[0;32m~/.local/lib/python3.10/site-packages/huggingface_hub/file_download.py\u001b[0m in \u001b[0;36m_request_wrapper\u001b[0;34m(method, url, follow_relative_redirects, **params)\u001b[0m\n\u001b[1;32m    308\u001b[0m     \u001b[0;31m# Perform request and return if status_code is not in the retry list.\u001b[0m\u001b[0;34m\u001b[0m\u001b[0;34m\u001b[0m\u001b[0m\n\u001b[0;32m--> 309\u001b[0;31m     \u001b[0mresponse\u001b[0m \u001b[0;34m=\u001b[0m \u001b[0mhttp_backoff\u001b[0m\u001b[0;34m(\u001b[0m\u001b[0mmethod\u001b[0m\u001b[0;34m=\u001b[0m\u001b[0mmethod\u001b[0m\u001b[0;34m,\u001b[0m \u001b[0murl\u001b[0m\u001b[0;34m=\u001b[0m\u001b[0murl\u001b[0m\u001b[0;34m,\u001b[0m \u001b[0;34m**\u001b[0m\u001b[0mparams\u001b[0m\u001b[0;34m,\u001b[0m \u001b[0mretry_on_exceptions\u001b[0m\u001b[0;34m=\u001b[0m\u001b[0;34m(\u001b[0m\u001b[0;34m)\u001b[0m\u001b[0;34m,\u001b[0m \u001b[0mretry_on_status_codes\u001b[0m\u001b[0;34m=\u001b[0m\u001b[0;34m(\u001b[0m\u001b[0;36m429\u001b[0m\u001b[0;34m,\u001b[0m\u001b[0;34m)\u001b[0m\u001b[0;34m)\u001b[0m\u001b[0;34m\u001b[0m\u001b[0;34m\u001b[0m\u001b[0m\n\u001b[0m\u001b[1;32m    310\u001b[0m     \u001b[0mhf_raise_for_status\u001b[0m\u001b[0;34m(\u001b[0m\u001b[0mresponse\u001b[0m\u001b[0;34m)\u001b[0m\u001b[0;34m\u001b[0m\u001b[0;34m\u001b[0m\u001b[0m\n",
      "\u001b[0;32m~/.local/lib/python3.10/site-packages/huggingface_hub/utils/_http.py\u001b[0m in \u001b[0;36mhttp_backoff\u001b[0;34m(method, url, max_retries, base_wait_time, max_wait_time, retry_on_exceptions, retry_on_status_codes, **kwargs)\u001b[0m\n\u001b[1;32m    309\u001b[0m             \u001b[0;31m# Perform request and return if status_code is not in the retry list.\u001b[0m\u001b[0;34m\u001b[0m\u001b[0;34m\u001b[0m\u001b[0m\n\u001b[0;32m--> 310\u001b[0;31m             \u001b[0mresponse\u001b[0m \u001b[0;34m=\u001b[0m \u001b[0msession\u001b[0m\u001b[0;34m.\u001b[0m\u001b[0mrequest\u001b[0m\u001b[0;34m(\u001b[0m\u001b[0mmethod\u001b[0m\u001b[0;34m=\u001b[0m\u001b[0mmethod\u001b[0m\u001b[0;34m,\u001b[0m \u001b[0murl\u001b[0m\u001b[0;34m=\u001b[0m\u001b[0murl\u001b[0m\u001b[0;34m,\u001b[0m \u001b[0;34m**\u001b[0m\u001b[0mkwargs\u001b[0m\u001b[0;34m)\u001b[0m\u001b[0;34m\u001b[0m\u001b[0;34m\u001b[0m\u001b[0m\n\u001b[0m\u001b[1;32m    311\u001b[0m             \u001b[0;32mif\u001b[0m \u001b[0mresponse\u001b[0m\u001b[0;34m.\u001b[0m\u001b[0mstatus_code\u001b[0m \u001b[0;32mnot\u001b[0m \u001b[0;32min\u001b[0m \u001b[0mretry_on_status_codes\u001b[0m\u001b[0;34m:\u001b[0m\u001b[0;34m\u001b[0m\u001b[0;34m\u001b[0m\u001b[0m\n",
      "\u001b[0;32m/kernel/fallback/lib/python3.10/site-packages/requests/sessions.py\u001b[0m in \u001b[0;36mrequest\u001b[0;34m(self, method, url, params, data, headers, cookies, files, auth, timeout, allow_redirects, proxies, hooks, stream, verify, cert, json)\u001b[0m\n\u001b[1;32m    588\u001b[0m         \u001b[0msend_kwargs\u001b[0m\u001b[0;34m.\u001b[0m\u001b[0mupdate\u001b[0m\u001b[0;34m(\u001b[0m\u001b[0msettings\u001b[0m\u001b[0;34m)\u001b[0m\u001b[0;34m\u001b[0m\u001b[0;34m\u001b[0m\u001b[0m\n\u001b[0;32m--> 589\u001b[0;31m         \u001b[0mresp\u001b[0m \u001b[0;34m=\u001b[0m \u001b[0mself\u001b[0m\u001b[0;34m.\u001b[0m\u001b[0msend\u001b[0m\u001b[0;34m(\u001b[0m\u001b[0mprep\u001b[0m\u001b[0;34m,\u001b[0m \u001b[0;34m**\u001b[0m\u001b[0msend_kwargs\u001b[0m\u001b[0;34m)\u001b[0m\u001b[0;34m\u001b[0m\u001b[0;34m\u001b[0m\u001b[0m\n\u001b[0m\u001b[1;32m    590\u001b[0m \u001b[0;34m\u001b[0m\u001b[0m\n",
      "\u001b[0;32m/kernel/fallback/lib/python3.10/site-packages/requests/sessions.py\u001b[0m in \u001b[0;36msend\u001b[0;34m(self, request, **kwargs)\u001b[0m\n\u001b[1;32m    702\u001b[0m         \u001b[0;31m# Send the request\u001b[0m\u001b[0;34m\u001b[0m\u001b[0;34m\u001b[0m\u001b[0m\n\u001b[0;32m--> 703\u001b[0;31m         \u001b[0mr\u001b[0m \u001b[0;34m=\u001b[0m \u001b[0madapter\u001b[0m\u001b[0;34m.\u001b[0m\u001b[0msend\u001b[0m\u001b[0;34m(\u001b[0m\u001b[0mrequest\u001b[0m\u001b[0;34m,\u001b[0m \u001b[0;34m**\u001b[0m\u001b[0mkwargs\u001b[0m\u001b[0;34m)\u001b[0m\u001b[0;34m\u001b[0m\u001b[0;34m\u001b[0m\u001b[0m\n\u001b[0m\u001b[1;32m    704\u001b[0m \u001b[0;34m\u001b[0m\u001b[0m\n",
      "\u001b[0;32m~/.local/lib/python3.10/site-packages/huggingface_hub/utils/_http.py\u001b[0m in \u001b[0;36msend\u001b[0;34m(self, request, *args, **kwargs)\u001b[0m\n\u001b[1;32m     95\u001b[0m         \u001b[0;32mtry\u001b[0m\u001b[0;34m:\u001b[0m\u001b[0;34m\u001b[0m\u001b[0;34m\u001b[0m\u001b[0m\n\u001b[0;32m---> 96\u001b[0;31m             \u001b[0;32mreturn\u001b[0m \u001b[0msuper\u001b[0m\u001b[0;34m(\u001b[0m\u001b[0;34m)\u001b[0m\u001b[0;34m.\u001b[0m\u001b[0msend\u001b[0m\u001b[0;34m(\u001b[0m\u001b[0mrequest\u001b[0m\u001b[0;34m,\u001b[0m \u001b[0;34m*\u001b[0m\u001b[0margs\u001b[0m\u001b[0;34m,\u001b[0m \u001b[0;34m**\u001b[0m\u001b[0mkwargs\u001b[0m\u001b[0;34m)\u001b[0m\u001b[0;34m\u001b[0m\u001b[0;34m\u001b[0m\u001b[0m\n\u001b[0m\u001b[1;32m     97\u001b[0m         \u001b[0;32mexcept\u001b[0m \u001b[0mrequests\u001b[0m\u001b[0;34m.\u001b[0m\u001b[0mRequestException\u001b[0m \u001b[0;32mas\u001b[0m \u001b[0me\u001b[0m\u001b[0;34m:\u001b[0m\u001b[0;34m\u001b[0m\u001b[0;34m\u001b[0m\u001b[0m\n",
      "\u001b[0;32m/kernel/fallback/lib/python3.10/site-packages/requests/adapters.py\u001b[0m in \u001b[0;36msend\u001b[0;34m(self, request, stream, timeout, verify, cert, proxies)\u001b[0m\n\u001b[1;32m    531\u001b[0m             \u001b[0;32melif\u001b[0m \u001b[0misinstance\u001b[0m\u001b[0;34m(\u001b[0m\u001b[0me\u001b[0m\u001b[0;34m,\u001b[0m \u001b[0mReadTimeoutError\u001b[0m\u001b[0;34m)\u001b[0m\u001b[0;34m:\u001b[0m\u001b[0;34m\u001b[0m\u001b[0;34m\u001b[0m\u001b[0m\n\u001b[0;32m--> 532\u001b[0;31m                 \u001b[0;32mraise\u001b[0m \u001b[0mReadTimeout\u001b[0m\u001b[0;34m(\u001b[0m\u001b[0me\u001b[0m\u001b[0;34m,\u001b[0m \u001b[0mrequest\u001b[0m\u001b[0;34m=\u001b[0m\u001b[0mrequest\u001b[0m\u001b[0;34m)\u001b[0m\u001b[0;34m\u001b[0m\u001b[0;34m\u001b[0m\u001b[0m\n\u001b[0m\u001b[1;32m    533\u001b[0m             \u001b[0;32melif\u001b[0m \u001b[0misinstance\u001b[0m\u001b[0;34m(\u001b[0m\u001b[0me\u001b[0m\u001b[0;34m,\u001b[0m \u001b[0m_InvalidHeader\u001b[0m\u001b[0;34m)\u001b[0m\u001b[0;34m:\u001b[0m\u001b[0;34m\u001b[0m\u001b[0;34m\u001b[0m\u001b[0m\n",
      "\u001b[0;31mReadTimeout\u001b[0m: (ReadTimeoutError(\"HTTPSConnectionPool(host='huggingface.co', port=443): Read timed out. (read timeout=10)\"), '(Request ID: 5121fdfc-31ec-4580-b245-bd4ec0d82906)')",
      "\nThe above exception was the direct cause of the following exception:\n",
      "\u001b[0;31mLocalEntryNotFoundError\u001b[0m                   Traceback (most recent call last)",
      "\u001b[0;32m/tmp/ipykernel_5675/2724897777.py\u001b[0m in \u001b[0;36m<cell line: 1>\u001b[0;34m()\u001b[0m\n\u001b[0;32m----> 1\u001b[0;31m \u001b[0mtext_pipeline_xlarge\u001b[0m \u001b[0;34m=\u001b[0m \u001b[0mTrellisTextTo3DPipeline\u001b[0m\u001b[0;34m.\u001b[0m\u001b[0mfrom_pretrained\u001b[0m\u001b[0;34m(\u001b[0m\u001b[0;34m\"microsoft/TRELLIS-text-xlarge\"\u001b[0m\u001b[0;34m)\u001b[0m\u001b[0;34m\u001b[0m\u001b[0;34m\u001b[0m\u001b[0m\n\u001b[0m\u001b[1;32m      2\u001b[0m \u001b[0mtext_pipeline_xlarge\u001b[0m\u001b[0;34m.\u001b[0m\u001b[0mcuda\u001b[0m\u001b[0;34m(\u001b[0m\u001b[0;34m)\u001b[0m\u001b[0;34m\u001b[0m\u001b[0;34m\u001b[0m\u001b[0m\n",
      "\u001b[0;32m~/work/resources/test_project/submodules/TRELLIS/trellis/pipelines/trellis_text_to_3d.py\u001b[0m in \u001b[0;36mfrom_pretrained\u001b[0;34m(path)\u001b[0m\n\u001b[1;32m     47\u001b[0m             \u001b[0mpath\u001b[0m \u001b[0;34m(\u001b[0m\u001b[0mstr\u001b[0m\u001b[0;34m)\u001b[0m\u001b[0;34m:\u001b[0m \u001b[0mThe\u001b[0m \u001b[0mpath\u001b[0m \u001b[0mto\u001b[0m \u001b[0mthe\u001b[0m \u001b[0mmodel\u001b[0m\u001b[0;34m.\u001b[0m \u001b[0mCan\u001b[0m \u001b[0mbe\u001b[0m \u001b[0meither\u001b[0m \u001b[0mlocal\u001b[0m \u001b[0mpath\u001b[0m \u001b[0;32mor\u001b[0m \u001b[0ma\u001b[0m \u001b[0mHugging\u001b[0m \u001b[0mFace\u001b[0m \u001b[0mrepository\u001b[0m\u001b[0;34m.\u001b[0m\u001b[0;34m\u001b[0m\u001b[0;34m\u001b[0m\u001b[0m\n\u001b[1;32m     48\u001b[0m         \"\"\"\n\u001b[0;32m---> 49\u001b[0;31m         \u001b[0mpipeline\u001b[0m \u001b[0;34m=\u001b[0m \u001b[0msuper\u001b[0m\u001b[0;34m(\u001b[0m\u001b[0mTrellisTextTo3DPipeline\u001b[0m\u001b[0;34m,\u001b[0m \u001b[0mTrellisTextTo3DPipeline\u001b[0m\u001b[0;34m)\u001b[0m\u001b[0;34m.\u001b[0m\u001b[0mfrom_pretrained\u001b[0m\u001b[0;34m(\u001b[0m\u001b[0mpath\u001b[0m\u001b[0;34m)\u001b[0m\u001b[0;34m\u001b[0m\u001b[0;34m\u001b[0m\u001b[0m\n\u001b[0m\u001b[1;32m     50\u001b[0m         \u001b[0mnew_pipeline\u001b[0m \u001b[0;34m=\u001b[0m \u001b[0mTrellisTextTo3DPipeline\u001b[0m\u001b[0;34m(\u001b[0m\u001b[0;34m)\u001b[0m\u001b[0;34m\u001b[0m\u001b[0;34m\u001b[0m\u001b[0m\n\u001b[1;32m     51\u001b[0m         \u001b[0mnew_pipeline\u001b[0m\u001b[0;34m.\u001b[0m\u001b[0m__dict__\u001b[0m \u001b[0;34m=\u001b[0m \u001b[0mpipeline\u001b[0m\u001b[0;34m.\u001b[0m\u001b[0m__dict__\u001b[0m\u001b[0;34m\u001b[0m\u001b[0;34m\u001b[0m\u001b[0m\n",
      "\u001b[0;32m~/work/resources/test_project/submodules/TRELLIS/trellis/pipelines/base.py\u001b[0m in \u001b[0;36mfrom_pretrained\u001b[0;34m(path)\u001b[0m\n\u001b[1;32m     32\u001b[0m         \u001b[0;32melse\u001b[0m\u001b[0;34m:\u001b[0m\u001b[0;34m\u001b[0m\u001b[0;34m\u001b[0m\u001b[0m\n\u001b[1;32m     33\u001b[0m             \u001b[0;32mfrom\u001b[0m \u001b[0mhuggingface_hub\u001b[0m \u001b[0;32mimport\u001b[0m \u001b[0mhf_hub_download\u001b[0m\u001b[0;34m\u001b[0m\u001b[0;34m\u001b[0m\u001b[0m\n\u001b[0;32m---> 34\u001b[0;31m             \u001b[0mconfig_file\u001b[0m \u001b[0;34m=\u001b[0m \u001b[0mhf_hub_download\u001b[0m\u001b[0;34m(\u001b[0m\u001b[0mpath\u001b[0m\u001b[0;34m,\u001b[0m \u001b[0;34m\"pipeline.json\"\u001b[0m\u001b[0;34m)\u001b[0m\u001b[0;34m\u001b[0m\u001b[0;34m\u001b[0m\u001b[0m\n\u001b[0m\u001b[1;32m     35\u001b[0m \u001b[0;34m\u001b[0m\u001b[0m\n\u001b[1;32m     36\u001b[0m         \u001b[0;32mwith\u001b[0m \u001b[0mopen\u001b[0m\u001b[0;34m(\u001b[0m\u001b[0mconfig_file\u001b[0m\u001b[0;34m,\u001b[0m \u001b[0;34m'r'\u001b[0m\u001b[0;34m)\u001b[0m \u001b[0;32mas\u001b[0m \u001b[0mf\u001b[0m\u001b[0;34m:\u001b[0m\u001b[0;34m\u001b[0m\u001b[0;34m\u001b[0m\u001b[0m\n",
      "\u001b[0;32m~/.local/lib/python3.10/site-packages/huggingface_hub/utils/_validators.py\u001b[0m in \u001b[0;36m_inner_fn\u001b[0;34m(*args, **kwargs)\u001b[0m\n\u001b[1;32m    112\u001b[0m             \u001b[0mkwargs\u001b[0m \u001b[0;34m=\u001b[0m \u001b[0msmoothly_deprecate_use_auth_token\u001b[0m\u001b[0;34m(\u001b[0m\u001b[0mfn_name\u001b[0m\u001b[0;34m=\u001b[0m\u001b[0mfn\u001b[0m\u001b[0;34m.\u001b[0m\u001b[0m__name__\u001b[0m\u001b[0;34m,\u001b[0m \u001b[0mhas_token\u001b[0m\u001b[0;34m=\u001b[0m\u001b[0mhas_token\u001b[0m\u001b[0;34m,\u001b[0m \u001b[0mkwargs\u001b[0m\u001b[0;34m=\u001b[0m\u001b[0mkwargs\u001b[0m\u001b[0;34m)\u001b[0m\u001b[0;34m\u001b[0m\u001b[0;34m\u001b[0m\u001b[0m\n\u001b[1;32m    113\u001b[0m \u001b[0;34m\u001b[0m\u001b[0m\n\u001b[0;32m--> 114\u001b[0;31m         \u001b[0;32mreturn\u001b[0m \u001b[0mfn\u001b[0m\u001b[0;34m(\u001b[0m\u001b[0;34m*\u001b[0m\u001b[0margs\u001b[0m\u001b[0;34m,\u001b[0m \u001b[0;34m**\u001b[0m\u001b[0mkwargs\u001b[0m\u001b[0;34m)\u001b[0m\u001b[0;34m\u001b[0m\u001b[0;34m\u001b[0m\u001b[0m\n\u001b[0m\u001b[1;32m    115\u001b[0m \u001b[0;34m\u001b[0m\u001b[0m\n\u001b[1;32m    116\u001b[0m     \u001b[0;32mreturn\u001b[0m \u001b[0m_inner_fn\u001b[0m  \u001b[0;31m# type: ignore\u001b[0m\u001b[0;34m\u001b[0m\u001b[0;34m\u001b[0m\u001b[0m\n",
      "\u001b[0;32m~/.local/lib/python3.10/site-packages/huggingface_hub/file_download.py\u001b[0m in \u001b[0;36mhf_hub_download\u001b[0;34m(repo_id, filename, subfolder, repo_type, revision, library_name, library_version, cache_dir, local_dir, user_agent, force_download, proxies, etag_timeout, token, local_files_only, headers, endpoint, resume_download, force_filename, local_dir_use_symlinks)\u001b[0m\n\u001b[1;32m   1008\u001b[0m         )\n\u001b[1;32m   1009\u001b[0m     \u001b[0;32melse\u001b[0m\u001b[0;34m:\u001b[0m\u001b[0;34m\u001b[0m\u001b[0;34m\u001b[0m\u001b[0m\n\u001b[0;32m-> 1010\u001b[0;31m         return _hf_hub_download_to_cache_dir(\n\u001b[0m\u001b[1;32m   1011\u001b[0m             \u001b[0;31m# Destination\u001b[0m\u001b[0;34m\u001b[0m\u001b[0;34m\u001b[0m\u001b[0m\n\u001b[1;32m   1012\u001b[0m             \u001b[0mcache_dir\u001b[0m\u001b[0;34m=\u001b[0m\u001b[0mcache_dir\u001b[0m\u001b[0;34m,\u001b[0m\u001b[0;34m\u001b[0m\u001b[0;34m\u001b[0m\u001b[0m\n",
      "\u001b[0;32m~/.local/lib/python3.10/site-packages/huggingface_hub/file_download.py\u001b[0m in \u001b[0;36m_hf_hub_download_to_cache_dir\u001b[0;34m(cache_dir, repo_id, filename, repo_type, revision, endpoint, etag_timeout, headers, proxies, token, local_files_only, force_download)\u001b[0m\n\u001b[1;32m   1115\u001b[0m \u001b[0;34m\u001b[0m\u001b[0m\n\u001b[1;32m   1116\u001b[0m         \u001b[0;31m# Otherwise, raise appropriate error\u001b[0m\u001b[0;34m\u001b[0m\u001b[0;34m\u001b[0m\u001b[0m\n\u001b[0;32m-> 1117\u001b[0;31m         \u001b[0m_raise_on_head_call_error\u001b[0m\u001b[0;34m(\u001b[0m\u001b[0mhead_call_error\u001b[0m\u001b[0;34m,\u001b[0m \u001b[0mforce_download\u001b[0m\u001b[0;34m,\u001b[0m \u001b[0mlocal_files_only\u001b[0m\u001b[0;34m)\u001b[0m\u001b[0;34m\u001b[0m\u001b[0;34m\u001b[0m\u001b[0m\n\u001b[0m\u001b[1;32m   1118\u001b[0m \u001b[0;34m\u001b[0m\u001b[0m\n\u001b[1;32m   1119\u001b[0m     \u001b[0;31m# From now on, etag, commit_hash, url and size are not None.\u001b[0m\u001b[0;34m\u001b[0m\u001b[0;34m\u001b[0m\u001b[0m\n",
      "\u001b[0;32m~/.local/lib/python3.10/site-packages/huggingface_hub/file_download.py\u001b[0m in \u001b[0;36m_raise_on_head_call_error\u001b[0;34m(head_call_error, force_download, local_files_only)\u001b[0m\n\u001b[1;32m   1659\u001b[0m     \u001b[0;32melse\u001b[0m\u001b[0;34m:\u001b[0m\u001b[0;34m\u001b[0m\u001b[0;34m\u001b[0m\u001b[0m\n\u001b[1;32m   1660\u001b[0m         \u001b[0;31m# Otherwise: most likely a connection issue or Hub downtime => let's warn the user\u001b[0m\u001b[0;34m\u001b[0m\u001b[0;34m\u001b[0m\u001b[0m\n\u001b[0;32m-> 1661\u001b[0;31m         raise LocalEntryNotFoundError(\n\u001b[0m\u001b[1;32m   1662\u001b[0m             \u001b[0;34m\"An error happened while trying to locate the file on the Hub and we cannot find the requested files\"\u001b[0m\u001b[0;34m\u001b[0m\u001b[0;34m\u001b[0m\u001b[0m\n\u001b[1;32m   1663\u001b[0m             \u001b[0;34m\" in the local cache. Please check your connection and try again or make sure your Internet connection\"\u001b[0m\u001b[0;34m\u001b[0m\u001b[0;34m\u001b[0m\u001b[0m\n",
      "\u001b[0;31mLocalEntryNotFoundError\u001b[0m: An error happened while trying to locate the file on the Hub and we cannot find the requested files in the local cache. Please check your connection and try again or make sure your Internet connection is on."
     ]
    }
   ],
   "source": [
    "# Загрузка расширенной модели (xlarge)\n",
    "print(\"Загрузка модели: microsoft/TRELLIS-text-xlarge\")\n",
    "text_pipeline_xlarge = TrellisTextTo3DPipeline.from_pretrained(\"microsoft/TRELLIS-text-xlarge\")\n",
    "text_pipeline_xlarge.cuda()\n",
    "print(\"Модель 'xlarge' загружена на GPU.\")"
   ]
  },
  {
   "cell_type": "code",
   "execution_count": 20,
   "id": "fad66e41-1579-404e-acaa-32ac8bbd60f5",
   "metadata": {
    "execution": {
     "iopub.execute_input": "2025-08-04T18:49:17.149040Z",
     "iopub.status.busy": "2025-08-04T18:49:17.147625Z",
     "iopub.status.idle": "2025-08-04T18:49:17.164734Z",
     "shell.execute_reply": "2025-08-04T18:49:17.163720Z",
     "shell.execute_reply.started": "2025-08-04T18:49:17.148987Z"
    }
   },
   "outputs": [],
   "source": [
    "# Папка для сохранения результатов\n",
    "os.makedirs(\"outputs\", exist_ok=True)"
   ]
  },
  {
   "cell_type": "code",
   "execution_count": 21,
   "id": "054f7f68-4731-47fc-8a6a-3428d03cccb7",
   "metadata": {
    "execution": {
     "iopub.execute_input": "2025-08-04T18:49:17.167359Z",
     "iopub.status.busy": "2025-08-04T18:49:17.166102Z",
     "iopub.status.idle": "2025-08-04T18:49:17.210299Z",
     "shell.execute_reply": "2025-08-04T18:49:17.209033Z",
     "shell.execute_reply.started": "2025-08-04T18:49:17.167322Z"
    },
    "tags": []
   },
   "outputs": [
    {
     "name": "stdout",
     "output_type": "stream",
     "text": [
      "Текстовый промпт: 'bottle of red magical potion'\n"
     ]
    },
    {
     "ename": "AttributeError",
     "evalue": "'NoneType' object has no attribute 'run'",
     "output_type": "error",
     "traceback": [
      "\u001b[0;31m---------------------------------------------------------------------------\u001b[0m",
      "\u001b[0;31mAttributeError\u001b[0m                            Traceback (most recent call last)",
      "\u001b[0;32m<timed exec>\u001b[0m in \u001b[0;36m<module>\u001b[0;34m\u001b[0m\n",
      "\u001b[0;31mAttributeError\u001b[0m: 'NoneType' object has no attribute 'run'"
     ]
    }
   ],
   "source": [
    "%%time\n",
    "\n",
    "# Список примеров текстовых описаний\n",
    "text_prompts = [\n",
    "    \"magical pony\",\n",
    "    \"poisonous fly agaric\",\n",
    "    \"demonic chest with horns\",\n",
    "    \"christmas tree\",\n",
    "    \"holy sword\",\n",
    "    \"cyberpunk bow\",\n",
    "    \"desktop lamp\",\n",
    "    \"bottle of red magical potion\"\n",
    "]\n",
    "\n",
    "# Выбор промпта (например, 7-й — \"bottle of red magical potion\")\n",
    "text_prompt = text_prompts[7]\n",
    "print(f\"Текстовый промпт: '{text_prompt}'\")\n",
    "\n",
    "# Генерация 3D-объекта\n",
    "outputs = text_pipeline.run(\n",
    "    text_prompt,\n",
    "    seed=1,  # Для воспроизводимости\n",
    ")\n",
    "\n",
    "print(\"Текстовый инференс завершён. Получены 3D-репрезентации.\")"
   ]
  },
  {
   "cell_type": "code",
   "execution_count": 14,
   "id": "34c2c08e-7511-4a36-aa66-ff71c2d363d4",
   "metadata": {
    "execution": {
     "iopub.execute_input": "2025-08-04T17:56:42.975176Z",
     "iopub.status.busy": "2025-08-04T17:56:42.974115Z",
     "iopub.status.idle": "2025-08-04T17:57:10.984450Z",
     "shell.execute_reply": "2025-08-04T17:57:10.982956Z",
     "shell.execute_reply.started": "2025-08-04T17:56:42.975139Z"
    },
    "tags": []
   },
   "outputs": [
    {
     "name": "stdout",
     "output_type": "stream",
     "text": [
      "Before postprocess: 305450 vertices, 610968 faces\n"
     ]
    },
    {
     "name": "stderr",
     "output_type": "stream",
     "text": [
      "Decimating Mesh: 100%|██████████[00:05<00:00]\n"
     ]
    },
    {
     "name": "stdout",
     "output_type": "stream",
     "text": [
      "After decimate: 995 vertices, 2000 faces\n"
     ]
    },
    {
     "name": "stderr",
     "output_type": "stream",
     "text": [
      "Rasterizing: 100%|██████████| 1000/1000 [00:01<00:00, 752.31it/s]"
     ]
    },
    {
     "name": "stdout",
     "output_type": "stream",
     "text": [
      "Found 1563 invisible faces\n",
      "Dual graph: 2945 edges\n",
      "Mincut solved, start checking the cut\n",
      "Removed 1590 faces by mincut\n",
      "INFO- Loaded 225 vertices and 410 faces.\n",
      "\n",
      "100% done "
     ]
    },
    {
     "name": "stderr",
     "output_type": "stream",
     "text": [
      "\n"
     ]
    },
    {
     "name": "stdout",
     "output_type": "stream",
     "text": [
      "\n",
      "After remove invisible faces: 225 vertices, 426 faces\n"
     ]
    },
    {
     "name": "stderr",
     "output_type": "stream",
     "text": [
      "Rendering: 100it [00:01, 65.69it/s]\n",
      "Texture baking (opt): UV: 100%|██████████| 100/100 [00:00<00:00, 1028.57it/s]\n",
      "Texture baking (opt): optimizing: 100%|██████████| 2500/2500 [00:13<00:00, 185.58it/s, loss=0.0867]\n"
     ]
    },
    {
     "name": "stdout",
     "output_type": "stream",
     "text": [
      "Done!\n",
      "CPU times: user 30.1 s, sys: 1.89 s, total: 31.9 s\n",
      "Wall time: 28 s\n"
     ]
    }
   ],
   "source": [
    "%%time\n",
    "\n",
    "# Оценка степени упрощения меша\n",
    "n_faces = outputs[\"mesh\"][0].faces.size()[0]\n",
    "simplify_ratio = 1 - (2000 / n_faces)\n",
    "simplify_ratio = max(0.0, min(1.0, simplify_ratio))  # Ограничиваем в пределах [0, 1]\n",
    "\n",
    "print(f\"Исходное количество полигонов: {n_faces}\")\n",
    "print(f\"Коэффициент упрощения: {simplify_ratio:.3f}\")\n",
    "\n",
    "# Создание 3D-файла в формате GLB\n",
    "glb = postprocessing_utils.to_glb(\n",
    "    outputs['gaussian'][0],      # Гауссовы сплэты как источник цвета и деталей\n",
    "    outputs['mesh'][0],          # Полигональная сетка\n",
    "    simplify=simplify_ratio,     # Упрощение меша\n",
    "    texture_size=1024,           # Разрешение текстуры\n",
    "    fill_holes=True              # Автоматическое заполнение дыр\n",
    ")\n",
    "\n",
    "# Экспорт\n",
    "safe_prompt = \"\".join(c if c.isalnum() or c in (' ', '-', '_') else \"_\" for c in text_prompt)\n",
    "output_path = f\"outputs/{safe_prompt}.glb\"\n",
    "glb.export(output_path)\n",
    "\n",
    "print(f\"Файл .glb успешно сохранён: {output_path}\")"
   ]
  },
  {
   "cell_type": "code",
   "execution_count": null,
   "id": "fad0fd69-4273-4127-8378-95829e1b3caf",
   "metadata": {},
   "outputs": [],
   "source": []
  }
 ],
 "metadata": {
  "kernelspec": {
   "display_name": "DataSphere Kernel",
   "language": "python",
   "name": "python3"
  },
  "language_info": {
   "codemirror_mode": {
    "name": "ipython",
    "version": 3
   },
   "file_extension": ".py",
   "mimetype": "text/x-python",
   "name": "python",
   "nbconvert_exporter": "python",
   "pygments_lexer": "ipython3",
   "version": "3.10.12"
  }
 },
 "nbformat": 4,
 "nbformat_minor": 5
}
